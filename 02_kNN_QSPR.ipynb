{
 "cells": [
  {
   "cell_type": "markdown",
   "metadata": {
    "id": "YMiI5CDX5JZ0"
   },
   "source": [
    "# 2. kNN for (Q)SPR modeling ⚛️\n",
    "\n",
    "<a href=\"https://githubtocolab.com/edgarsmdn/MLCE_book/blob/main/02_kNN_QSPR.ipynb\" target=\"_parent\"><img src=\"https://colab.research.google.com/assets/colab-badge.svg\" alt=\"Open in Colab\"/></a>"
   ]
  },
  {
   "cell_type": "markdown",
   "metadata": {
    "id": "dlaMhdbLXofj"
   },
   "source": [
    "## Goals of this exercise 🌟"
   ]
  },
  {
   "cell_type": "markdown",
   "metadata": {
    "id": "YCWB0IvbXp4O"
   },
   "source": [
    "*   We will learn how to construct a simple SPR model using kNN\n",
    "*   We will learn the importance of data normalization (scaling)\n",
    "*   We will review the concepts of training and test split and cross-validation\n",
    "*   We will review some of the performance metrics for assesing classification models"
   ]
  },
  {
   "cell_type": "markdown",
   "metadata": {
    "id": "XI_fHNSEYck6"
   },
   "source": [
    "## A quick reminder ✅"
   ]
  },
  {
   "cell_type": "markdown",
   "metadata": {
    "id": "8wst0cbF39zU"
   },
   "source": [
    "Probably the simplest data-driven model that you can think of is K-nearest neighbours (kNN). It simply predicts future data as the average (or mode) of the \"k\" nearest neighbours of the queried point.\n",
    "\n",
    "As simple as this idea might be, it works relatively good in various applications. One of them is the generation of (quantitative) structure-property relationships ((Q)SPR) models {cite}`yuan2019developing, shen2003development`. Whether the word \"Quantitative\" is sometimes included or not depends on whether the model in question is a regression model or a classification model. Do you remember the difference?\n",
    "\n",
    "The key question in kNN is what do we consider a neighbour and what not? This indicates us that we need to define a sort of similarity or distance metric that allows us to distinguish neighbouring points from points that are far away. \n",
    "\n",
    "Common distance metrics use the different [mathematical norms](https://en.wikipedia.org/wiki/Norm_(mathematics)). For example, the Euclidean distance:\n",
    "\n",
<<<<<<< Updated upstream
    "\\begin{equation}\n",
    " d(\\textbf{x}, \\textbf{x'}) = \\sqrt{\\sum_i^D (x_i - x'_i)^2}\n",
    "\\end{equation}\n",
    "\n",
    "```{figure} media/02_kNN/kNN.png\n",
    ":alt: kNN\n",
    ":width: 75%\n",
=======
    "$$\n",
    " d(\\textbf{x}, \\textbf{x'}) = \\sqrt{\\sum_i^D (x_i - x'_i)^2}\n",
    "$$\n",
    "\n",
    "```{figure} media/02_kNN/kNN.png\n",
    ":alt: kNN\n",
    ":width: 60%\n",
>>>>>>> Stashed changes
    ":align: center\n",
    "\n",
    "Among the k-nearest neighbours (k=5), the majority of points are red 1s. Therefore, the queried point (green x) will be labeled as \"red 1\". Image taken from {cite}`murphy2022probabilistic`. \n",
    "```\n",
    "\n",
    "\n"
   ]
  },
  {
   "cell_type": "markdown",
   "metadata": {
    "id": "1sWnwvt_FjQa"
   },
   "source": [
    "Let's exemplify the use of kNN by constructing a SPR model that predicts the whether a molecule is mutagenic or not. \n",
    "\n",
    "Mutagenicity is the property of substances to induce genetic mutation. It is one of the most important environmental, health and safety (EHS) properties to check when dealing with novel chemicals (e.g., drugs or solvents). In this case, we are going to use the data of mutagenicity on Salmonella typhimurium (Ames test). This dataset was collected by the [Istituto di Ricerche Farmacologiche Mario Negri](https://www.marionegri.it/), merging experimental data from a benchmark dataset\n",
    "compiled by {cite}`hansen2009benchmark` from a collection of data made available\n",
    "by the [Japan Health Ministry](https://www.nihs.go.jp/dgm/amesqsar.html) within their Ames (Q)SAR project."
   ]
  },
  {
   "cell_type": "markdown",
   "metadata": {
    "id": "R9-iQHe-XZm6"
   },
   "source": [
    "Let's fist import some libraries"
   ]
  },
  {
   "cell_type": "code",
   "execution_count": 1,
   "metadata": {
    "id": "V3C3ZNc8XjsA"
   },
   "outputs": [],
   "source": [
    "import pandas as pd\n",
    "import matplotlib.pyplot as plt\n",
<<<<<<< Updated upstream
    "import seaborn as sn\n",
    "import numpy as np\n",
    "%matplotlib inline"
=======
    "import numpy as np"
>>>>>>> Stashed changes
   ]
  },
  {
   "cell_type": "markdown",
   "metadata": {
    "id": "oWmicwjH5Ksm"
   },
   "source": [
    "## Get data 📚\n",
    "\n",
    "We have previously computed some molecular descriptors that will serve as input to our model. However, this is also an important step to consider when facing a problem like this: what are the important inputs to model mutagenicity? how do we know if these pre-computed features are enough for modeling mutagenicity? can we generate relevant molecular features automatically? 🤔\n",
    "\n",
    "Ok, let's use [pandas](https://pandas.pydata.org/) to import the data as a DataFrame..."
   ]
  },
  {
   "cell_type": "code",
   "execution_count": 2,
   "metadata": {
    "colab": {
     "base_uri": "https://localhost:8080/",
     "height": 679
    },
    "id": "vn-yAIhU5ILt",
<<<<<<< Updated upstream
    "outputId": "a468e405-9061-4763-8ece-0b8223d03486"
=======
    "outputId": "02d76c03-10c3-4b01-fa93-abe17faefd80"
>>>>>>> Stashed changes
   },
   "outputs": [
    {
     "data": {
      "text/html": [
       "<div>\n",
       "<style scoped>\n",
       "    .dataframe tbody tr th:only-of-type {\n",
       "        vertical-align: middle;\n",
       "    }\n",
       "\n",
       "    .dataframe tbody tr th {\n",
       "        vertical-align: top;\n",
       "    }\n",
       "\n",
       "    .dataframe thead th {\n",
       "        text-align: right;\n",
       "    }\n",
       "</style>\n",
       "<table border=\"1\" class=\"dataframe\">\n",
       "  <thead>\n",
       "    <tr style=\"text-align: right;\">\n",
       "      <th></th>\n",
       "      <th>Unnamed: 0</th>\n",
       "      <th>Id</th>\n",
       "      <th>CAS</th>\n",
       "      <th>SMILES</th>\n",
       "      <th>Status</th>\n",
       "      <th>Experimental value</th>\n",
       "      <th>Predicted value</th>\n",
       "      <th>NumValenceElectrons</th>\n",
       "      <th>qed</th>\n",
       "      <th>TPSA</th>\n",
       "      <th>MolMR</th>\n",
       "      <th>BalabanJ</th>\n",
       "      <th>BertzCT</th>\n",
       "      <th>MolWt</th>\n",
       "      <th>MolLogP</th>\n",
       "    </tr>\n",
       "  </thead>\n",
       "  <tbody>\n",
       "    <tr>\n",
       "      <th>0</th>\n",
       "      <td>0</td>\n",
       "      <td>1</td>\n",
       "      <td>100-00-5</td>\n",
       "      <td>O=[N+]([O-])c1ccc(cc1)Cl</td>\n",
       "      <td>Training</td>\n",
       "      <td>1</td>\n",
       "      <td>1</td>\n",
       "      <td>52</td>\n",
       "      <td>0.463602</td>\n",
       "      <td>43.14</td>\n",
       "      <td>38.1064</td>\n",
       "      <td>3.003401</td>\n",
       "      <td>244.429658</td>\n",
       "      <td>157.556</td>\n",
       "      <td>2.24820</td>\n",
       "    </tr>\n",
       "    <tr>\n",
       "      <th>1</th>\n",
       "      <td>1</td>\n",
       "      <td>2</td>\n",
       "      <td>100-01-6</td>\n",
       "      <td>O=[N+]([O-])c1ccc(N)cc1</td>\n",
       "      <td>Training</td>\n",
       "      <td>1</td>\n",
       "      <td>1</td>\n",
       "      <td>52</td>\n",
       "      <td>0.359544</td>\n",
       "      <td>69.16</td>\n",
       "      <td>37.5088</td>\n",
       "      <td>3.003401</td>\n",
       "      <td>242.429658</td>\n",
       "      <td>138.126</td>\n",
       "      <td>1.17700</td>\n",
       "    </tr>\n",
       "    <tr>\n",
       "      <th>2</th>\n",
       "      <td>2</td>\n",
       "      <td>3</td>\n",
       "      <td>100-02-7</td>\n",
       "      <td>O=[N+]([O-])c1ccc(O)cc1</td>\n",
       "      <td>Training</td>\n",
       "      <td>0</td>\n",
       "      <td>1</td>\n",
       "      <td>52</td>\n",
       "      <td>0.470728</td>\n",
       "      <td>63.37</td>\n",
       "      <td>34.7612</td>\n",
       "      <td>3.003401</td>\n",
       "      <td>241.674771</td>\n",
       "      <td>139.110</td>\n",
       "      <td>1.30040</td>\n",
       "    </tr>\n",
       "    <tr>\n",
       "      <th>3</th>\n",
       "      <td>3</td>\n",
       "      <td>4</td>\n",
       "      <td>100-11-8</td>\n",
       "      <td>O=[N+]([O-])c1ccc(cc1)CBr</td>\n",
       "      <td>Training</td>\n",
       "      <td>1</td>\n",
       "      <td>0</td>\n",
       "      <td>58</td>\n",
       "      <td>0.432586</td>\n",
       "      <td>43.14</td>\n",
       "      <td>45.7274</td>\n",
       "      <td>2.913802</td>\n",
       "      <td>257.648013</td>\n",
       "      <td>216.034</td>\n",
       "      <td>2.48970</td>\n",
       "    </tr>\n",
       "    <tr>\n",
       "      <th>4</th>\n",
       "      <td>4</td>\n",
       "      <td>5</td>\n",
       "      <td>100-12-9</td>\n",
       "      <td>O=[N+]([O-])c1ccc(cc1)CC</td>\n",
       "      <td>Training</td>\n",
       "      <td>0</td>\n",
       "      <td>0</td>\n",
       "      <td>58</td>\n",
       "      <td>0.479785</td>\n",
       "      <td>43.14</td>\n",
       "      <td>42.4744</td>\n",
       "      <td>2.913802</td>\n",
       "      <td>253.299498</td>\n",
       "      <td>151.165</td>\n",
       "      <td>2.15720</td>\n",
       "    </tr>\n",
       "    <tr>\n",
       "      <th>...</th>\n",
       "      <td>...</td>\n",
       "      <td>...</td>\n",
       "      <td>...</td>\n",
       "      <td>...</td>\n",
       "      <td>...</td>\n",
       "      <td>...</td>\n",
       "      <td>...</td>\n",
       "      <td>...</td>\n",
       "      <td>...</td>\n",
       "      <td>...</td>\n",
       "      <td>...</td>\n",
       "      <td>...</td>\n",
       "      <td>...</td>\n",
       "      <td>...</td>\n",
       "      <td>...</td>\n",
       "    </tr>\n",
       "    <tr>\n",
       "      <th>5759</th>\n",
       "      <td>5759</td>\n",
       "      <td>5767</td>\n",
       "      <td>20395-16-8</td>\n",
       "      <td>O=C1N(C(=O)N(C(=O)N1CC=C)CC2OC2)CC=C</td>\n",
       "      <td>Training</td>\n",
       "      <td>1</td>\n",
       "      <td>0</td>\n",
       "      <td>102</td>\n",
       "      <td>0.485090</td>\n",
       "      <td>78.53</td>\n",
       "      <td>69.3560</td>\n",
       "      <td>2.668492</td>\n",
       "      <td>627.435628</td>\n",
       "      <td>265.269</td>\n",
       "      <td>-1.05750</td>\n",
       "    </tr>\n",
       "    <tr>\n",
       "      <th>5760</th>\n",
       "      <td>5760</td>\n",
       "      <td>5768</td>\n",
       "      <td>34718-47-3</td>\n",
       "      <td>O=C(C(Br)(Br)Br)Cl</td>\n",
       "      <td>Training</td>\n",
       "      <td>1</td>\n",
       "      <td>1</td>\n",
       "      <td>42</td>\n",
       "      <td>0.495987</td>\n",
       "      <td>17.07</td>\n",
       "      <td>40.3720</td>\n",
       "      <td>3.791118</td>\n",
       "      <td>85.425922</td>\n",
       "      <td>315.186</td>\n",
       "      <td>2.59030</td>\n",
       "    </tr>\n",
       "    <tr>\n",
       "      <th>5761</th>\n",
       "      <td>5761</td>\n",
       "      <td>5769</td>\n",
       "      <td>43204-63-3</td>\n",
       "      <td>N(CCBr)CCBr</td>\n",
       "      <td>Training</td>\n",
       "      <td>1</td>\n",
       "      <td>1</td>\n",
       "      <td>44</td>\n",
       "      <td>0.568556</td>\n",
       "      <td>12.03</td>\n",
       "      <td>40.4577</td>\n",
       "      <td>2.447473</td>\n",
       "      <td>28.870765</td>\n",
       "      <td>230.931</td>\n",
       "      <td>1.36580</td>\n",
       "    </tr>\n",
       "    <tr>\n",
       "      <th>5762</th>\n",
       "      <td>5762</td>\n",
       "      <td>5770</td>\n",
       "      <td>52583-35-4</td>\n",
       "      <td>N#Cc2cc(cc(c2(N=Nc1ccc(cc1(NC(=O)C))N(CCOC)CCO...</td>\n",
       "      <td>Training</td>\n",
       "      <td>1</td>\n",
       "      <td>1</td>\n",
       "      <td>184</td>\n",
       "      <td>0.264581</td>\n",
       "      <td>185.59</td>\n",
       "      <td>125.3525</td>\n",
       "      <td>2.552977</td>\n",
       "      <td>1169.342047</td>\n",
       "      <td>485.457</td>\n",
       "      <td>3.84768</td>\n",
       "    </tr>\n",
       "    <tr>\n",
       "      <th>5763</th>\n",
       "      <td>5763</td>\n",
       "      <td>5771</td>\n",
       "      <td>188021-38-7</td>\n",
       "      <td>O(c1c(cc(cc1Br)C)C(C)(C)C)CC=C</td>\n",
       "      <td>Training</td>\n",
       "      <td>1</td>\n",
       "      <td>0</td>\n",
       "      <td>88</td>\n",
       "      <td>0.735392</td>\n",
       "      <td>9.23</td>\n",
       "      <td>73.2710</td>\n",
       "      <td>3.263016</td>\n",
       "      <td>388.457194</td>\n",
       "      <td>283.209</td>\n",
       "      <td>4.61982</td>\n",
       "    </tr>\n",
       "  </tbody>\n",
       "</table>\n",
       "<p>5764 rows × 15 columns</p>\n",
       "</div>"
      ],
      "text/plain": [
       "      Unnamed: 0    Id          CAS  \\\n",
       "0              0     1     100-00-5   \n",
       "1              1     2     100-01-6   \n",
       "2              2     3     100-02-7   \n",
       "3              3     4     100-11-8   \n",
       "4              4     5     100-12-9   \n",
       "...          ...   ...          ...   \n",
       "5759        5759  5767   20395-16-8   \n",
       "5760        5760  5768   34718-47-3   \n",
       "5761        5761  5769   43204-63-3   \n",
       "5762        5762  5770   52583-35-4   \n",
       "5763        5763  5771  188021-38-7   \n",
       "\n",
       "                                                 SMILES    Status  \\\n",
       "0                              O=[N+]([O-])c1ccc(cc1)Cl  Training   \n",
       "1                               O=[N+]([O-])c1ccc(N)cc1  Training   \n",
       "2                               O=[N+]([O-])c1ccc(O)cc1  Training   \n",
       "3                             O=[N+]([O-])c1ccc(cc1)CBr  Training   \n",
       "4                              O=[N+]([O-])c1ccc(cc1)CC  Training   \n",
       "...                                                 ...       ...   \n",
       "5759               O=C1N(C(=O)N(C(=O)N1CC=C)CC2OC2)CC=C  Training   \n",
       "5760                                 O=C(C(Br)(Br)Br)Cl  Training   \n",
       "5761                                        N(CCBr)CCBr  Training   \n",
       "5762  N#Cc2cc(cc(c2(N=Nc1ccc(cc1(NC(=O)C))N(CCOC)CCO...  Training   \n",
       "5763                     O(c1c(cc(cc1Br)C)C(C)(C)C)CC=C  Training   \n",
       "\n",
       "      Experimental value Predicted value  NumValenceElectrons       qed  \\\n",
       "0                      1               1                   52  0.463602   \n",
       "1                      1               1                   52  0.359544   \n",
       "2                      0               1                   52  0.470728   \n",
       "3                      1               0                   58  0.432586   \n",
       "4                      0               0                   58  0.479785   \n",
       "...                  ...             ...                  ...       ...   \n",
       "5759                   1               0                  102  0.485090   \n",
       "5760                   1               1                   42  0.495987   \n",
       "5761                   1               1                   44  0.568556   \n",
       "5762                   1               1                  184  0.264581   \n",
       "5763                   1               0                   88  0.735392   \n",
       "\n",
       "        TPSA     MolMR  BalabanJ      BertzCT    MolWt  MolLogP  \n",
       "0      43.14   38.1064  3.003401   244.429658  157.556  2.24820  \n",
       "1      69.16   37.5088  3.003401   242.429658  138.126  1.17700  \n",
       "2      63.37   34.7612  3.003401   241.674771  139.110  1.30040  \n",
       "3      43.14   45.7274  2.913802   257.648013  216.034  2.48970  \n",
       "4      43.14   42.4744  2.913802   253.299498  151.165  2.15720  \n",
       "...      ...       ...       ...          ...      ...      ...  \n",
       "5759   78.53   69.3560  2.668492   627.435628  265.269 -1.05750  \n",
       "5760   17.07   40.3720  3.791118    85.425922  315.186  2.59030  \n",
       "5761   12.03   40.4577  2.447473    28.870765  230.931  1.36580  \n",
       "5762  185.59  125.3525  2.552977  1169.342047  485.457  3.84768  \n",
       "5763    9.23   73.2710  3.263016   388.457194  283.209  4.61982  \n",
       "\n",
       "[5764 rows x 15 columns]"
      ]
     },
     "execution_count": 2,
     "metadata": {},
     "output_type": "execute_result"
    }
   ],
   "source": [
    "if 'google.colab' in str(get_ipython()):\n",
    "  df = pd.read_csv(\"https://raw.githubusercontent.com/edgarsmdn/MLCE_book/main/references/mutagenicity_kNN.csv\")\n",
    "else:\n",
    "  df = pd.read_csv(\"references/mutagenicity_kNN.csv\")\n",
    "\n",
    "df"
   ]
  },
  {
   "cell_type": "markdown",
   "metadata": {
    "id": "ttVnS2-dbxcy"
   },
   "source": [
    "The library pandas has many useful functions for data analytics. For example, we can print the type of the data we have..."
   ]
  },
  {
   "cell_type": "code",
   "execution_count": 3,
   "metadata": {
    "colab": {
     "base_uri": "https://localhost:8080/"
    },
    "id": "IyH-W0ty8-Oi",
<<<<<<< Updated upstream
    "outputId": "7706cfa4-ad96-4a52-e546-7cc83c005161"
=======
    "outputId": "da756743-d176-4f8b-9605-1cf02c46dd1a"
>>>>>>> Stashed changes
   },
   "outputs": [
    {
     "data": {
      "text/plain": [
       "Unnamed: 0               int64\n",
       "Id                       int64\n",
       "CAS                     object\n",
       "SMILES                  object\n",
       "Status                  object\n",
       "Experimental value       int64\n",
       "Predicted value         object\n",
       "NumValenceElectrons      int64\n",
       "qed                    float64\n",
       "TPSA                   float64\n",
       "MolMR                  float64\n",
       "BalabanJ               float64\n",
       "BertzCT                float64\n",
       "MolWt                  float64\n",
       "MolLogP                float64\n",
       "dtype: object"
      ]
     },
     "execution_count": 3,
     "metadata": {},
     "output_type": "execute_result"
    }
   ],
   "source": [
    "df.dtypes    "
   ]
  },
  {
   "cell_type": "markdown",
   "metadata": {
    "id": "v7PaIMXTcKxk"
   },
   "source": [
    "And have a look at the first rows of our data to see how it looks like"
   ]
  },
  {
   "cell_type": "code",
   "execution_count": 4,
   "metadata": {
    "colab": {
     "base_uri": "https://localhost:8080/",
     "height": 206
    },
    "id": "GBvQkpwi6vCV",
<<<<<<< Updated upstream
    "outputId": "bd1aca5e-5c9d-45fc-a399-bc7c54f482d9"
=======
    "outputId": "037881d1-27d6-4882-b240-c657dc4b64fe"
>>>>>>> Stashed changes
   },
   "outputs": [
    {
     "data": {
      "text/html": [
       "<div>\n",
       "<style scoped>\n",
       "    .dataframe tbody tr th:only-of-type {\n",
       "        vertical-align: middle;\n",
       "    }\n",
       "\n",
       "    .dataframe tbody tr th {\n",
       "        vertical-align: top;\n",
       "    }\n",
       "\n",
       "    .dataframe thead th {\n",
       "        text-align: right;\n",
       "    }\n",
       "</style>\n",
       "<table border=\"1\" class=\"dataframe\">\n",
       "  <thead>\n",
       "    <tr style=\"text-align: right;\">\n",
       "      <th></th>\n",
       "      <th>Unnamed: 0</th>\n",
       "      <th>Id</th>\n",
       "      <th>CAS</th>\n",
       "      <th>SMILES</th>\n",
       "      <th>Status</th>\n",
       "      <th>Experimental value</th>\n",
       "      <th>Predicted value</th>\n",
       "      <th>NumValenceElectrons</th>\n",
       "      <th>qed</th>\n",
       "      <th>TPSA</th>\n",
       "      <th>MolMR</th>\n",
       "      <th>BalabanJ</th>\n",
       "      <th>BertzCT</th>\n",
       "      <th>MolWt</th>\n",
       "      <th>MolLogP</th>\n",
       "    </tr>\n",
       "  </thead>\n",
       "  <tbody>\n",
       "    <tr>\n",
       "      <th>0</th>\n",
       "      <td>0</td>\n",
       "      <td>1</td>\n",
       "      <td>100-00-5</td>\n",
       "      <td>O=[N+]([O-])c1ccc(cc1)Cl</td>\n",
       "      <td>Training</td>\n",
       "      <td>1</td>\n",
       "      <td>1</td>\n",
       "      <td>52</td>\n",
       "      <td>0.463602</td>\n",
       "      <td>43.14</td>\n",
       "      <td>38.1064</td>\n",
       "      <td>3.003401</td>\n",
       "      <td>244.429658</td>\n",
       "      <td>157.556</td>\n",
       "      <td>2.2482</td>\n",
       "    </tr>\n",
       "    <tr>\n",
       "      <th>1</th>\n",
       "      <td>1</td>\n",
       "      <td>2</td>\n",
       "      <td>100-01-6</td>\n",
       "      <td>O=[N+]([O-])c1ccc(N)cc1</td>\n",
       "      <td>Training</td>\n",
       "      <td>1</td>\n",
       "      <td>1</td>\n",
       "      <td>52</td>\n",
       "      <td>0.359544</td>\n",
       "      <td>69.16</td>\n",
       "      <td>37.5088</td>\n",
       "      <td>3.003401</td>\n",
       "      <td>242.429658</td>\n",
       "      <td>138.126</td>\n",
       "      <td>1.1770</td>\n",
       "    </tr>\n",
       "    <tr>\n",
       "      <th>2</th>\n",
       "      <td>2</td>\n",
       "      <td>3</td>\n",
       "      <td>100-02-7</td>\n",
       "      <td>O=[N+]([O-])c1ccc(O)cc1</td>\n",
       "      <td>Training</td>\n",
       "      <td>0</td>\n",
       "      <td>1</td>\n",
       "      <td>52</td>\n",
       "      <td>0.470728</td>\n",
       "      <td>63.37</td>\n",
       "      <td>34.7612</td>\n",
       "      <td>3.003401</td>\n",
       "      <td>241.674771</td>\n",
       "      <td>139.110</td>\n",
       "      <td>1.3004</td>\n",
       "    </tr>\n",
       "    <tr>\n",
       "      <th>3</th>\n",
       "      <td>3</td>\n",
       "      <td>4</td>\n",
       "      <td>100-11-8</td>\n",
       "      <td>O=[N+]([O-])c1ccc(cc1)CBr</td>\n",
       "      <td>Training</td>\n",
       "      <td>1</td>\n",
       "      <td>0</td>\n",
       "      <td>58</td>\n",
       "      <td>0.432586</td>\n",
       "      <td>43.14</td>\n",
       "      <td>45.7274</td>\n",
       "      <td>2.913802</td>\n",
       "      <td>257.648013</td>\n",
       "      <td>216.034</td>\n",
       "      <td>2.4897</td>\n",
       "    </tr>\n",
       "    <tr>\n",
       "      <th>4</th>\n",
       "      <td>4</td>\n",
       "      <td>5</td>\n",
       "      <td>100-12-9</td>\n",
       "      <td>O=[N+]([O-])c1ccc(cc1)CC</td>\n",
       "      <td>Training</td>\n",
       "      <td>0</td>\n",
       "      <td>0</td>\n",
       "      <td>58</td>\n",
       "      <td>0.479785</td>\n",
       "      <td>43.14</td>\n",
       "      <td>42.4744</td>\n",
       "      <td>2.913802</td>\n",
       "      <td>253.299498</td>\n",
       "      <td>151.165</td>\n",
       "      <td>2.1572</td>\n",
       "    </tr>\n",
       "  </tbody>\n",
       "</table>\n",
       "</div>"
      ],
      "text/plain": [
       "   Unnamed: 0  Id       CAS                     SMILES    Status  \\\n",
       "0           0   1  100-00-5   O=[N+]([O-])c1ccc(cc1)Cl  Training   \n",
       "1           1   2  100-01-6    O=[N+]([O-])c1ccc(N)cc1  Training   \n",
       "2           2   3  100-02-7    O=[N+]([O-])c1ccc(O)cc1  Training   \n",
       "3           3   4  100-11-8  O=[N+]([O-])c1ccc(cc1)CBr  Training   \n",
       "4           4   5  100-12-9   O=[N+]([O-])c1ccc(cc1)CC  Training   \n",
       "\n",
       "   Experimental value Predicted value  NumValenceElectrons       qed   TPSA  \\\n",
       "0                   1               1                   52  0.463602  43.14   \n",
       "1                   1               1                   52  0.359544  69.16   \n",
       "2                   0               1                   52  0.470728  63.37   \n",
       "3                   1               0                   58  0.432586  43.14   \n",
       "4                   0               0                   58  0.479785  43.14   \n",
       "\n",
       "     MolMR  BalabanJ     BertzCT    MolWt  MolLogP  \n",
       "0  38.1064  3.003401  244.429658  157.556   2.2482  \n",
       "1  37.5088  3.003401  242.429658  138.126   1.1770  \n",
       "2  34.7612  3.003401  241.674771  139.110   1.3004  \n",
       "3  45.7274  2.913802  257.648013  216.034   2.4897  \n",
       "4  42.4744  2.913802  253.299498  151.165   2.1572  "
      ]
     },
     "execution_count": 4,
     "metadata": {},
     "output_type": "execute_result"
    }
   ],
   "source": [
    "df.head()"
   ]
  },
  {
   "cell_type": "markdown",
   "metadata": {
<<<<<<< Updated upstream
=======
    "id": "ejwwO7ETcTPw"
   },
   "source": [
    "We can access columns in the DataFrame by the column's name"
   ]
  },
  {
   "cell_type": "code",
   "execution_count": 5,
   "metadata": {
    "colab": {
     "base_uri": "https://localhost:8080/"
    },
    "id": "4domchYBdi-f",
    "outputId": "ef03e69f-a36d-45c5-ff3f-0163295f2027"
   },
   "outputs": [
    {
     "data": {
      "text/plain": [
       "0       1\n",
       "1       1\n",
       "2       0\n",
       "3       1\n",
       "4       0\n",
       "       ..\n",
       "5759    1\n",
       "5760    1\n",
       "5761    1\n",
       "5762    1\n",
       "5763    1\n",
       "Name: Experimental value, Length: 5764, dtype: int64"
      ]
     },
     "execution_count": 5,
     "metadata": {},
     "output_type": "execute_result"
    }
   ],
   "source": [
    "y_experimental = df['Experimental value']\n",
    "y_experimental"
   ]
  },
  {
   "cell_type": "markdown",
   "metadata": {
>>>>>>> Stashed changes
    "id": "Eb8STE1Gc1qN"
   },
   "source": [
    "and access rows by index"
   ]
  },
  {
   "cell_type": "code",
<<<<<<< Updated upstream
   "execution_count": 5,
=======
   "execution_count": 6,
>>>>>>> Stashed changes
   "metadata": {
    "colab": {
     "base_uri": "https://localhost:8080/",
     "height": 175
    },
    "id": "F-vLO_KHeUEy",
<<<<<<< Updated upstream
    "outputId": "8d1c9199-93b7-4f76-a0e0-fb035b7f9c56",
    "scrolled": true
=======
    "outputId": "ac473b5a-efb8-4dab-e1de-ec5c4ab296e7"
>>>>>>> Stashed changes
   },
   "outputs": [
    {
     "data": {
      "text/html": [
       "<div>\n",
       "<style scoped>\n",
       "    .dataframe tbody tr th:only-of-type {\n",
       "        vertical-align: middle;\n",
       "    }\n",
       "\n",
       "    .dataframe tbody tr th {\n",
       "        vertical-align: top;\n",
       "    }\n",
       "\n",
       "    .dataframe thead th {\n",
       "        text-align: right;\n",
       "    }\n",
       "</style>\n",
       "<table border=\"1\" class=\"dataframe\">\n",
       "  <thead>\n",
       "    <tr style=\"text-align: right;\">\n",
       "      <th></th>\n",
       "      <th>Unnamed: 0</th>\n",
       "      <th>Id</th>\n",
       "      <th>CAS</th>\n",
       "      <th>SMILES</th>\n",
       "      <th>Status</th>\n",
       "      <th>Experimental value</th>\n",
       "      <th>Predicted value</th>\n",
       "      <th>NumValenceElectrons</th>\n",
       "      <th>qed</th>\n",
       "      <th>TPSA</th>\n",
       "      <th>MolMR</th>\n",
       "      <th>BalabanJ</th>\n",
       "      <th>BertzCT</th>\n",
       "      <th>MolWt</th>\n",
       "      <th>MolLogP</th>\n",
       "    </tr>\n",
       "  </thead>\n",
       "  <tbody>\n",
       "    <tr>\n",
       "      <th>0</th>\n",
       "      <td>0</td>\n",
       "      <td>1</td>\n",
       "      <td>100-00-5</td>\n",
       "      <td>O=[N+]([O-])c1ccc(cc1)Cl</td>\n",
       "      <td>Training</td>\n",
       "      <td>1</td>\n",
       "      <td>1</td>\n",
       "      <td>52</td>\n",
       "      <td>0.463602</td>\n",
       "      <td>43.14</td>\n",
       "      <td>38.1064</td>\n",
       "      <td>3.003401</td>\n",
       "      <td>244.429658</td>\n",
       "      <td>157.556</td>\n",
       "      <td>2.2482</td>\n",
       "    </tr>\n",
       "    <tr>\n",
       "      <th>1</th>\n",
       "      <td>1</td>\n",
       "      <td>2</td>\n",
       "      <td>100-01-6</td>\n",
       "      <td>O=[N+]([O-])c1ccc(N)cc1</td>\n",
       "      <td>Training</td>\n",
       "      <td>1</td>\n",
       "      <td>1</td>\n",
       "      <td>52</td>\n",
       "      <td>0.359544</td>\n",
       "      <td>69.16</td>\n",
       "      <td>37.5088</td>\n",
       "      <td>3.003401</td>\n",
       "      <td>242.429658</td>\n",
       "      <td>138.126</td>\n",
       "      <td>1.1770</td>\n",
       "    </tr>\n",
       "    <tr>\n",
       "      <th>2</th>\n",
       "      <td>2</td>\n",
       "      <td>3</td>\n",
       "      <td>100-02-7</td>\n",
       "      <td>O=[N+]([O-])c1ccc(O)cc1</td>\n",
       "      <td>Training</td>\n",
       "      <td>0</td>\n",
       "      <td>1</td>\n",
       "      <td>52</td>\n",
       "      <td>0.470728</td>\n",
       "      <td>63.37</td>\n",
       "      <td>34.7612</td>\n",
       "      <td>3.003401</td>\n",
       "      <td>241.674771</td>\n",
       "      <td>139.110</td>\n",
       "      <td>1.3004</td>\n",
       "    </tr>\n",
       "    <tr>\n",
       "      <th>3</th>\n",
       "      <td>3</td>\n",
       "      <td>4</td>\n",
       "      <td>100-11-8</td>\n",
       "      <td>O=[N+]([O-])c1ccc(cc1)CBr</td>\n",
       "      <td>Training</td>\n",
       "      <td>1</td>\n",
       "      <td>0</td>\n",
       "      <td>58</td>\n",
       "      <td>0.432586</td>\n",
       "      <td>43.14</td>\n",
       "      <td>45.7274</td>\n",
       "      <td>2.913802</td>\n",
       "      <td>257.648013</td>\n",
       "      <td>216.034</td>\n",
       "      <td>2.4897</td>\n",
       "    </tr>\n",
       "  </tbody>\n",
       "</table>\n",
       "</div>"
      ],
      "text/plain": [
       "   Unnamed: 0  Id       CAS                     SMILES    Status  \\\n",
       "0           0   1  100-00-5   O=[N+]([O-])c1ccc(cc1)Cl  Training   \n",
       "1           1   2  100-01-6    O=[N+]([O-])c1ccc(N)cc1  Training   \n",
       "2           2   3  100-02-7    O=[N+]([O-])c1ccc(O)cc1  Training   \n",
       "3           3   4  100-11-8  O=[N+]([O-])c1ccc(cc1)CBr  Training   \n",
       "\n",
       "   Experimental value Predicted value  NumValenceElectrons       qed   TPSA  \\\n",
       "0                   1               1                   52  0.463602  43.14   \n",
       "1                   1               1                   52  0.359544  69.16   \n",
       "2                   0               1                   52  0.470728  63.37   \n",
       "3                   1               0                   58  0.432586  43.14   \n",
       "\n",
       "     MolMR  BalabanJ     BertzCT    MolWt  MolLogP  \n",
       "0  38.1064  3.003401  244.429658  157.556   2.2482  \n",
       "1  37.5088  3.003401  242.429658  138.126   1.1770  \n",
       "2  34.7612  3.003401  241.674771  139.110   1.3004  \n",
       "3  45.7274  2.913802  257.648013  216.034   2.4897  "
      ]
     },
<<<<<<< Updated upstream
     "execution_count": 5,
=======
     "execution_count": 6,
>>>>>>> Stashed changes
     "metadata": {},
     "output_type": "execute_result"
    }
   ],
   "source": [
    "first_rows = df.iloc[:4]\n",
    "first_rows"
   ]
  },
  {
   "cell_type": "markdown",
   "metadata": {
<<<<<<< Updated upstream
    "id": "ejwwO7ETcTPw"
   },
   "source": [
    "We can access columns in the DataFrame by the column's name"
   ]
  },
  {
   "cell_type": "code",
   "execution_count": 6,
   "metadata": {
    "colab": {
     "base_uri": "https://localhost:8080/"
    },
    "id": "4domchYBdi-f",
    "outputId": "967c3ff1-4905-442a-be5e-2a84bb89c037"
   },
   "outputs": [
    {
     "data": {
      "text/plain": [
       "0       1\n",
       "1       1\n",
       "2       0\n",
       "3       1\n",
       "4       0\n",
       "       ..\n",
       "5759    1\n",
       "5760    1\n",
       "5761    1\n",
       "5762    1\n",
       "5763    1\n",
       "Name: Experimental value, Length: 5764, dtype: int64"
      ]
     },
     "execution_count": 6,
     "metadata": {},
     "output_type": "execute_result"
    }
   ],
   "source": [
    "y_experimental = df['Experimental value']\n",
    "y_experimental"
   ]
  },
  {
   "cell_type": "markdown",
   "metadata": {
=======
>>>>>>> Stashed changes
    "id": "Ro4VEmtzei8w"
   },
   "source": [
    "If we would like to get the subset of data that is labeled as mutagenic (i.e., 'Experimenal value' equal to 1), we could do it like this"
   ]
  },
  {
   "cell_type": "code",
   "execution_count": 7,
   "metadata": {
    "colab": {
     "base_uri": "https://localhost:8080/",
     "height": 679
    },
    "id": "p_1NdUU2gVhn",
<<<<<<< Updated upstream
    "outputId": "10082daf-42b4-4fa9-b260-3e2292777f0f"
=======
    "outputId": "bd3dc255-90dd-413c-cbe2-e44838a73387"
>>>>>>> Stashed changes
   },
   "outputs": [
    {
     "data": {
      "text/html": [
       "<div>\n",
       "<style scoped>\n",
       "    .dataframe tbody tr th:only-of-type {\n",
       "        vertical-align: middle;\n",
       "    }\n",
       "\n",
       "    .dataframe tbody tr th {\n",
       "        vertical-align: top;\n",
       "    }\n",
       "\n",
       "    .dataframe thead th {\n",
       "        text-align: right;\n",
       "    }\n",
       "</style>\n",
       "<table border=\"1\" class=\"dataframe\">\n",
       "  <thead>\n",
       "    <tr style=\"text-align: right;\">\n",
       "      <th></th>\n",
       "      <th>Unnamed: 0</th>\n",
       "      <th>Id</th>\n",
       "      <th>CAS</th>\n",
       "      <th>SMILES</th>\n",
       "      <th>Status</th>\n",
       "      <th>Experimental value</th>\n",
       "      <th>Predicted value</th>\n",
       "      <th>NumValenceElectrons</th>\n",
       "      <th>qed</th>\n",
       "      <th>TPSA</th>\n",
       "      <th>MolMR</th>\n",
       "      <th>BalabanJ</th>\n",
       "      <th>BertzCT</th>\n",
       "      <th>MolWt</th>\n",
       "      <th>MolLogP</th>\n",
       "    </tr>\n",
       "  </thead>\n",
       "  <tbody>\n",
       "    <tr>\n",
       "      <th>0</th>\n",
       "      <td>0</td>\n",
       "      <td>1</td>\n",
       "      <td>100-00-5</td>\n",
       "      <td>O=[N+]([O-])c1ccc(cc1)Cl</td>\n",
       "      <td>Training</td>\n",
       "      <td>1</td>\n",
       "      <td>1</td>\n",
       "      <td>52</td>\n",
       "      <td>0.463602</td>\n",
       "      <td>43.14</td>\n",
       "      <td>38.1064</td>\n",
       "      <td>3.003401</td>\n",
       "      <td>244.429658</td>\n",
       "      <td>157.556</td>\n",
       "      <td>2.24820</td>\n",
       "    </tr>\n",
       "    <tr>\n",
       "      <th>1</th>\n",
       "      <td>1</td>\n",
       "      <td>2</td>\n",
       "      <td>100-01-6</td>\n",
       "      <td>O=[N+]([O-])c1ccc(N)cc1</td>\n",
       "      <td>Training</td>\n",
       "      <td>1</td>\n",
       "      <td>1</td>\n",
       "      <td>52</td>\n",
       "      <td>0.359544</td>\n",
       "      <td>69.16</td>\n",
       "      <td>37.5088</td>\n",
       "      <td>3.003401</td>\n",
       "      <td>242.429658</td>\n",
       "      <td>138.126</td>\n",
       "      <td>1.17700</td>\n",
       "    </tr>\n",
       "    <tr>\n",
       "      <th>3</th>\n",
       "      <td>3</td>\n",
       "      <td>4</td>\n",
       "      <td>100-11-8</td>\n",
       "      <td>O=[N+]([O-])c1ccc(cc1)CBr</td>\n",
       "      <td>Training</td>\n",
       "      <td>1</td>\n",
       "      <td>0</td>\n",
       "      <td>58</td>\n",
       "      <td>0.432586</td>\n",
       "      <td>43.14</td>\n",
       "      <td>45.7274</td>\n",
       "      <td>2.913802</td>\n",
       "      <td>257.648013</td>\n",
       "      <td>216.034</td>\n",
       "      <td>2.48970</td>\n",
       "    </tr>\n",
       "    <tr>\n",
       "      <th>6</th>\n",
       "      <td>6</td>\n",
       "      <td>7</td>\n",
       "      <td>100-13-0</td>\n",
       "      <td>O=[N+]([O-])c1ccc(C=C)cc1</td>\n",
       "      <td>Training</td>\n",
       "      <td>1</td>\n",
       "      <td>0</td>\n",
       "      <td>56</td>\n",
       "      <td>0.477660</td>\n",
       "      <td>43.14</td>\n",
       "      <td>43.1874</td>\n",
       "      <td>3.000887</td>\n",
       "      <td>276.648462</td>\n",
       "      <td>149.149</td>\n",
       "      <td>2.23780</td>\n",
       "    </tr>\n",
       "    <tr>\n",
       "      <th>7</th>\n",
       "      <td>7</td>\n",
       "      <td>8</td>\n",
       "      <td>100-14-1</td>\n",
       "      <td>O=[N+]([O-])c1ccc(cc1)CCl</td>\n",
       "      <td>Training</td>\n",
       "      <td>1</td>\n",
       "      <td>1</td>\n",
       "      <td>58</td>\n",
       "      <td>0.389482</td>\n",
       "      <td>43.14</td>\n",
       "      <td>42.6534</td>\n",
       "      <td>2.913802</td>\n",
       "      <td>257.648013</td>\n",
       "      <td>171.583</td>\n",
       "      <td>2.33360</td>\n",
       "    </tr>\n",
       "    <tr>\n",
       "      <th>...</th>\n",
       "      <td>...</td>\n",
       "      <td>...</td>\n",
       "      <td>...</td>\n",
       "      <td>...</td>\n",
       "      <td>...</td>\n",
       "      <td>...</td>\n",
       "      <td>...</td>\n",
       "      <td>...</td>\n",
       "      <td>...</td>\n",
       "      <td>...</td>\n",
       "      <td>...</td>\n",
       "      <td>...</td>\n",
       "      <td>...</td>\n",
       "      <td>...</td>\n",
       "      <td>...</td>\n",
       "    </tr>\n",
       "    <tr>\n",
       "      <th>5759</th>\n",
       "      <td>5759</td>\n",
       "      <td>5767</td>\n",
       "      <td>20395-16-8</td>\n",
       "      <td>O=C1N(C(=O)N(C(=O)N1CC=C)CC2OC2)CC=C</td>\n",
       "      <td>Training</td>\n",
       "      <td>1</td>\n",
       "      <td>0</td>\n",
       "      <td>102</td>\n",
       "      <td>0.485090</td>\n",
       "      <td>78.53</td>\n",
       "      <td>69.3560</td>\n",
       "      <td>2.668492</td>\n",
       "      <td>627.435628</td>\n",
       "      <td>265.269</td>\n",
       "      <td>-1.05750</td>\n",
       "    </tr>\n",
       "    <tr>\n",
       "      <th>5760</th>\n",
       "      <td>5760</td>\n",
       "      <td>5768</td>\n",
       "      <td>34718-47-3</td>\n",
       "      <td>O=C(C(Br)(Br)Br)Cl</td>\n",
       "      <td>Training</td>\n",
       "      <td>1</td>\n",
       "      <td>1</td>\n",
       "      <td>42</td>\n",
       "      <td>0.495987</td>\n",
       "      <td>17.07</td>\n",
       "      <td>40.3720</td>\n",
       "      <td>3.791118</td>\n",
       "      <td>85.425922</td>\n",
       "      <td>315.186</td>\n",
       "      <td>2.59030</td>\n",
       "    </tr>\n",
       "    <tr>\n",
       "      <th>5761</th>\n",
       "      <td>5761</td>\n",
       "      <td>5769</td>\n",
       "      <td>43204-63-3</td>\n",
       "      <td>N(CCBr)CCBr</td>\n",
       "      <td>Training</td>\n",
       "      <td>1</td>\n",
       "      <td>1</td>\n",
       "      <td>44</td>\n",
       "      <td>0.568556</td>\n",
       "      <td>12.03</td>\n",
       "      <td>40.4577</td>\n",
       "      <td>2.447473</td>\n",
       "      <td>28.870765</td>\n",
       "      <td>230.931</td>\n",
       "      <td>1.36580</td>\n",
       "    </tr>\n",
       "    <tr>\n",
       "      <th>5762</th>\n",
       "      <td>5762</td>\n",
       "      <td>5770</td>\n",
       "      <td>52583-35-4</td>\n",
       "      <td>N#Cc2cc(cc(c2(N=Nc1ccc(cc1(NC(=O)C))N(CCOC)CCO...</td>\n",
       "      <td>Training</td>\n",
       "      <td>1</td>\n",
       "      <td>1</td>\n",
       "      <td>184</td>\n",
       "      <td>0.264581</td>\n",
       "      <td>185.59</td>\n",
       "      <td>125.3525</td>\n",
       "      <td>2.552977</td>\n",
       "      <td>1169.342047</td>\n",
       "      <td>485.457</td>\n",
       "      <td>3.84768</td>\n",
       "    </tr>\n",
       "    <tr>\n",
       "      <th>5763</th>\n",
       "      <td>5763</td>\n",
       "      <td>5771</td>\n",
       "      <td>188021-38-7</td>\n",
       "      <td>O(c1c(cc(cc1Br)C)C(C)(C)C)CC=C</td>\n",
       "      <td>Training</td>\n",
       "      <td>1</td>\n",
       "      <td>0</td>\n",
       "      <td>88</td>\n",
       "      <td>0.735392</td>\n",
       "      <td>9.23</td>\n",
       "      <td>73.2710</td>\n",
       "      <td>3.263016</td>\n",
       "      <td>388.457194</td>\n",
       "      <td>283.209</td>\n",
       "      <td>4.61982</td>\n",
       "    </tr>\n",
       "  </tbody>\n",
       "</table>\n",
       "<p>3251 rows × 15 columns</p>\n",
       "</div>"
      ],
      "text/plain": [
       "      Unnamed: 0    Id          CAS  \\\n",
       "0              0     1     100-00-5   \n",
       "1              1     2     100-01-6   \n",
       "3              3     4     100-11-8   \n",
       "6              6     7     100-13-0   \n",
       "7              7     8     100-14-1   \n",
       "...          ...   ...          ...   \n",
       "5759        5759  5767   20395-16-8   \n",
       "5760        5760  5768   34718-47-3   \n",
       "5761        5761  5769   43204-63-3   \n",
       "5762        5762  5770   52583-35-4   \n",
       "5763        5763  5771  188021-38-7   \n",
       "\n",
       "                                                 SMILES    Status  \\\n",
       "0                              O=[N+]([O-])c1ccc(cc1)Cl  Training   \n",
       "1                               O=[N+]([O-])c1ccc(N)cc1  Training   \n",
       "3                             O=[N+]([O-])c1ccc(cc1)CBr  Training   \n",
       "6                             O=[N+]([O-])c1ccc(C=C)cc1  Training   \n",
       "7                             O=[N+]([O-])c1ccc(cc1)CCl  Training   \n",
       "...                                                 ...       ...   \n",
       "5759               O=C1N(C(=O)N(C(=O)N1CC=C)CC2OC2)CC=C  Training   \n",
       "5760                                 O=C(C(Br)(Br)Br)Cl  Training   \n",
       "5761                                        N(CCBr)CCBr  Training   \n",
       "5762  N#Cc2cc(cc(c2(N=Nc1ccc(cc1(NC(=O)C))N(CCOC)CCO...  Training   \n",
       "5763                     O(c1c(cc(cc1Br)C)C(C)(C)C)CC=C  Training   \n",
       "\n",
       "      Experimental value Predicted value  NumValenceElectrons       qed  \\\n",
       "0                      1               1                   52  0.463602   \n",
       "1                      1               1                   52  0.359544   \n",
       "3                      1               0                   58  0.432586   \n",
       "6                      1               0                   56  0.477660   \n",
       "7                      1               1                   58  0.389482   \n",
       "...                  ...             ...                  ...       ...   \n",
       "5759                   1               0                  102  0.485090   \n",
       "5760                   1               1                   42  0.495987   \n",
       "5761                   1               1                   44  0.568556   \n",
       "5762                   1               1                  184  0.264581   \n",
       "5763                   1               0                   88  0.735392   \n",
       "\n",
       "        TPSA     MolMR  BalabanJ      BertzCT    MolWt  MolLogP  \n",
       "0      43.14   38.1064  3.003401   244.429658  157.556  2.24820  \n",
       "1      69.16   37.5088  3.003401   242.429658  138.126  1.17700  \n",
       "3      43.14   45.7274  2.913802   257.648013  216.034  2.48970  \n",
       "6      43.14   43.1874  3.000887   276.648462  149.149  2.23780  \n",
       "7      43.14   42.6534  2.913802   257.648013  171.583  2.33360  \n",
       "...      ...       ...       ...          ...      ...      ...  \n",
       "5759   78.53   69.3560  2.668492   627.435628  265.269 -1.05750  \n",
       "5760   17.07   40.3720  3.791118    85.425922  315.186  2.59030  \n",
       "5761   12.03   40.4577  2.447473    28.870765  230.931  1.36580  \n",
       "5762  185.59  125.3525  2.552977  1169.342047  485.457  3.84768  \n",
       "5763    9.23   73.2710  3.263016   388.457194  283.209  4.61982  \n",
       "\n",
       "[3251 rows x 15 columns]"
      ]
     },
     "execution_count": 7,
     "metadata": {},
     "output_type": "execute_result"
    }
   ],
   "source": [
    "mutagenic_data = df[df['Experimental value']==1]\n",
    "mutagenic_data"
   ]
  },
  {
   "cell_type": "markdown",
<<<<<<< Updated upstream
   "metadata": {},
   "source": [
    "Let's have a look at the predictions by VEGA which we'll use to compare our results with:"
=======
   "metadata": {
    "id": "Si1CwO1Ol9-r"
   },
   "source": [
    "Let's now collect all the input features of our dataset"
>>>>>>> Stashed changes
   ]
  },
  {
   "cell_type": "code",
   "execution_count": 8,
<<<<<<< Updated upstream
   "metadata": {},
   "outputs": [
    {
     "data": {
      "text/plain": [
       "0       1\n",
       "1       1\n",
       "2       1\n",
       "3       0\n",
       "4       0\n",
       "       ..\n",
       "5759    0\n",
       "5760    1\n",
       "5761    1\n",
       "5762    1\n",
       "5763    0\n",
       "Name: Predicted value, Length: 5764, dtype: object"
      ]
     },
     "execution_count": 8,
     "metadata": {},
     "output_type": "execute_result"
    }
   ],
   "source": [
    "df['Predicted value']"
   ]
  },
  {
   "cell_type": "markdown",
   "metadata": {},
   "source": [
    "We notice the data type says `object` even though it should be all `0` and `1`. Let's try to find out why:"
   ]
  },
  {
   "cell_type": "code",
   "execution_count": 9,
   "metadata": {},
   "outputs": [
    {
     "data": {
      "text/plain": [
       "0                   1\n",
       "3                   0\n",
       "1844    Non Predicted\n",
       "Name: Predicted value, dtype: object"
      ]
     },
     "execution_count": 9,
     "metadata": {},
     "output_type": "execute_result"
    }
   ],
   "source": [
    "df['Predicted value'].drop_duplicates()"
   ]
  },
  {
   "cell_type": "code",
   "execution_count": 10,
   "metadata": {},
   "outputs": [
    {
     "data": {
      "text/html": [
       "<div>\n",
       "<style scoped>\n",
       "    .dataframe tbody tr th:only-of-type {\n",
       "        vertical-align: middle;\n",
       "    }\n",
       "\n",
       "    .dataframe tbody tr th {\n",
       "        vertical-align: top;\n",
       "    }\n",
       "\n",
       "    .dataframe thead th {\n",
       "        text-align: right;\n",
       "    }\n",
       "</style>\n",
       "<table border=\"1\" class=\"dataframe\">\n",
       "  <thead>\n",
       "    <tr style=\"text-align: right;\">\n",
       "      <th></th>\n",
       "      <th>Unnamed: 0</th>\n",
       "      <th>Id</th>\n",
       "      <th>CAS</th>\n",
       "      <th>SMILES</th>\n",
       "      <th>Status</th>\n",
       "      <th>Experimental value</th>\n",
       "      <th>Predicted value</th>\n",
       "      <th>NumValenceElectrons</th>\n",
       "      <th>qed</th>\n",
       "      <th>TPSA</th>\n",
       "      <th>MolMR</th>\n",
       "      <th>BalabanJ</th>\n",
       "      <th>BertzCT</th>\n",
       "      <th>MolWt</th>\n",
       "      <th>MolLogP</th>\n",
       "    </tr>\n",
       "  </thead>\n",
       "  <tbody>\n",
       "    <tr>\n",
       "      <th>1844</th>\n",
       "      <td>1844</td>\n",
       "      <td>1846</td>\n",
       "      <td>16709-86-7</td>\n",
       "      <td>C=C[Si](C)(C)CCl</td>\n",
       "      <td>Training</td>\n",
       "      <td>0</td>\n",
       "      <td>Non Predicted</td>\n",
       "      <td>42</td>\n",
       "      <td>0.401439</td>\n",
       "      <td>0.00</td>\n",
       "      <td>38.399</td>\n",
       "      <td>3.575471</td>\n",
       "      <td>68.480406</td>\n",
       "      <td>134.682</td>\n",
       "      <td>2.19800</td>\n",
       "    </tr>\n",
       "    <tr>\n",
       "      <th>2194</th>\n",
       "      <td>2194</td>\n",
       "      <td>2197</td>\n",
       "      <td>2179-59-1</td>\n",
       "      <td>C=CCSSCCC</td>\n",
       "      <td>Training</td>\n",
       "      <td>0</td>\n",
       "      <td>Non Predicted</td>\n",
       "      <td>48</td>\n",
       "      <td>0.333839</td>\n",
       "      <td>0.00</td>\n",
       "      <td>45.404</td>\n",
       "      <td>2.616293</td>\n",
       "      <td>52.490225</td>\n",
       "      <td>148.296</td>\n",
       "      <td>2.96380</td>\n",
       "    </tr>\n",
       "    <tr>\n",
       "      <th>4118</th>\n",
       "      <td>4118</td>\n",
       "      <td>4125</td>\n",
       "      <td>624-92-0</td>\n",
       "      <td>CSSC</td>\n",
       "      <td>Training</td>\n",
       "      <td>0</td>\n",
       "      <td>Non Predicted</td>\n",
       "      <td>26</td>\n",
       "      <td>0.452840</td>\n",
       "      <td>0.00</td>\n",
       "      <td>27.030</td>\n",
       "      <td>1.974745</td>\n",
       "      <td>6.000000</td>\n",
       "      <td>94.204</td>\n",
       "      <td>1.62740</td>\n",
       "    </tr>\n",
       "    <tr>\n",
       "      <th>4180</th>\n",
       "      <td>4180</td>\n",
       "      <td>4187</td>\n",
       "      <td>6317-18-6</td>\n",
       "      <td>N#CSCSC#N</td>\n",
       "      <td>Training</td>\n",
       "      <td>0</td>\n",
       "      <td>Non Predicted</td>\n",
       "      <td>36</td>\n",
       "      <td>0.321595</td>\n",
       "      <td>47.58</td>\n",
       "      <td>31.275</td>\n",
       "      <td>2.768386</td>\n",
       "      <td>95.083765</td>\n",
       "      <td>130.197</td>\n",
       "      <td>1.37246</td>\n",
       "    </tr>\n",
       "    <tr>\n",
       "      <th>5633</th>\n",
       "      <td>5633</td>\n",
       "      <td>5641</td>\n",
       "      <td>7783-54-2</td>\n",
       "      <td>FN(F)F</td>\n",
       "      <td>Training</td>\n",
       "      <td>1</td>\n",
       "      <td>Non Predicted</td>\n",
       "      <td>26</td>\n",
       "      <td>0.383980</td>\n",
       "      <td>3.24</td>\n",
       "      <td>5.163</td>\n",
       "      <td>2.323790</td>\n",
       "      <td>8.000000</td>\n",
       "      <td>71.001</td>\n",
       "      <td>0.94190</td>\n",
       "    </tr>\n",
       "    <tr>\n",
       "      <th>5655</th>\n",
       "      <td>5655</td>\n",
       "      <td>5663</td>\n",
       "      <td>676-83-5</td>\n",
       "      <td>CP(Cl)Cl</td>\n",
       "      <td>Training</td>\n",
       "      <td>1</td>\n",
       "      <td>Non Predicted</td>\n",
       "      <td>26</td>\n",
       "      <td>0.426990</td>\n",
       "      <td>0.00</td>\n",
       "      <td>24.550</td>\n",
       "      <td>2.323790</td>\n",
       "      <td>10.754888</td>\n",
       "      <td>116.915</td>\n",
       "      <td>2.40570</td>\n",
       "    </tr>\n",
       "  </tbody>\n",
       "</table>\n",
       "</div>"
      ],
      "text/plain": [
       "      Unnamed: 0    Id         CAS            SMILES    Status  \\\n",
       "1844        1844  1846  16709-86-7  C=C[Si](C)(C)CCl  Training   \n",
       "2194        2194  2197   2179-59-1         C=CCSSCCC  Training   \n",
       "4118        4118  4125    624-92-0              CSSC  Training   \n",
       "4180        4180  4187   6317-18-6         N#CSCSC#N  Training   \n",
       "5633        5633  5641   7783-54-2            FN(F)F  Training   \n",
       "5655        5655  5663    676-83-5          CP(Cl)Cl  Training   \n",
       "\n",
       "      Experimental value Predicted value  NumValenceElectrons       qed  \\\n",
       "1844                   0   Non Predicted                   42  0.401439   \n",
       "2194                   0   Non Predicted                   48  0.333839   \n",
       "4118                   0   Non Predicted                   26  0.452840   \n",
       "4180                   0   Non Predicted                   36  0.321595   \n",
       "5633                   1   Non Predicted                   26  0.383980   \n",
       "5655                   1   Non Predicted                   26  0.426990   \n",
       "\n",
       "       TPSA   MolMR  BalabanJ    BertzCT    MolWt  MolLogP  \n",
       "1844   0.00  38.399  3.575471  68.480406  134.682  2.19800  \n",
       "2194   0.00  45.404  2.616293  52.490225  148.296  2.96380  \n",
       "4118   0.00  27.030  1.974745   6.000000   94.204  1.62740  \n",
       "4180  47.58  31.275  2.768386  95.083765  130.197  1.37246  \n",
       "5633   3.24   5.163  2.323790   8.000000   71.001  0.94190  \n",
       "5655   0.00  24.550  2.323790  10.754888  116.915  2.40570  "
      ]
     },
     "execution_count": 10,
     "metadata": {},
     "output_type": "execute_result"
    }
   ],
   "source": [
    "df[ (df['Predicted value'] != \"0\") & (df['Predicted value'] != \"1\") ]"
   ]
  },
  {
   "cell_type": "markdown",
   "metadata": {},
   "source": [
    "For some inputs the VEGA model decides to output `non predicted`. As detailed in the documentation, it does this for particularly uncertain predictions. Let's remove these from the data set:"
   ]
  },
  {
   "cell_type": "code",
   "execution_count": 11,
   "metadata": {},
   "outputs": [],
   "source": [
    "non_predicted = df[ (df['Predicted value'] != \"0\") & (df['Predicted value'] != \"1\") ].index\n",
    "df_clean = df.drop(non_predicted)"
   ]
  },
  {
   "cell_type": "markdown",
   "metadata": {
    "id": "Si1CwO1Ol9-r"
   },
   "source": [
    "Let's now collect all the input features of our dataset and remove the unnecessary ones:"
   ]
  },
  {
   "cell_type": "code",
   "execution_count": 12,
=======
>>>>>>> Stashed changes
   "metadata": {
    "colab": {
     "base_uri": "https://localhost:8080/",
     "height": 424
    },
    "id": "IahR4BJimCJ2",
<<<<<<< Updated upstream
    "outputId": "d2e62d3c-e82e-4944-c496-8370a07c5a76"
=======
    "outputId": "8b5e5d11-957b-43c7-dc2e-4b9910188a58"
>>>>>>> Stashed changes
   },
   "outputs": [
    {
     "data": {
      "text/html": [
       "<div>\n",
       "<style scoped>\n",
       "    .dataframe tbody tr th:only-of-type {\n",
       "        vertical-align: middle;\n",
       "    }\n",
       "\n",
       "    .dataframe tbody tr th {\n",
       "        vertical-align: top;\n",
       "    }\n",
       "\n",
       "    .dataframe thead th {\n",
       "        text-align: right;\n",
       "    }\n",
       "</style>\n",
       "<table border=\"1\" class=\"dataframe\">\n",
       "  <thead>\n",
       "    <tr style=\"text-align: right;\">\n",
       "      <th></th>\n",
       "      <th>NumValenceElectrons</th>\n",
       "      <th>qed</th>\n",
       "      <th>TPSA</th>\n",
       "      <th>MolMR</th>\n",
       "      <th>BalabanJ</th>\n",
       "      <th>BertzCT</th>\n",
       "      <th>MolWt</th>\n",
       "      <th>MolLogP</th>\n",
       "    </tr>\n",
       "  </thead>\n",
       "  <tbody>\n",
       "    <tr>\n",
       "      <th>0</th>\n",
       "      <td>52</td>\n",
       "      <td>0.463602</td>\n",
       "      <td>43.14</td>\n",
       "      <td>38.1064</td>\n",
       "      <td>3.003401</td>\n",
       "      <td>244.429658</td>\n",
       "      <td>157.556</td>\n",
       "      <td>2.24820</td>\n",
       "    </tr>\n",
       "    <tr>\n",
       "      <th>1</th>\n",
       "      <td>52</td>\n",
       "      <td>0.359544</td>\n",
       "      <td>69.16</td>\n",
       "      <td>37.5088</td>\n",
       "      <td>3.003401</td>\n",
       "      <td>242.429658</td>\n",
       "      <td>138.126</td>\n",
       "      <td>1.17700</td>\n",
       "    </tr>\n",
       "    <tr>\n",
       "      <th>2</th>\n",
       "      <td>52</td>\n",
       "      <td>0.470728</td>\n",
       "      <td>63.37</td>\n",
       "      <td>34.7612</td>\n",
       "      <td>3.003401</td>\n",
       "      <td>241.674771</td>\n",
       "      <td>139.110</td>\n",
       "      <td>1.30040</td>\n",
       "    </tr>\n",
       "    <tr>\n",
       "      <th>3</th>\n",
       "      <td>58</td>\n",
       "      <td>0.432586</td>\n",
       "      <td>43.14</td>\n",
       "      <td>45.7274</td>\n",
       "      <td>2.913802</td>\n",
       "      <td>257.648013</td>\n",
       "      <td>216.034</td>\n",
       "      <td>2.48970</td>\n",
       "    </tr>\n",
       "    <tr>\n",
       "      <th>4</th>\n",
       "      <td>58</td>\n",
       "      <td>0.479785</td>\n",
       "      <td>43.14</td>\n",
       "      <td>42.4744</td>\n",
       "      <td>2.913802</td>\n",
       "      <td>253.299498</td>\n",
       "      <td>151.165</td>\n",
       "      <td>2.15720</td>\n",
       "    </tr>\n",
       "    <tr>\n",
       "      <th>...</th>\n",
       "      <td>...</td>\n",
       "      <td>...</td>\n",
       "      <td>...</td>\n",
       "      <td>...</td>\n",
       "      <td>...</td>\n",
       "      <td>...</td>\n",
       "      <td>...</td>\n",
       "      <td>...</td>\n",
       "    </tr>\n",
       "    <tr>\n",
       "      <th>5759</th>\n",
       "      <td>102</td>\n",
       "      <td>0.485090</td>\n",
       "      <td>78.53</td>\n",
       "      <td>69.3560</td>\n",
       "      <td>2.668492</td>\n",
       "      <td>627.435628</td>\n",
       "      <td>265.269</td>\n",
       "      <td>-1.05750</td>\n",
       "    </tr>\n",
       "    <tr>\n",
       "      <th>5760</th>\n",
       "      <td>42</td>\n",
       "      <td>0.495987</td>\n",
       "      <td>17.07</td>\n",
       "      <td>40.3720</td>\n",
       "      <td>3.791118</td>\n",
       "      <td>85.425922</td>\n",
       "      <td>315.186</td>\n",
       "      <td>2.59030</td>\n",
       "    </tr>\n",
       "    <tr>\n",
       "      <th>5761</th>\n",
       "      <td>44</td>\n",
       "      <td>0.568556</td>\n",
       "      <td>12.03</td>\n",
       "      <td>40.4577</td>\n",
       "      <td>2.447473</td>\n",
       "      <td>28.870765</td>\n",
       "      <td>230.931</td>\n",
       "      <td>1.36580</td>\n",
       "    </tr>\n",
       "    <tr>\n",
       "      <th>5762</th>\n",
       "      <td>184</td>\n",
       "      <td>0.264581</td>\n",
       "      <td>185.59</td>\n",
       "      <td>125.3525</td>\n",
       "      <td>2.552977</td>\n",
       "      <td>1169.342047</td>\n",
       "      <td>485.457</td>\n",
       "      <td>3.84768</td>\n",
       "    </tr>\n",
       "    <tr>\n",
       "      <th>5763</th>\n",
       "      <td>88</td>\n",
       "      <td>0.735392</td>\n",
       "      <td>9.23</td>\n",
       "      <td>73.2710</td>\n",
       "      <td>3.263016</td>\n",
       "      <td>388.457194</td>\n",
       "      <td>283.209</td>\n",
       "      <td>4.61982</td>\n",
       "    </tr>\n",
       "  </tbody>\n",
       "</table>\n",
<<<<<<< Updated upstream
       "<p>5758 rows × 8 columns</p>\n",
=======
       "<p>5764 rows × 8 columns</p>\n",
>>>>>>> Stashed changes
       "</div>"
      ],
      "text/plain": [
       "      NumValenceElectrons       qed    TPSA     MolMR  BalabanJ      BertzCT  \\\n",
       "0                      52  0.463602   43.14   38.1064  3.003401   244.429658   \n",
       "1                      52  0.359544   69.16   37.5088  3.003401   242.429658   \n",
       "2                      52  0.470728   63.37   34.7612  3.003401   241.674771   \n",
       "3                      58  0.432586   43.14   45.7274  2.913802   257.648013   \n",
       "4                      58  0.479785   43.14   42.4744  2.913802   253.299498   \n",
       "...                   ...       ...     ...       ...       ...          ...   \n",
       "5759                  102  0.485090   78.53   69.3560  2.668492   627.435628   \n",
       "5760                   42  0.495987   17.07   40.3720  3.791118    85.425922   \n",
       "5761                   44  0.568556   12.03   40.4577  2.447473    28.870765   \n",
       "5762                  184  0.264581  185.59  125.3525  2.552977  1169.342047   \n",
       "5763                   88  0.735392    9.23   73.2710  3.263016   388.457194   \n",
       "\n",
       "        MolWt  MolLogP  \n",
       "0     157.556  2.24820  \n",
       "1     138.126  1.17700  \n",
       "2     139.110  1.30040  \n",
       "3     216.034  2.48970  \n",
       "4     151.165  2.15720  \n",
       "...       ...      ...  \n",
       "5759  265.269 -1.05750  \n",
       "5760  315.186  2.59030  \n",
       "5761  230.931  1.36580  \n",
       "5762  485.457  3.84768  \n",
       "5763  283.209  4.61982  \n",
       "\n",
<<<<<<< Updated upstream
       "[5758 rows x 8 columns]"
      ]
     },
     "execution_count": 12,
=======
       "[5764 rows x 8 columns]"
      ]
     },
     "execution_count": 8,
>>>>>>> Stashed changes
     "metadata": {},
     "output_type": "execute_result"
    }
   ],
   "source": [
<<<<<<< Updated upstream
    "X = df_clean.drop(['Unnamed: 0', 'Id','CAS','SMILES','Status','Experimental value','Predicted value'],axis=1)\n",
=======
    "X = df.drop(['Unnamed: 0', 'Id','CAS','SMILES','Status','Experimental value','Predicted value'],axis=1)\n",
>>>>>>> Stashed changes
    "X"
   ]
  },
  {
   "cell_type": "markdown",
   "metadata": {
    "id": "ei-EOGnle97C"
   },
   "source": [
    "### Exercise - manipulate a DataFrame ❗❗\n",
    "\n",
    "* How many molecules in our dataset have a `qed` less than 0.5?\n",
    "* What is the molecule with the largest molecular weight `MolWt`?\n",
    "* What is the average number of valance electrons `NumValenceElectrons` of the molecules in our dataset? "
   ]
  },
  {
   "cell_type": "code",
<<<<<<< Updated upstream
   "execution_count": 13,
=======
   "execution_count": 9,
>>>>>>> Stashed changes
   "metadata": {
    "id": "DwAoulsggXUJ"
   },
   "outputs": [],
   "source": [
    "# Your code here"
   ]
  },
  {
   "cell_type": "markdown",
   "metadata": {
    "id": "KGvYC2i5hW_A"
   },
   "source": [
    "## Feature scaling 📏"
   ]
  },
  {
   "cell_type": "markdown",
   "metadata": {
    "id": "iTfo1fwH7qMv"
   },
   "source": [
    "It is always a good practice to scale your data before starting modeling. This helps the training process of many machine learning models. This is specially true for kNN which works on distances! The distance between two points is naturally afected by the dimensions of the input space. Look for example at the Euclidean distance, if one dimension ranges from 0 to 10,000 and another ranges from 0 to 1, the former one will potentially impact the distance value much more!\n",
    "\n",
    "We do not want this to happen. Therefore, we need to scale all input features in order to give the same importance to all dimensions regardless of their original scale.\n",
    "\n",
    "Here, we will use the method known as [standardization](https://scikit-learn.org/stable/modules/generated/sklearn.preprocessing.StandardScaler.html#sklearn.preprocessing.StandardScaler). Here, we move the distribution of the data to have unit variance and a mean equal to zero.\n",
    "\n",
<<<<<<< Updated upstream
    "\\begin{equation}\n",
    "\\hat{\\textbf{x}} = \\frac{\\textbf{x}-\\mu_x}{\\sigma_x}\n",
    "\\end{equation}\n",
=======
    "$$\n",
    "\\hat{\\textbf{x}} = \\frac{\\textbf{x}-\\mu_x}{\\sigma_x}\n",
    "$$\n",
>>>>>>> Stashed changes
    "\n",
    "Of course there are other [scaling methods](https://medium.com/greyatom/why-how-and-when-to-scale-your-features-4b30ab09db5e) are available and you might want to review them and check which one is better than the other in which conditions."
   ]
  },
  {
   "cell_type": "code",
<<<<<<< Updated upstream
   "execution_count": 14,
=======
   "execution_count": 10,
>>>>>>> Stashed changes
   "metadata": {
    "id": "KlCTYKzV7Lja"
   },
   "outputs": [],
   "source": [
    "from sklearn.preprocessing import StandardScaler"
   ]
  },
  {
   "cell_type": "markdown",
   "metadata": {
    "id": "3nd3K52ulXb1"
   },
   "source": [
    "We initialize our scaler function"
   ]
  },
  {
   "cell_type": "code",
<<<<<<< Updated upstream
   "execution_count": 15,
=======
   "execution_count": 11,
>>>>>>> Stashed changes
   "metadata": {
    "id": "JDrRFz3o7ORI"
   },
   "outputs": [],
   "source": [
    "scaler = StandardScaler()"
   ]
  },
  {
   "cell_type": "markdown",
   "metadata": {
    "id": "sPkVGBadlbgO"
   },
   "source": [
    "and fit it to our data (i.e., get the mean vector $\\mu_x$ and the standard deviation vector $\\sigma_x$."
   ]
  },
  {
   "cell_type": "code",
<<<<<<< Updated upstream
   "execution_count": 16,
=======
   "execution_count": 12,
>>>>>>> Stashed changes
   "metadata": {
    "colab": {
     "base_uri": "https://localhost:8080/"
    },
    "id": "j6tTHY4Al5U-",
<<<<<<< Updated upstream
    "outputId": "8e2cff7e-8754-4ecd-c82f-0b3a55e99138"
=======
    "outputId": "aaebfa78-b16c-465c-eece-0fcafc26117f"
>>>>>>> Stashed changes
   },
   "outputs": [
    {
     "data": {
      "text/plain": [
       "StandardScaler()"
      ]
     },
<<<<<<< Updated upstream
     "execution_count": 16,
=======
     "execution_count": 12,
>>>>>>> Stashed changes
     "metadata": {},
     "output_type": "execute_result"
    }
   ],
   "source": [
    "scaler.fit(X)"
   ]
  },
  {
   "cell_type": "markdown",
   "metadata": {
    "id": "hAMOgj-JprOW"
   },
   "source": [
    "Now, let's scale our data"
   ]
  },
  {
   "cell_type": "code",
<<<<<<< Updated upstream
   "execution_count": 17,
=======
   "execution_count": 13,
>>>>>>> Stashed changes
   "metadata": {
    "colab": {
     "base_uri": "https://localhost:8080/"
    },
    "id": "m4TAblST7lIL",
<<<<<<< Updated upstream
    "outputId": "ca653b6e-0605-47f1-ec43-d752cf4ebe13"
=======
    "outputId": "39f11c41-88d1-42f8-c9ea-29510eadb3ee"
>>>>>>> Stashed changes
   },
   "outputs": [
    {
     "data": {
      "text/plain": [
<<<<<<< Updated upstream
       "array([[-0.82233916, -0.30469594, -0.24799507, ..., -0.73084025,\n",
       "        -0.72114687, -0.17433149],\n",
       "       [-0.82233916, -0.93207944,  0.35640473, ..., -0.73613157,\n",
       "        -0.88855579, -0.72662586],\n",
       "       [-0.82233916, -0.26173162,  0.221913  , ..., -0.73812874,\n",
       "        -0.88007765, -0.6630027 ],\n",
       "       ...,\n",
       "       [-1.01013559,  0.32808674, -0.97062682, ..., -1.30113579,\n",
       "        -0.08894773, -0.62928346],\n",
       "       [ 2.27630201, -1.50462555,  3.06087321, ...,  1.71616346,\n",
       "         2.10404877,  0.65033598],\n",
       "       [ 0.0227448 ,  1.33396517, -1.035666  , ..., -0.34979236,\n",
       "         0.36147962,  1.04843958]])"
      ]
     },
     "execution_count": 17,
=======
       "array([[-0.8207913 , -0.30394896, -0.24686341, ..., -0.7292805 ,\n",
       "        -0.7199414 , -0.17404176],\n",
       "       [-0.8207913 , -0.93144046,  0.35745018, ..., -0.7345701 ,\n",
       "        -0.88733148, -0.72655468],\n",
       "       [-0.8207913 , -0.26097723,  0.22297763, ..., -0.73656663,\n",
       "        -0.87885428, -0.66290635],\n",
       "       ...,\n",
       "       [-1.00853009,  0.32894267, -0.96939207, ..., -1.29939126,\n",
       "        -0.08781341, -0.62917377],\n",
       "       [ 2.27689879, -1.50408515,  3.06153285, ...,  1.71693037,\n",
       "         2.10493626,  0.65095204],\n",
       "       [ 0.02403327,  1.33499426, -1.03442197, ..., -0.34835607,\n",
       "         0.36256324,  1.04921318]])"
      ]
     },
     "execution_count": 13,
>>>>>>> Stashed changes
     "metadata": {},
     "output_type": "execute_result"
    }
   ],
   "source": [
    "X_hat = scaler.transform(X)\n",
    "X_hat"
   ]
  },
  {
   "cell_type": "markdown",
   "metadata": {
    "id": "g0zIoG5op95Z"
   },
   "source": [
    "### Exercise - read documentation ❗❗\n",
    "\n",
    "* What are exactly the mean an standard deviation vectors that we used to scaled the data? Go to the [sklearn documentation](https://scikit-learn.org/stable/modules/generated/sklearn.preprocessing.StandardScaler.html) and learn how you can access these. Reading the documentation of a library is a super important skill to learn! "
   ]
  },
  {
   "cell_type": "code",
<<<<<<< Updated upstream
   "execution_count": null,
=======
   "execution_count": 14,
>>>>>>> Stashed changes
   "metadata": {
    "id": "8WDOvs_WqVFj"
   },
   "outputs": [],
<<<<<<< Updated upstream
   "source": []
=======
   "source": [
    "# Your code here"
   ]
>>>>>>> Stashed changes
  },
  {
   "cell_type": "markdown",
   "metadata": {
    "id": "h2uOyvKYB_QE"
   },
   "source": [
    "## Training and test split ✂️\n",
    "\n",
    "Now that we have scaled the data, we have to make sure we split it. Remember, our goal is to create a model that **generalize well** to unseen data and not simply fit some seen data perfectly. To achieve this, our goal while splitting the data should be to ensure that the distribution of the test set is as close as possible to the expected distribution of the future data. Hence, often what we want is to make the training and test datasets to have a similar distribution.\n",
    "\n",
    "For example, let's see if how many molecules in our dataset are mutagenic vs. non-mutagenic."
   ]
  },
  {
   "cell_type": "code",
<<<<<<< Updated upstream
   "execution_count": 18,
=======
   "execution_count": 15,
>>>>>>> Stashed changes
   "metadata": {
    "colab": {
     "base_uri": "https://localhost:8080/"
    },
    "id": "QUCpGIgcB0y6",
<<<<<<< Updated upstream
    "outputId": "82ed55b9-820f-4539-9cb4-8a827906003e"
=======
    "outputId": "7493e0d0-8332-4e2b-a2ce-c60d79aa9787"
>>>>>>> Stashed changes
   },
   "outputs": [
    {
     "name": "stdout",
     "output_type": "stream",
     "text": [
<<<<<<< Updated upstream
      "Percentage of mutagenic molecules    : 56.42584230635638\n",
      "Percentage of non-mutagenic molecules: 43.57415769364362\n"
=======
      "Percentage of mutagenic molecules    : 56.40180430256766\n",
      "Percentage of non-mutagenic molecules: 43.59819569743234\n"
>>>>>>> Stashed changes
     ]
    }
   ],
   "source": [
<<<<<<< Updated upstream
    "y = df_clean['Experimental value'].to_numpy()\n",
=======
    "y = df['Experimental value'].to_numpy()\n",
>>>>>>> Stashed changes
    "perc_mutagenic = y.sum()/len(y)*100\n",
    "print('Percentage of mutagenic molecules    :', perc_mutagenic)\n",
    "print('Percentage of non-mutagenic molecules:', 100-perc_mutagenic)"
   ]
  },
  {
   "cell_type": "markdown",
   "metadata": {
    "id": "YFlMSb6TCZ7S"
   },
   "source": [
    "In this case, the proportion of mutagenic and non-mutagenic data is very similar. Then, we will go ahead and split the data randomly. However, when you have a much more imbalanced dataset, how would you split the data better? You can look for instance at what [stratified splitting](https://scikit-learn.org/stable/modules/cross_validation.html#stratification) is and why is it important.\n",
    "\n",
    "In summary, when splitting your data, always think about the distribution of your splits!"
   ]
  },
  {
   "cell_type": "code",
<<<<<<< Updated upstream
   "execution_count": 19,
=======
   "execution_count": 16,
>>>>>>> Stashed changes
   "metadata": {
    "id": "DQR8ATRjCPCq"
   },
   "outputs": [],
   "source": [
    "from sklearn.model_selection import train_test_split"
   ]
  },
  {
   "cell_type": "code",
<<<<<<< Updated upstream
   "execution_count": 20,
=======
   "execution_count": 17,
>>>>>>> Stashed changes
   "metadata": {
    "id": "I09X-mSqCRtN"
   },
   "outputs": [],
   "source": [
    "X_train, X_test, y_train, y_test = train_test_split(X_hat, y, test_size=0.2, random_state=0)"
   ]
  },
  {
   "cell_type": "code",
<<<<<<< Updated upstream
   "execution_count": 21,
=======
   "execution_count": 18,
>>>>>>> Stashed changes
   "metadata": {
    "colab": {
     "base_uri": "https://localhost:8080/"
    },
    "id": "yeIZ2XI5jwoD",
<<<<<<< Updated upstream
    "outputId": "32dc2318-453f-4baa-9b3b-285cac037c8b"
=======
    "outputId": "fbe389f9-7ccb-4252-81be-a751758e6682"
>>>>>>> Stashed changes
   },
   "outputs": [
    {
     "name": "stdout",
     "output_type": "stream",
     "text": [
<<<<<<< Updated upstream
      "Training points:  4606\n",
      "Training points:  1152\n"
=======
      "Training points:  4611\n",
      "Training points:  1153\n"
>>>>>>> Stashed changes
     ]
    }
   ],
   "source": [
    "print('Training points: ', len(y_train))\n",
    "print('Training points: ', len(y_test))"
   ]
  },
  {
   "cell_type": "markdown",
   "metadata": {
    "id": "fnRg4cMqDZia"
   },
   "source": [
    "### Exercise - splits distribution ❗❗\n",
    "\n",
    "* Check what is the proportion of mutagenic molecules in your train and test set? Was the random splitting good?"
   ]
  },
  {
   "cell_type": "code",
<<<<<<< Updated upstream
   "execution_count": 22,
=======
   "execution_count": 19,
>>>>>>> Stashed changes
   "metadata": {
    "id": "outc17O_DVKZ"
   },
   "outputs": [],
   "source": [
    "# Your code here"
   ]
  },
  {
   "cell_type": "markdown",
   "metadata": {
    "id": "Ti0h11a7CjPs"
   },
   "source": [
    "## kNN model 🏘️"
   ]
  },
  {
   "cell_type": "code",
<<<<<<< Updated upstream
   "execution_count": 23,
=======
   "execution_count": 20,
>>>>>>> Stashed changes
   "metadata": {
    "id": "fXHhnxgICgJD"
   },
   "outputs": [],
   "source": [
    "from sklearn.neighbors import KNeighborsClassifier"
   ]
  },
  {
   "cell_type": "markdown",
   "metadata": {
    "id": "axfX0cUMEWJN"
   },
   "source": [
    "We initialize the kNN model by specifying the parameter \"k\". Later, we will review some ways that help us in determining this parameter better. For now, let's set it to 3."
   ]
  },
  {
   "cell_type": "code",
<<<<<<< Updated upstream
   "execution_count": 24,
=======
   "execution_count": 21,
>>>>>>> Stashed changes
   "metadata": {
    "id": "0C18Ne_tCxdn"
   },
   "outputs": [],
   "source": [
    "knn = KNeighborsClassifier(n_neighbors=3)"
   ]
  },
  {
   "cell_type": "markdown",
   "metadata": {
    "id": "Ny_zGEKvEwf5"
   },
   "source": [
    "we train it"
   ]
  },
  {
   "cell_type": "code",
<<<<<<< Updated upstream
   "execution_count": 25,
=======
   "execution_count": 22,
>>>>>>> Stashed changes
   "metadata": {
    "colab": {
     "base_uri": "https://localhost:8080/"
    },
    "id": "WYtljFtOCzB7",
<<<<<<< Updated upstream
    "outputId": "6d8e7c6c-4233-4f71-8752-1e7c4f0372f7"
=======
    "outputId": "8471c4d9-fec0-41f9-b9a9-aa8a8da39007"
>>>>>>> Stashed changes
   },
   "outputs": [
    {
     "data": {
      "text/plain": [
       "KNeighborsClassifier(n_neighbors=3)"
      ]
     },
<<<<<<< Updated upstream
     "execution_count": 25,
=======
     "execution_count": 22,
>>>>>>> Stashed changes
     "metadata": {},
     "output_type": "execute_result"
    }
   ],
   "source": [
    "knn.fit(X_train, y_train)"
   ]
  },
  {
   "cell_type": "markdown",
   "metadata": {
    "id": "J1UYc51DEz3w"
   },
   "source": [
    "we predict the test set"
   ]
  },
  {
   "cell_type": "code",
<<<<<<< Updated upstream
   "execution_count": 26,
=======
   "execution_count": 23,
>>>>>>> Stashed changes
   "metadata": {
    "id": "8op0R9jbC4R0"
   },
   "outputs": [],
   "source": [
    "y_pred = knn.predict(X_test)"
   ]
  },
  {
   "cell_type": "markdown",
   "metadata": {
    "id": "M2EDTPLAHWit"
   },
   "source": [
    "Let's now evaluate our kNN model!\n",
    "\n",
    "We will use several metrics for classification, for a quick reminder on them check the [documentation](https://scikit-learn.org/stable/modules/classes.html#classification-metrics)."
   ]
  },
  {
   "cell_type": "code",
<<<<<<< Updated upstream
   "execution_count": 27,
=======
   "execution_count": 24,
>>>>>>> Stashed changes
   "metadata": {
    "id": "1iStpf04HV_1"
   },
   "outputs": [],
   "source": [
    "from sklearn.metrics import (confusion_matrix, accuracy_score, precision_score, \n",
    "                             recall_score, f1_score, roc_auc_score, ConfusionMatrixDisplay) "
   ]
  },
  {
   "cell_type": "markdown",
   "metadata": {
    "id": "T6ppJg7yGM2R"
   },
   "source": [
    "Let first look at the confusion matrix"
   ]
  },
  {
   "cell_type": "code",
<<<<<<< Updated upstream
   "execution_count": 28,
=======
   "execution_count": 25,
>>>>>>> Stashed changes
   "metadata": {
    "colab": {
     "base_uri": "https://localhost:8080/"
    },
    "id": "47uV_7PAg808",
<<<<<<< Updated upstream
    "outputId": "2b304c3a-788c-4d04-8e05-87a58e77337d"
=======
    "outputId": "85d6479e-aadc-4cfd-d473-33ff5fe4023a"
>>>>>>> Stashed changes
   },
   "outputs": [
    {
     "data": {
      "text/plain": [
<<<<<<< Updated upstream
       "array([[328, 175],\n",
       "       [140, 509]], dtype=int64)"
      ]
     },
     "execution_count": 28,
=======
       "array([[330, 179],\n",
       "       [145, 499]], dtype=int64)"
      ]
     },
     "execution_count": 25,
>>>>>>> Stashed changes
     "metadata": {},
     "output_type": "execute_result"
    }
   ],
   "source": [
    "cm = confusion_matrix(y_test, y_pred)\n",
    "cm"
   ]
  },
  {
   "cell_type": "markdown",
   "metadata": {
    "id": "CD9QYwXEGQAl"
   },
   "source": [
    "to see a prettier confusion matrix"
   ]
  },
  {
   "cell_type": "code",
<<<<<<< Updated upstream
   "execution_count": 29,
=======
   "execution_count": 26,
>>>>>>> Stashed changes
   "metadata": {
    "colab": {
     "base_uri": "https://localhost:8080/",
     "height": 296
    },
    "id": "zxE7tmAQGaxn",
<<<<<<< Updated upstream
    "outputId": "d77df237-8655-48d4-9c0d-d4906b1cf61c"
=======
    "outputId": "c810185d-74be-47aa-c255-bd307476429c"
>>>>>>> Stashed changes
   },
   "outputs": [
    {
     "data": {
      "text/plain": [
<<<<<<< Updated upstream
       "<sklearn.metrics._plot.confusion_matrix.ConfusionMatrixDisplay at 0x1b431c3efa0>"
      ]
     },
     "execution_count": 29,
=======
       "<sklearn.metrics._plot.confusion_matrix.ConfusionMatrixDisplay at 0x17b75531c48>"
      ]
     },
     "execution_count": 26,
>>>>>>> Stashed changes
     "metadata": {},
     "output_type": "execute_result"
    },
    {
     "data": {
<<<<<<< Updated upstream
      "image/png": "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\n",
      "text/plain": [
       "<Figure size 432x288 with 2 Axes>"
      ]
     },
     "metadata": {
      "needs_background": "light"
     },
=======
      "image/png": "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\n",
      "text/plain": [
       "<Figure size 640x480 with 2 Axes>"
      ]
     },
     "metadata": {},
>>>>>>> Stashed changes
     "output_type": "display_data"
    }
   ],
   "source": [
    "disp = ConfusionMatrixDisplay(confusion_matrix=cm)\n",
    "disp.plot()"
   ]
  },
  {
   "cell_type": "markdown",
   "metadata": {
    "id": "xWWS51LpGv75"
   },
   "source": [
    "Now, let's look at the other metrics"
   ]
  },
  {
   "cell_type": "code",
<<<<<<< Updated upstream
   "execution_count": 30,
=======
   "execution_count": 27,
>>>>>>> Stashed changes
   "metadata": {
    "colab": {
     "base_uri": "https://localhost:8080/"
    },
    "id": "JDQ4clUhG0E2",
<<<<<<< Updated upstream
    "outputId": "d4ecf921-195b-4110-c224-98df5b600840"
=======
    "outputId": "437ce110-5f66-48f2-f8cc-36973a629a00"
>>>>>>> Stashed changes
   },
   "outputs": [
    {
     "name": "stdout",
     "output_type": "stream",
     "text": [
<<<<<<< Updated upstream
      "Accuracy:   0.7265625      \n",
      "Precision:  0.7441520467836257\n",
      "Recall:     0.7842835130970724\n",
      "F1:         0.7636909227306825\n"
=======
      "Accuracy:   0.7189939288811795\n",
      "Precision:  0.7359882005899705\n",
      "Recall:     0.7748447204968945\n",
      "F1:         0.7549167927382754\n"
>>>>>>> Stashed changes
     ]
    }
   ],
   "source": [
    "print('{:<10}  {:<15}'.format('Accuracy:', accuracy_score(y_test, y_pred)))\n",
    "print('{:<10}  {:<15}'.format('Precision:', precision_score(y_test, y_pred)))\n",
    "print('{:<10}  {:<15}'.format('Recall:', recall_score(y_test, y_pred)))\n",
    "print('{:<10}  {:<15}'.format('F1:', f1_score(y_test, y_pred)))"
   ]
  },
  {
   "cell_type": "markdown",
   "metadata": {
    "id": "M3WtaK81L8iT"
   },
   "source": [
    "### Comparison to VEGA model"
   ]
  },
  {
   "cell_type": "markdown",
   "metadata": {
    "id": "Tec9purNJ-OK"
   },
   "source": [
    "What do you think about the metrics? Is the kNN model performing good or bad?\n",
    "Let's compare it to the predictions of a kNN model trained on this same dataset and published as part of the [VEGA platform](https://www.vegahub.eu/portfolio-item/vega-qsar/). In the VEGA model, they have choosen k=4 with a similarity threshold of 0.7 (according to an internal similarity metric) Why is such threshold important?\n",
    "\n",
    "Also, the developers of the VEGA kNN model used the [leave-one-out](https://en.wikipedia.org/wiki/Cross-validation_(statistics)#Leave-one-out_cross-validation) approach to assess the performace of their model. Why is this approach specially suitable when using the kNN algorithm? "
   ]
  },
  {
<<<<<<< Updated upstream
=======
   "cell_type": "code",
   "execution_count": 28,
   "metadata": {
    "colab": {
     "base_uri": "https://localhost:8080/"
    },
    "id": "v9JNqE4DOgHN",
    "outputId": "e3df3ea1-bb38-405e-cfa7-30262175cfee"
   },
   "outputs": [
    {
     "data": {
      "text/plain": [
       "0       1\n",
       "1       1\n",
       "2       1\n",
       "3       0\n",
       "4       0\n",
       "       ..\n",
       "5759    0\n",
       "5760    1\n",
       "5761    1\n",
       "5762    1\n",
       "5763    0\n",
       "Name: Predicted value, Length: 5764, dtype: object"
      ]
     },
     "execution_count": 28,
     "metadata": {},
     "output_type": "execute_result"
    }
   ],
   "source": [
    "y_vega = df['Predicted value']\n",
    "y_vega"
   ]
  },
  {
   "cell_type": "markdown",
   "metadata": {
    "id": "fTVFVn61PXVQ"
   },
   "source": [
    "Notice that the type of `y_vega` is `object`. This means that potentially its elements have different data types! Let's use a for-loop to see if we can discover which elements are causing the trouble."
   ]
  },
  {
   "cell_type": "code",
   "execution_count": 29,
   "metadata": {
    "colab": {
     "base_uri": "https://localhost:8080/"
    },
    "id": "7DLhRaONQ3C1",
    "outputId": "b1a754a3-1afa-458a-c5e4-cfe723047033"
   },
   "outputs": [
    {
     "name": "stdout",
     "output_type": "stream",
     "text": [
      "1844, Non Predicted\n",
      "2194, Non Predicted\n",
      "4118, Non Predicted\n",
      "4180, Non Predicted\n",
      "5633, Non Predicted\n",
      "5655, Non Predicted\n"
     ]
    }
   ],
   "source": [
    "weird_predictions_idxs = []\n",
    "for i, label in enumerate(y_vega):\n",
    "  try:\n",
    "    int(label)\n",
    "  except:\n",
    "    print('{:<4}, {:<10}'.format(i, label))\n",
    "    weird_predictions_idxs.append(i)"
   ]
  },
  {
   "cell_type": "markdown",
   "metadata": {
    "id": "6MogCTlRRpPu"
   },
   "source": [
    "Indeed!! 6 elements of the series are not integers, but rather strings! This is consistent with the reports of VEGA that say that 6 compounds in this database were not able to be predicted due to not complying with the minimum similarity threshold of 0.7.\n",
    "\n",
    "This illustrates clearly the concept of defining an [applicability domain](https://en.wikipedia.org/wiki/Applicability_domain) of the models we develop. Specially for chemical engineering application! \n",
    "\n",
    "Let's now remove these molecules from the comparison..."
   ]
  },
  {
   "cell_type": "code",
   "execution_count": 30,
   "metadata": {
    "id": "I7LrmXCRPWyp"
   },
   "outputs": [],
   "source": [
    "df_clean = df.drop(index=weird_predictions_idxs)"
   ]
  },
  {
   "cell_type": "markdown",
   "metadata": {
    "id": "tDtWT9x0TPYW"
   },
   "source": [
    "now, let's get the cleaned values 😀"
   ]
  },
  {
   "cell_type": "code",
   "execution_count": 31,
   "metadata": {
    "colab": {
     "base_uri": "https://localhost:8080/"
    },
    "id": "KwbofjYoOmPH",
    "outputId": "9bef3fb3-a421-4613-e35f-90479f6968d2"
   },
   "outputs": [
    {
     "data": {
      "text/plain": [
       "0       1\n",
       "1       1\n",
       "2       1\n",
       "3       0\n",
       "4       0\n",
       "       ..\n",
       "5759    0\n",
       "5760    1\n",
       "5761    1\n",
       "5762    1\n",
       "5763    0\n",
       "Name: Predicted value, Length: 5758, dtype: int32"
      ]
     },
     "execution_count": 31,
     "metadata": {},
     "output_type": "execute_result"
    }
   ],
   "source": [
    "y_vega_clean = df_clean['Predicted value'].astype(int)\n",
    "y_vega_clean"
   ]
  },
  {
>>>>>>> Stashed changes
   "cell_type": "markdown",
   "metadata": {
    "id": "nyfyVxebUAAX"
   },
   "source": [
    "#### VEGA model"
   ]
  },
  {
   "cell_type": "code",
<<<<<<< Updated upstream
   "execution_count": 127,
=======
   "execution_count": 32,
>>>>>>> Stashed changes
   "metadata": {
    "colab": {
     "base_uri": "https://localhost:8080/",
     "height": 348
    },
    "id": "cD_XnbgGJ9PD",
<<<<<<< Updated upstream
    "outputId": "2b79c535-7ef7-4ae3-f575-75e48cbdb534"
=======
    "outputId": "282858b2-6f5c-43cb-f8ee-491500517001"
>>>>>>> Stashed changes
   },
   "outputs": [
    {
     "name": "stdout",
     "output_type": "stream",
     "text": [
      "Accuracy:   0.7999305314345259\n",
      "Precision:  0.8168631006346329\n",
      "Recall:     0.8319482917820868\n",
      "F1:         0.8243366880146386\n"
     ]
    },
    {
     "data": {
<<<<<<< Updated upstream
      "image/png": "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\n",
      "text/plain": [
       "<Figure size 432x288 with 2 Axes>"
      ]
     },
     "metadata": {
      "needs_background": "light"
     },
=======
      "image/png": "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\n",
      "text/plain": [
       "<Figure size 640x480 with 2 Axes>"
      ]
     },
     "metadata": {},
>>>>>>> Stashed changes
     "output_type": "display_data"
    }
   ],
   "source": [
    "y_clean = df_clean['Experimental value'].astype(int)\n",
    "\n",
    "cm = confusion_matrix(y_clean, y_vega_clean)\n",
    "disp = ConfusionMatrixDisplay(confusion_matrix=cm)\n",
    "disp.plot()\n",
    "print('{:<10}  {:<15}'.format('Accuracy:', accuracy_score(y_clean, y_vega_clean)))\n",
    "print('{:<10}  {:<15}'.format('Precision:', precision_score(y_clean, y_vega_clean)))\n",
    "print('{:<10}  {:<15}'.format('Recall:', recall_score(y_clean, y_vega_clean)))\n",
    "print('{:<10}  {:<15}'.format('F1:', f1_score(y_clean, y_vega_clean)))"
   ]
  },
  {
   "cell_type": "markdown",
   "metadata": {
    "id": "x-imyMSBUGaE"
   },
   "source": [
    "#### Exercise - leave-one-out cross-validation ❗❗\n",
    "\n",
    "* Can you now assess our previous kNN model configuration using the leave-one-out approach on the cleaned dataset?"
   ]
  },
  {
   "cell_type": "code",
<<<<<<< Updated upstream
   "execution_count": 128,
=======
   "execution_count": 33,
>>>>>>> Stashed changes
   "metadata": {
    "colab": {
     "base_uri": "https://localhost:8080/"
    },
    "id": "uc3jhsfoUZOD",
<<<<<<< Updated upstream
    "outputId": "e2208f4e-2555-420e-f533-944d6f46e230"
=======
    "outputId": "a0c24615-5834-4d07-c243-2a7a35b9e13d"
>>>>>>> Stashed changes
   },
   "outputs": [
    {
     "name": "stdout",
     "output_type": "stream",
     "text": [
      "Number of folds:  5758\n"
     ]
    }
   ],
   "source": [
    "from sklearn.model_selection import LeaveOneOut\n",
    "\n",
    "X_clean = df_clean.drop(['Unnamed: 0', 'Id','CAS','SMILES','Status','Experimental value','Predicted value'],axis=1)\n",
    "\n",
    "loo = LeaveOneOut()\n",
    "print('Number of folds: ', loo.get_n_splits(X_clean))"
   ]
  },
  {
   "cell_type": "code",
<<<<<<< Updated upstream
   "execution_count": 129,
=======
   "execution_count": 34,
>>>>>>> Stashed changes
   "metadata": {
    "id": "irPFyGSuW5H-"
   },
   "outputs": [],
   "source": [
    "y_pred_loo_our_model = np.zeros(y_clean.shape[0])\n",
    "for i, (train_index, test_index) in enumerate(loo.split(X_clean)):\n",
    "  # Get training data for the current fold\n",
    "  X_train_loo = X_clean.iloc[train_index]\n",
    "  y_train_loo = y_clean.iloc[train_index]\n",
    "\n",
    "  # Get test data for the current fold\n",
    "  X_test_loo = X_clean.iloc[test_index]\n",
    "\n",
    "  # Train kNN\n",
    "  # Your code here\n",
    "\n",
    "  # Get prediction on the test molecule\n",
    "  # Your code here\n",
    "\n",
    "  # Store the prediction in `y_pred_loo_our_model`\n",
    "  # Your code here\n"
   ]
  },
  {
   "cell_type": "code",
<<<<<<< Updated upstream
   "execution_count": 130,
=======
   "execution_count": 35,
>>>>>>> Stashed changes
   "metadata": {
    "colab": {
     "base_uri": "https://localhost:8080/",
     "height": 403
    },
    "id": "6FW3Wk0KYWnC",
<<<<<<< Updated upstream
    "outputId": "ee03b470-b467-4240-a3b9-040330470fcb"
=======
    "outputId": "9fdf9653-6705-4510-818c-0d15a1d2f5b6"
>>>>>>> Stashed changes
   },
   "outputs": [
    {
     "name": "stdout",
     "output_type": "stream",
     "text": [
      "Accuracy:   0.4357415769364363\n",
      "Precision:  0.0            \n",
      "Recall:     0.0            \n",
      "F1:         0.0            \n"
     ]
    },
    {
     "name": "stderr",
     "output_type": "stream",
     "text": [
<<<<<<< Updated upstream
      "C:\\ProgramData\\Anaconda3\\lib\\site-packages\\sklearn\\metrics\\_classification.py:1318: UndefinedMetricWarning: Precision is ill-defined and being set to 0.0 due to no predicted samples. Use `zero_division` parameter to control this behavior.\n",
=======
      "C:\\Users\\DELL\\Anaconda3\\envs\\ML4ChemEng\\lib\\site-packages\\sklearn\\metrics\\_classification.py:1318: UndefinedMetricWarning: Precision is ill-defined and being set to 0.0 due to no predicted samples. Use `zero_division` parameter to control this behavior.\n",
>>>>>>> Stashed changes
      "  _warn_prf(average, modifier, msg_start, len(result))\n"
     ]
    },
    {
     "data": {
<<<<<<< Updated upstream
      "image/png": "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\n",
      "text/plain": [
       "<Figure size 432x288 with 2 Axes>"
      ]
     },
     "metadata": {
      "needs_background": "light"
     },
=======
      "image/png": "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\n",
      "text/plain": [
       "<Figure size 640x480 with 2 Axes>"
      ]
     },
     "metadata": {},
>>>>>>> Stashed changes
     "output_type": "display_data"
    }
   ],
   "source": [
    "cm = confusion_matrix(y_clean, y_pred_loo_our_model)\n",
    "disp = ConfusionMatrixDisplay(confusion_matrix=cm)\n",
    "disp.plot()\n",
    "print('{:<10}  {:<15}'.format('Accuracy:', accuracy_score(y_clean, y_pred_loo_our_model)))\n",
    "print('{:<10}  {:<15}'.format('Precision:', precision_score(y_clean, y_pred_loo_our_model)))\n",
    "print('{:<10}  {:<15}'.format('Recall:', recall_score(y_clean, y_pred_loo_our_model)))\n",
    "print('{:<10}  {:<15}'.format('F1:', f1_score(y_clean, y_pred_loo_our_model)))"
   ]
  },
  {
   "cell_type": "markdown",
   "metadata": {
    "id": "uOnXu2eHHgUR"
   },
   "source": [
    "\n",
    "## Finding the best k in kNN 🔎\n",
    "\n",
    "What about the parameter k? How do we find the best k for our model? Why the VEGA model developers used k=4? Let's try to answer this...\n",
    "\n",
    "k is a hyperparameter of the model and should be chosen using a validation set.\n",
    "\n",
    "```{important}\n",
    "Remember to reserve your test set exclusively for assesing your model! Never use it for training or hyperparameter tuning!  \n",
    "```"
   ]
  },
  {
   "cell_type": "code",
<<<<<<< Updated upstream
   "execution_count": 131,
=======
   "execution_count": 37,
>>>>>>> Stashed changes
   "metadata": {
    "colab": {
     "base_uri": "https://localhost:8080/",
     "height": 49,
     "referenced_widgets": [
<<<<<<< Updated upstream
      "131bcbae8f1a4166b7c187e27752a4a1",
      "0d5dd3b8b7914bafb3c57066f2117f4b",
      "da3943a1533d48339cc99add56f296ec",
      "8ab9c22f3c6b407aab7c2b20542caddf",
      "62cc78dd0f354e4bab79b1adcbbb8d51",
      "bbb549238aca44c0bcc7b41a4e0516d4",
      "34b5cde70d7a41ae82eec617f48a33ff",
      "b01c55a604c741d3838d98d412f6098e",
      "99446b25af0a41efb78e8347a0468bc5",
      "536147b20e874c8a820f2ffbfd010b5a",
      "cbeab16ad6e344eea77e78270864e9bc"
     ]
    },
    "id": "GLeXAFEJnQj8",
    "outputId": "59e721c0-50af-4ea9-a904-f99b613cb10e"
=======
      "aaad2ac2b97a49a995318db161eb7e8c",
      "0de6090b275f41d392e39125417371a0",
      "0e0c8c9905914f96a2343ce8511a23e2",
      "c08dec14f83a4a53bc6dfa4bc546f3cd",
      "b9f5da16afc7479a9c8476e8ea530fe4",
      "d75ecef7757b4f6aad59f7d1c051e86d",
      "288e240bc19c41ba99d4850e7a69b84f",
      "13348e496931439f95d06faa9654b397",
      "2bc76da6df8c4d81b66149679231b90c",
      "9ca9f5f78d1542838c3f70ed43b67fc5",
      "5adbccfdcdc94958996b2c665c407b91"
     ]
    },
    "id": "GLeXAFEJnQj8",
    "outputId": "126b19f0-2956-4ed3-e1e5-8d61a5678aaa"
>>>>>>> Stashed changes
   },
   "outputs": [
    {
     "data": {
      "application/vnd.jupyter.widget-view+json": {
<<<<<<< Updated upstream
       "model_id": "21784a5ef4674660a28e7680c27e8b6b",
=======
       "model_id": "72d33a2dab3b45e4b7864d3a3ba1daad",
>>>>>>> Stashed changes
       "version_major": 2,
       "version_minor": 0
      },
      "text/plain": [
       "  0%|          | 0/50 [00:00<?, ?it/s]"
      ]
     },
     "metadata": {},
     "output_type": "display_data"
    }
   ],
   "source": [
    "import numpy as np\n",
    "from tqdm.notebook import tqdm\n",
    "\n",
    "num_ks = np.arange(1, 100, 2).astype(int)\n",
    "\n",
    "X_train_hyp, X_valid, y_train_hyp, y_valid = train_test_split(X_train, y_train, test_size=0.1, random_state=0)\n",
    "\n",
    "train_accuracy = []\n",
    "valid_accuracy = []\n",
    "\n",
    "for i in tqdm(range(len(num_ks))):\n",
    "  knn = KNeighborsClassifier(n_neighbors=num_ks[i])\n",
    "  knn.fit(X_train_hyp, y_train_hyp)\n",
    "\n",
    "  pred_train = knn.predict(X_train_hyp)\n",
    "  pred_valid  = knn.predict(X_valid)\n",
    "\n",
    "  train_accuracy.append(1-accuracy_score(y_train_hyp, pred_train))\n",
    "  valid_accuracy.append(1-accuracy_score(y_valid, pred_valid))"
   ]
  },
  {
   "cell_type": "code",
<<<<<<< Updated upstream
   "execution_count": 132,
=======
   "execution_count": 38,
>>>>>>> Stashed changes
   "metadata": {
    "colab": {
     "base_uri": "https://localhost:8080/",
     "height": 388
    },
    "id": "S4CftpmcHmKM",
<<<<<<< Updated upstream
    "outputId": "c57e9c1d-6335-4ff0-e7d6-9142bdb64a65"
=======
    "outputId": "2ebaef92-7881-4efa-a1e7-83ba27b4e33c"
>>>>>>> Stashed changes
   },
   "outputs": [
    {
     "data": {
<<<<<<< Updated upstream
      "image/png": "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\n",
      "text/plain": [
       "<Figure size 720x432 with 1 Axes>"
      ]
     },
     "metadata": {
      "needs_background": "light"
     },
=======
      "image/png": "iVBORw0KGgoAAAANSUhEUgAAA1cAAAINCAYAAADSoIXVAAAAOXRFWHRTb2Z0d2FyZQBNYXRwbG90bGliIHZlcnNpb24zLjUuMywgaHR0cHM6Ly9tYXRwbG90bGliLm9yZy/NK7nSAAAACXBIWXMAAA9hAAAPYQGoP6dpAAB37ElEQVR4nO3deVxU9f7H8fcAAqKCFgpi4p6Wey5k+0IuLaZZqbeuZrb82m5Gq+VuZbaa6c2ya9qqddutLCNtU7NcKsssy0JTVDRAcUGH7++Pc2eGkcWZYeDMwOv5eJwHM2e+58xn4ADzme/3+/k6jDFGAAAAAIAKibA7AAAAAACoDkiuAAAAACAISK4AAAAAIAhIrgAAAAAgCEiuAAAAACAISK4AAAAAIAhIrgAAAAAgCEiuAAAAACAIouwOIBQVFRVp69atqlevnhwOh93hAAAAALCJMUZ79uxRSkqKIiLK75siuSrF1q1b1bRpU7vDAAAAABAiNm/erOOOO67cNiRXpahXr54k6xsYHx9vczQAAAAA7JKfn6+mTZu6c4TykFyVwjUUMD4+nuQKAAAAgE/ThShoAQAAAABBQHIFAAAAAEFAcgUAAAAAQcCcKwAAAMAPxhgdPnxYTqfT7lAQBJGRkYqKigrKEkwkVwAAAICPCgsLtW3bNu3bt8/uUBBEcXFxaty4saKjoyt0HpIrAAAAwAdFRUXatGmTIiMjlZKSoujo6KD0dsA+xhgVFhZq586d2rRpk9q0aXPUhYLLQ3IFAAAA+KCwsFBFRUVq2rSp4uLi7A4HQVK7dm3VqlVLf/75pwoLCxUbGxvwuShoAQAAAPihIj0bCE3B+plyZQAAAABAEJBcAQAAAEAQMOcKAAAAqCJZWVJOTtmPJyZKqalVF09FNG/eXKNGjdKoUaPsDiVkkFwBAAAAVSArS2rbVjpwoOw2sbHShg3BTbCOVtFw/PjxmjBhgt/n/eabb1SnTp0Ao6qeSK4AAACAKpCTU35iJVmP5+QEN7natm2b+/aCBQs0btw4bdiwwb2vbt267tvGGDmdTkVFHT1NaNiwYfCCrCaYcwUAAABUUEFB2dvREqpAzuuP5ORk95aQkCCHw+G+//PPP6tevXr68MMP1a1bN8XExOjLL7/Ub7/9posvvlhJSUmqW7euevTooU8++cTrvM2bN9e0adPc9x0Oh5577jkNHDhQcXFxatOmjd59993AX3wYIrkKRRMmSJMnl/7Y5MnW4wAAAAgZdeuWvQ0aFPh5mzcv/ZzBds899+ihhx7S+vXr1alTJ+3du1fnn3++MjMztWbNGvXt21cXXXSRsrKyyj3PxIkTdfnll+v777/X+eefryuuuEK7d+8OfsAhiuQqFEVGSuPGlUywJk+29kdG2hMXAAAAqqVJkybpvPPOU6tWrXTMMceoc+fOuv7669WhQwe1adNGkydPVqtWrY7aE3XVVVdp6NChat26tR588EHt3btXK1eurKJXYT/mXIWisWOtr+PGWV8vu0yaPVt6/HFp0iTP46WZMMFKvkprM3my5HTS8wUAABBke/eW/VhFPhf/44/Aj/VH9+7dve7v3btXEyZM0Pvvv69t27bp8OHD2r9//1F7rjp16uS+XadOHcXHx2vHjh2VEnMoIrkKVcUTrAkTpKIiKTpa+uADq9RMhw6erVEjyVUFxtXrVfwckqfXa9KkKn0ZAAAANUFlFc2rqmJ8R1b9u+OOO7R48WI9+uijat26tWrXrq1LL71UhYWF5Z6nVq1aXvcdDoeKioqCHm+oIrkKZWPHSvffL7ku4sJCacUKa3OJj5dycz3309Kka67xTrCKJ1bl9XoBAAAAkr766itdddVVGjhwoCSrJ+uPqupGC2MkV6Fs8mQroYqOtr7efLN02mnSunWeLTnZ02slSbfcIv3yi3XblVAdPkxiBQAAYLPERGsdq6Otc5WYWHUxlaVNmzZ68803ddFFF8nhcGjs2LE1qgcqUCRXoerI3ibX/UaNvAtdOJ2e20VFUps20r590pYt1r7Dh63kjMQKAADAVqmp1gLBOTllt0lMDO4aV4F6/PHHdfXVV+uUU05RYmKi7r77buXn59sdVshzGGOM3UGEmvz8fCUkJCgvL0/x8fFVH0BZw/j8Gd43erT00EOe+/RcAQAAVMiBAwe0adMmtWjRQrGxsXaHgyAq72frT25Az1UocjpLT4Zc94v3VpVm8mQrsTr1VOmrr6zerNKKXAAAAAAIGpKrUFReqfSjJUfFe7f+8Q+pdWurNuh995FgAQAAAJWI5Kq6ObLX69NPrR6s6GgpJubovV4AAAAAAkJyVd0c2et19tme2/RYAQAAAJUmwu4AUEWcTmnrVrujAAAAAKotkquaYMUKa+7V/xaBAwAAABB8JFc1QcuW0l9/SStXSt9+a3c0AAAAQLVEclUTNGokXXaZdfvpp+2NBQAAAKimSK5qihtvtL6+8or099/2xgIAAICwctZZZ2nUqFHu+82bN9e0adPKPcbhcOjtt9+u8HMH6zxVgeSqpjjlFKlTJ+nAAWnuXLujAQAAQBW56KKL1Ldv31If++KLL+RwOPT999/7dc5vvvlG1113XTDCc5swYYK6dOlSYv+2bdvUr1+/oD5XZSG5qikcDk/v1dNPS0VF9sYDAABQE02YIE2eXPpjkyeXXFYnCEaOHKnFixdry5YtJR57/vnn1b17d3Xq1MmvczZs2FBxcXHBCrFcycnJiomJqZLnqiiSq5rkiiukevWkX3+VvvrK7mgAAABqnshIady4kgnW5MnW/sjIoD/lhRdeqIYNG2ruEaOX9u7dq9dff10DBgzQ0KFD1aRJE8XFxaljx4569dVXyz3nkcMCf/31V51xxhmKjY3ViSeeqMWLF5c45u6779bxxx+vuLg4tWzZUmPHjtWhQ4ckSXPnztXEiRP13XffyeFwyOFwuOM9cljgDz/8oHPOOUe1a9fWscceq+uuu0579+51P37VVVdpwIABevTRR9W4cWMde+yxuummm9zPVZlCIrmaOXOmmjdvrtjYWKWlpWnlypVltn3zzTfVvXt31a9fX3Xq1FGXLl304osverW56qqr3D8U11ZWV2iNUreuNHOmtGyZdNppdkcDAABQfRQUlL0dOOBpN3asNGaMlUiNHWs9PnasdX/MGOmOO3w7rx+ioqI0bNgwzZ07V8YY9/7XX39dTqdTV155pbp166b3339f69at03XXXad//vOf5b4nL66oqEiXXHKJoqOj9fXXX2vWrFm6++67S7SrV6+e5s6dq59++klPPvmkZs+erSeeeEKSNHjwYN1+++1q3769tm3bpm3btmnw4MElzlFQUKA+ffqoQYMG+uabb/T666/rk08+0c033+zVbsmSJfrtt9+0ZMkSzZs3T3Pnzi2RXFYKY7P58+eb6OhoM2fOHPPjjz+aa6+91tSvX99s37691PZLliwxb775pvnpp5/Mxo0bzbRp00xkZKRZtGiRu83w4cNN3759zbZt29zb7t27fY4pLy/PSDJ5eXkVfn0AAACoHvbv329++ukns3///pIPSmVv55/v3TYuruy2Z57p3TYxsfR2flq/fr2RZJYsWeLed/rpp5srr7yy1PYXXHCBuf322933zzzzTHPrrbe67zdr1sw88cQTxhhjPvroIxMVFWX++usv9+MffvihkWTeeuutMmN65JFHTLdu3dz3x48fbzp37lyiXfHzPPvss6ZBgwZm79697sfff/99ExERYbKzs40xVi7QrFkzc/jwYXebyy67zAwePLjMWMr72fqTG9jec/X444/r2muv1YgRI3TiiSdq1qxZiouL05w5c0ptf9ZZZ2ngwIE64YQT1KpVK916663q1KmTvvzyS692MTExSk5Odm8NGjSoipcTXph3BQAAUCO0a9dOp5xyivs99saNG/XFF19o5MiRcjqdmjx5sjp27KhjjjlGdevW1UcffaSsrCyfzr1+/Xo1bdpUKSkp7n29evUq0W7BggU69dRTlZycrLp162rMmDE+P0fx5+rcubPq1Knj3nfqqaeqqKhIGzZscO9r3769IosNsWzcuLF27Njh13MFwtbkqrCwUKtWrVJ6erp7X0REhNLT07V8+fKjHm+MUWZmpjZs2KAzzjjD67GlS5eqUaNGatu2rW644Qbt2rWrzPMcPHhQ+fn5Xlu1lpsr3XST1K6dVFhodzQAAADhb+/esrc33vBuu2OHNQRQkqKjra9jxlhtP/zQu+0ff5R+zgCMHDlSb7zxhvbs2aPnn39erVq10plnnqlHHnlETz75pO6++24tWbJEa9euVZ8+fVQYxPeJy5cv1xVXXKHzzz9fCxcu1Jo1a3TfffcF9TmKq1Wrltd9h8OhoiroWLA1ucrJyZHT6VRSUpLX/qSkJGVnZ5d5XF5enurWravo6GhdcMEFeuqpp3Teeee5H+/bt69eeOEFZWZmaurUqfrss8/Ur18/OZ3OUs83ZcoUJSQkuLemTZsG5wWGqjp1pLfesgpbvPWW3dEAAACEvzp1yt5iY73bPv64dP/90qRJ0sGD1tf777f2167t23kDcPnllysiIkKvvPKKXnjhBV199dVyOBz66quvdPHFF+vKK69U586d1bJlS/3yyy8+n/eEE07Q5s2btW3bNve+FStWeLVZtmyZmjVrpvvuu0/du3dXmzZt9Oeff3q1iY6OLvP9evHn+u6771RQbN7ZV199pYiICLVt29bnmCuL7cMCA1GvXj2tXbtW33zzjR544AFlZGRo6dKl7seHDBmi/v37q2PHjhowYIAWLlyob775xqtNcaNHj1ZeXp5727x5c9W8ELvUqiW51iX497/tjQUAAKAmcVUFnDTJKmQhWV8nTSq9imAQ1a1bV4MHD9bo0aO1bds2XXXVVZKkNm3aaPHixVq2bJnWr1+v66+/Xtu3b/f5vOnp6Tr++OM1fPhwfffdd/riiy903333ebVp06aNsrKyNH/+fP3222+aPn263jriQ/7mzZtr06ZNWrt2rXJycnTw4MESz3XFFVcoNjZWw4cP17p167RkyRLdcsst+uc//1miw8YOtiZXiYmJioyMLPHD2759u5KTk8s8LiIiQq1bt1aXLl10++2369JLL9WUKVPKbN+yZUslJiZq48aNpT4eExOj+Ph4r63au/Zaq9Tn559L69bZHQ0AAEDN4HR6J1YurgTrKD03FTVy5Ej9/fff6tOnj3uO1JgxY3TSSSepT58+Ouuss5ScnKwBAwb4fM6IiAi99dZb2r9/v3r27KlrrrlGDzzwgFeb/v3767bbbtPNN9+sLl26aNmyZRp7xPdg0KBB6tu3r84++2w1bNiw1HLwcXFx+uijj7R792716NFDl156qc4991zNmDHD/29GJXD8rwKHbdLS0tSzZ0899dRTkqxSjqmpqbr55pt1zz33+HSOq6++Wr///nuZPVNbtmxRamqq3n77bfXv3/+o58vPz1dCQoLy8vKqd6J16aXWGOAbb7RKtAMAAKBMBw4c0KZNm9SiRQvFHjnUD2GtvJ+tP7mB7cMCMzIyNHv2bM2bN0/r16/XDTfcoIKCAo0YMUKSNGzYMI0ePdrdfsqUKVq8eLF+//13rV+/Xo899phefPFFXXnllZKsxdDuvPNOrVixQn/88YcyMzN18cUXq3Xr1urTp48trzFk3Xij9fWFF6TqXsQDAAAAqGRRdgcwePBg7dy5U+PGjVN2dra6dOmiRYsWucdMZmVlKSLCkwMWFBToxhtv1JYtW1S7dm21a9dOL730knuRscjISH3//feaN2+ecnNzlZKSot69e2vy5MmKiYmx5TWGrLPPltq2lTZskF56yZNsAQAAAPCb7cMCQ1GNGRYoSXPnShs3WgUuUlPtjgYAACBkMSyw+grWsEDbe65gs/9ViQEAAABQMbbPuQIAAACA6oDkCpIx0gcfSP37S+Us3gwAAACJWTXVT7B+piRXkBwO6YEHpPfek557zu5oAAAAQlKtWrUkSfv27bM5EgSb62fq+hkHijlXsNx4o7RsmfTMM9I990hRXBoAAADFRUZGqn79+tqxY4cka0Fbh8Nhc1SoCGOM9u3bpx07dqh+/fqKjIys0Pl4Bw3LpZdKo0ZJW7ZICxdKfqzKDQAAUFMkJydLkjvBQvVQv35998+2IkiuYJkyRTrhBOmLL6R//9s7uZo8WXI6pQkT7IoOAAAgJDgcDjVu3FiNGjXSoUOH7A4HQVCrVq0K91i5kFzBEhlpJVaStHix9Msv0vHHW4nVuHHSpEn2xgcAABBCIiMjg/aGHNUHyRUsY8daX8eNs77OmiU1aOBJrFyPAwAAACgVyRU8xo61eqxeekl66inp8GErsRo92u7IAAAAgJBHKXZ4e+EFKTraSqyio6W77pKaNZOGDpXeeUc6eNDuCAEAAICQRHIFb/ffLxUWWolVYaF0zTXS1q3S/PlWkYukJOnqq6WPP7YSsAkTrHlZpZk8mSIYAAAAqDFIruBRvHjFwYPW15dekq6/XsrIkJo0kfLypOefl/r0kVJSpI0brWOOTLBc52KiJwAAAGoI5lzBUjyxchWvKF7kYtIkKStL+uorqxfr9delnTulMWOktm2tNtnZ0lVXSR9+KI0fTyEMyeq5i4ws/ftAiXsAAIBqheQKFqez9GTIdd/plCIipNNPt7Ynn5SWL5fatfNOwv79b+v2GWdIAwdWXfyhKjLSU4Gx+PeWEvcAAADVjsMYY+wOItTk5+crISFBeXl5io+Ptzuc8BEZKRUVee9r314aMsTaWre2Jy67HdkrWFovIQAAAEKSP7kBPVcIjsmTrcTKVQijXTvp99+lH3+0Eoi33pJWrfI+pqYMmSveszdhgvV9uvxyadAg6dAhqVat0o+rKd8fAACAaoKCFqi40gph/PyzdMcd0pw5Uu/e0pVXetrn50vp6VayVVOKYQwaZH119ey99prVq1enjtWrV9xff1ntXEMKa8L3BwAAoBqg5woV40shjI8+8j7mnXekzEzrtsNhtVu9WnrxRemJJ6rnkLkrrrC+OhySMdJxx0m5udLevVJMjKfdoUNSixZWD2D79tJJJ1nfj99+k2bNkh55pHp+fwAAAKoBkitUjC+FMI507rnSo49aVQe//dba9/bbUr161u3qljhMniytXSuddZb06qvS7NlWgjRxojR8uPf3KCvLSsAKCqSVKz37582zNqn6fX8AAACqCQpalIKCFlVo40ZpwQKrpLvL9u1So0b2xRRMZRWvKK+oxeHD1vdl3TrP9sYb1mORkdbjAAAAqBL+5AbMuYK9Wrf2zENyOKyvzzxjXzzBtHWr9Omn1ppfpfXsTZpUes9eVJRVEOTSS62CFZ07e/Y7nZ45WEuWWInpkRUaAQAAYAuGBcJexXtw7rjDM6dIkm67zSr44Eq6wonTaRXxWLpUatOm9Da+DO0rq4y7MdKbb0rffSc9+KC1/6KLwvN7BQAAIGt2RE5O2Y8nJkqpqVUXTyBIrmCf0obGjRvnKXIxe7ZVVXDWLKvAQzh5+GGrZ6lOHStpDMTRioWcfbYUHy99/7108cVSz57S/fdLX35p9XJRwh0AAFSxQBOkrCypbVvpwIGyj42NlTZsCO0Ei+QK9imvGMbGjdILL0jPPy/9+ac156h+fVvC9NuKFZ7XNGOGdPzxgZ3Hl2Ihr79uFQeZPt0qgNG7t9SsmfU9K95W8k7WAABAlQunnplAYq1IgpSTU/5xkvV4Tk7ofI9KQ0GLUlDQIkR88IE0eLBVrvyEE6z7zZvbHVX58vKkLl2kP/6w1q965ZWqGaqXnS099JD09NPWIs5Dh1qVCY8cTkilQQAAbBFOPTOBxrp6tdSt29HPv2qVtdpMcRU5trL5kxvQc4XQdf750hdfSBdeKK1fL6WlSe+9Zw1/C9SECVbFvcoYMmeM9H//ZyVWzZtbwxmrag5UcrI0bZp0++1Wj9+991oJqWsR4kOHSKwAALBRRXpmKtLjFcixld2LtH+/NcgmJ8fadu2S1qzx/zyhiOQKoa1LF2uY3YUXWsUbzjrLGiLYr19g54uM9BTMCPaQud9/l95913qOV1+VEhICP1egmjaV7rvPuj12rDUHq7DQut+hQ9XHAwBAJQunoXaBqEiPV1X2li1YIH31lW9tb7hB+uGHij1fqCK5Qug77jirB2vIECvR+uADa/HhQHqfxo61SpePGydt2mTNiXrsseAMmWvVyurTXr5cOvnkwM8TLJMnW4mVw2H1ql1yibVo8ZNP2pP4AUBNV5mjJ2oou4baVUVCV1AgxcVVrBfJ12O//97qSSookPr2DSzeGTOsmlq+qF9fiomxvk+uLSJCWrw4sOcOJSRXCA/16knvvCP99pv02mv+9T5t2ya9+KJnQd716639zz9vbVLwhsy1bWttdiv+vbjrLum886wEdd48q4rh3LlWtUEAQNWpzNETNZQdQ+18TehWrbKmRJ9zTvnxlWXIEGu5zMaNfWu/YoX1fIcOebZff/Xt2Isusr42bmwt0xmIfv2kBg2sGRxH88gj1iyP4rMnVq+uHsmVDErIy8szkkxeXp7doaAskyYZIxnTtq0x+fnG3H23df/884257jpjXn7Z03b9euux4lvt2p7bUVEVi+XBB4357LOKnSOYXN+bSZO8919zjff34LbbjHE67YkRAGqqI/9Gl/U3Gz5Ztarkv/jStlWrvI/7809jYmPLPyY21moX6HNGRFhfs7ICi7V9e9/aB2OLijKmVStjzjnHemsQ6Pc10OMqemxl8yc3oOcK4emOO6SpU61+/uJVWz74wPq6f7/0j39Yt1u3tm6feKI176hDB+mll6yhF1FR0uHD1qeGY8davWKHD1sfF0VEHD2ORYus4hEREdLPP5e9YHBVKquE++zZVuGLDz+0Pk7bu9e31xiqwml4TTjFGqiKvMaa8P0BXIoPT3fNi6XgUMC9SPv3B/Z8Fenx2rPHt+coKpJatpS2bLGmRPtr1SprqN7HH0u33HL09q1bW6P+a9XybPv3W7MVjmb5cql7d/9jDKbERKvH72g9gomJVRdTIEiuEJ5q17aGtxWvHNiqlSd5OuMMz/6oKOnllz33J0+23qgdWab80CHpP/+x+sOnTLEeHzCg7Ip/2dnWHCZJuvHG0EispPLfhE6ebG0ffyydcopn/+7dVpIaFUZ/EsJpeE04xRqoirzGmvD9ASTrg/cnnpA++kiKjrYSq+hoax7xmDHWMhrt29sdZZXzZ95UgwZWcpOS4jnWV7/8Yg3Ra9tWOuYY3475z3+kZ56RNm+2nisry/fk6v33rcLHgYqJsZbK3LvXt/YLFgRe3jxYn7VWJEFKTbV+xmFfnKQKetLCDsMCw4RrKEWtWr4PqShr+IVr/7nnGlO/vqfvuVs3Yz780Jhx47yPcTqN6d3batOokTH33Rfc11aVnE5j0tONSUkx5l//Kr3NpEnGjB9fpWH5JJyG17hiGz/emC+/NObee48e6/jxZT9e3s8k0OMqeqzrNV59tTU099JLrfuXXmrd37LF03bjRmufa3O1vfxyY/bsCe2fJRCIQ4eMufFG7/FN0dElxzx16GDM/fcb8+uvnmMr8nsZBnwdDta+vTGRkcYMH+459ptvfB9K9s47VTfMrrTha4EORbRjqF1Fhk3++ad1vrK20o4Jdf7kBiRXpSC5CgOBvqn25R/U338bM2aMMXXrev6CpKZ6n//RR637UVHh/wZwwwbvhPKCC7znYoXym9y9ez3xud6khGKcLq5YXVt8vDH9+hlz553GzJtn/dfZt69k+7I+DCjvWg7kOH+O3bPHmBUrjMnN9bR5+OHy/xO//76n7Zw5ZbdzTVQI5Z8l4I/8fGtOcPHrfOJE67ExY6z77dqVTLa6dzfmgw8q9jsdBnxNAFzbGWf4f+yqVdafreXLjZk715gRI3w77qKLrM9Xn3vOmI8/tqZxf/ll4MlOIImHXfOYqmOSFCiSqwoiuQpxVfVPZscOY26/3fPRzfXXW1//7/88vWXV4J+aMcaYzZut3ivXa2rVytoXqv+4Dx+2CokkJVm9Ia43JJGRdkd2dMWvndK2Bx7wtN2xw+rJkTyfTPv6M6lIr17xtgcOeD5tP/10651GixaeeN97z3Pcf//r/VocDuu6cm0rVnjaLlrk/Vh6utVz7Dq2Vi2fvp1AyNuyxZguXcr/QM71O3fvvdYHD717W3/Piv+Oudrcfbf3/VD7+xyAb7/1LQGYNCl4vTrhVHihor1IgR4LD39yA4cxxtg5LDEU5efnKyEhQXl5eYovXiwBoaGqJ79v3WrVFb3+es8cEJeJE73vh7OiIunf/5Zuu80q6uEyYYI0frxtYZWwcaM1123ZMuv+uedKmZmexy+80Lc6sFVlwwbr2nn5ZWnOHOt6cc21uOYaawaxa5mAH36w2vTvbx379tvSwIElz5mQYC0SMnOmdMEF1r6FC6Wbb/Zul5sr5eV57rvmGX76qXT11WXHPHmy9McfVqyuoi+ladzYWidu6FDr/v790oMPWpP0Xa/Rn4n6rt+vWrWsOZBM8ke4+/57a9LNX39JjRpZv9upqb79/9qxQ3rzTet3NTra2nfGGdayGhER1t/sSvwdqUiZcl+P+/ln6dVXrdVBfJk7tWpVyTlFga5z5etcpNKesyLHBqoi62pV90WWq4JfuUGlp3phiJ4rlMvVSxIdbXcklePnn60eB1fPQ3G//25MUZE9cRUVGfP008bExVmx1atnzMCBno8zH3zQ8zHcVVfZE+ORli41pkEDK6YTTjh6T1JRkfeQzPfeMyYtzZg6dUr/uPG11zxtFywo/6PJ4ksOLFxYftuZM612xYconXaa1Ws7Y4b1unJySr7eYPWW+XssEKo2bjQmMdH6/f/994qfb9Ag79/VIUOsod1BFmhvhy/HxcQYc889xnTu7Fvvjy89QVU91I7eoJqHYYEVRHKFMoXT/J5AuV7jkcNXdu2y9rVrZ80VKP4PvbInW//1lzF9+3r+a519tjEZGd7xFRUZc8UVnja33lqx56yoF1/0DAE87rjSrxdfE4iJE612rvNdd50xX39t/UxccnKsfcW3667zPs71PH//XbJt8S072/9rvTLmed1yS/X9PfNVNS9kUCOsWWPM7t3BOZfrd8U1L9F1e8QIYzZtCs5zmMofalf8M58LLjBm8uSKJVeBqGiCxHykmoXkqoJIrlCqmvDJenmv8eOPrY8ci//n6drVmKlTSyY6ZZ0vUHfc4fnI84knrN6d0t507t9vTM+eVtvERO9iC1WlqMiYCRM836NLL7XmUVS0Ap+/111V9yIFu0LhtGnWO6+0tJqdQFTzQgbVjtNpFagpXrwlWI78md9wg/ff45Ejg/ZU/iRXhw9bHXSrVhkza5Zvx/XoYcyzz3o6wO1aPJYECb4iuaogkiuUUBPe4PjyGvPyrKp2/fp5erZcm6vwQmUknwUFxgwebMyPPx697datxjRpYj13v37Wf/6qcvCgMcOGeb4nd93lPczPX6FcLbCyffqp9XyRkcb88EPVPGeoqgkf7ISRst6Qr/6ywPx99v+GKterZxWk8fHYo76ZP9rvZZs23j1XmzeX+vy+8ifZyc31r7eqtCSJYXYIdf7kBmG0YihgI6ez9InDrvtOZ9XHFGy+vMb4eGnYMGvLybEmW8+fL335pfTUU9YCzuPGWYU+nE7pvPOs2bx//mnNlj1yQeayipMsXizdfru1iPOkSVJcnPU8vmjcWHrnHen0061ZvLt2WRPJq8KBA9ZM58hIqzjIdddV7HyBXncVuV5D5Vo/+2xp0CDpjTekUaOsa6KsBb3DQSCFeHbtsoqcNGhgFT4ZN85qU7yQwcqV1gLmDRoE5zlRrqws6YWWE3TQGan75fm+NtJ2vav+qq+VOqwI5T7wjBIbNixxbCCFFyT59nvZvLln/223SYsW6cCJXfV3h9O17aYHSjxX8uzJqhPrVMITE0o8lptbdoxHqlvX2uLjrbobf/zh+7Eu1WbxWEASPVeloOcK8FPxuT+lLYrp+iT35JONueYaqyfKmJKfxhYUGHPTTZ5jLroo8JiWLrV62qran39aQyhRcb//7hmK+tZbdkdTMb72CBYUWGXpk5PL/gjfVUxn3z7P3JuUFKt89+23G/P889bKqq71k+zuhaxGVq0yZoys798YTTKSMSfoR7NJzdw/n2c10t71hvbts9bHKnbSj3WuqaM97l2u1zAhapL5/XdjvvjCmFdf9ZzC19LowSxvDoQyhgVWEMkVECDXmzZXAYWOHa2t+NpO8fHeFQe7dbP2p6UZc/zxnnZpaZ4kLBjy8yt2fFlzipYvt5LAmjwvqDLdd591PbRoYc2ps1tF5paNG2e9lksvNWb0aM/13ratp01RkTHHHuv5PWjRwrq+zjjDk1i5EqPffjOmWbOy38H+85+e38kJE4z56CPPfMDKSqyqugBHBZ6vIhXmXMnJ8xpm/laC+3v+hG41kvX5Sna2NVLYJdCFZwMaMldUZDY+8qb5Qe3djfYqztyr+82jus0rOXStIX/MMcYcOuR5neM13t3myG2MJpnxGl9qchXIcRX9WQKVjeSqgkiugACUNy+ksNCaL7VggTHPPON9XPGEyrUNGxa8uIqKjHnkEasnoCLVtEr7tP+11zxzz4IZMzz27vXMoXvwQbuj8a0H6vBh6511cWlpJecpurbmzb3bLlxoVW3cs6f05zzyfl6eleTPnm1VyTznHGMaNTLm4Ye927u2Hj2M+fzzis0HLEuAc/YCnYv0d4Z13r/+b5JX+7/+z9r/d0bZzxfIHJ8lnxw2tXTQK8FybQ/qnhLnWL7cc+xtt/meXGVnG/Pdd1aRwUB7kb791pgIHTZD9bLJ0TFejV3Jz8laZh5Vhrmx9hwzps9Kk/PnXmNM6T10xRMk1/7SkqtAjiv3GqGnFSGA5KqCSK4AP1Xkn+KqVcbMnWsVLnB9Mh9M+/dbVQ0lqxfN9YY1EK7XM3GiVSXR9a7h+OMrdl6U76WXrGGl06fbHYml+HWwebPVQyQZ06WLMSedZL0rP+EE72PS0qw2CQmedeSioqzhqzt3Hv25AvndKl7MpXjvsWtr0sSq9LlyZdDWr/vzT09i40p4it8vLUmq6JpKR76ZL36/rCIIvg5fe/ttY+bNLTJTLl5uXjjmVvOXGpvrNMv9+AFZPYkHFF3iWIcj8ORq+nTP/dq1fTuuc2frT1xqqvdlJhkTqUOmUFElYr1X95cMumVLU9D7YjMl8j7zqDL8+t5W5GdijKF4C0JW2CVXM2bMMM2aNTMxMTGmZ8+e5uuvvy6z7RtvvGG6detmEhISTFxcnOncubN54YUXvNoUFRWZsWPHmuTkZBMbG2vOPfdc88svv/gcD8kV4KeKDudw/QOtrPXDsrKMSUqyzn3xxYF/Yp+TY0z//t5vRtLSqrYiYU1UVGTM9u3BO18g1+vOndY8puLtynunW6+e1WPrsm6dMVu2eNYs8/VaD8ZQqSN/v7p2td59F4/33XcDf86iImO2bjXbX/rY3Bn1uHlOV5ssNXG/kbfeVE80F+pd0y76N/PnJu/fv4oMQeusNeZe3W++UwdjJFP0v4O+UTfzL00zTfVnmfOfyn/Oiebfut48qHvM72ru9eB7usArYfC8Rs+5Kjrn6oknrNUkfGnvy1ZWrGcr02wfequnt/OIA39c8IM7OS6KsD4Ac0bVModj44yzdpy1qLtr+9/ah3/+acxf108wzqhaXj8Tr+PWrvV8Yx55xPs8R34QMHp06dciUIXCKrmaP3++iY6ONnPmzDE//vijufbaa039+vXN9jL+kS5ZssS8+eab5qeffjIbN24006ZNM5GRkWbRokXuNg899JBJSEgwb7/9tvnuu+9M//79TYsWLcx+H8frk1wBVaiqPqlcvtxTHOHeewM7x/nne//Tj4wMboyoGkfrDbruOmOee86YUaO8i0vExHgn0q5iEg6HtRTBpElW4Y1ffy094bbjU/mynnPcOKtbZsgQ6/Xt2+c5xvUBwpELcR95rq1bjTnzTO85YsW2w4pwv6Fvqj89+2PjrKGJI0YY56OPmfXTPzYP6u4SCYoryTGSmath5v1zHzO7Lh7hXpJhyRJjbtJT5WYVZyvTrFpldTDOvXKx+aLrzeaVM2eZu0790tyve0t9znEaX+I8B2rVMVmn/8OsnviuidaBcntmgpFcuRQUGPPmm74dN3WqNdfr66+N+flna4pdabGVG+v27dYyCNOnW78HrkljZRUqKr79/LPnPK65kmVtq1d72j74YPltP/3U9+sdqCRhlVz17NnT3HTTTe77TqfTpKSkmClTpvh8jq5du5oxY8YYY6xeq+TkZPPII4+4H8/NzTUxMTHm1eKlcMpBcgVUkaoeY//CC55/2C+9VHo848dbbzRff92YQYOsXi+XuXONadzYOr6yetlQvsWLjbnyyorPF3JdY2PHet8/4YSy3+S1bGnMX395t/f1OrBjPomvz+mqYmCM1QvVtq3nNaekGHPzzca0bm3dP+kkT9sDBzzDeSMizP5mx5v/6hIzQePMq7rcq6dkhm40a9TZff/IbYrudr/pf0Cjzb/1f14V+Ly2uXONMVZRxG76xszTP80inWeMZA7K6vX4VGeaNzTQJGqHex7WlP8lcMW3XMUbI5lPdI5X4vGLWpv9ijE5Zw605lb+r7hOReYUBVpJryLHBTz/qbTrxXWt33abNX/1yK14T+3u3Z5xkKUdd+CAp+3ff3ufx3Wca45i8ev3iy+8PwgAqkjYJFcHDx40kZGR5q0jSuwOGzbM9O/f/6jHFxUVmU8++cTExcWZj/9X+vi3334zksyaNWu82p5xxhnmX//6l09xkVwBVcSO6lCnnWb9w46MtEp9F49FMqZTJ2Pq1vW8C3n0UU8b15Au5gPY4++/reF2kjFz5lTsXE6nMX37lkyQxo+3enLOO896k/ef/3gXlzAmsB4oG6713FHjSxR6KF7wIXdUKc95+LDJefR5k3dyb1NUfNLO/7a97Xt4z5d56y1jVq82RQX7zLvvHr2nJFKHTFutN4P0uhmv8eZ1DTLb6rc1Q/SKV9vi2yFFmp/UzixpeJlZ/4+JVqUHY8wrr/jeM/PXX8Y82f8Ts6T7HeaXVn3N7rrHlXie4kPmWmqjiVduqZX7JkeWP4RxcuT4oM4tq0hyFXDlPpdAe1sr47gdO4ypU8f6gGvGDO8EDahkYZNc/fXXX0aSWbZsmdf+O++80/Ts2bPM43Jzc02dOnVMVFSUiYmJMf/5z3/cj3311VdGktm6davXMZdddpm5/PLLSz3fgQMHTF5ennvbvHkzyRVQXR0+7OmdmDTJGtrkKgdffGvWzJi773YPQaKSVYh4+GHr+52UFPg6Zn/+aczZZ3v/vF2FVI42fy5MroOKFomQjGmo7e4iCIWKMr30lYlXromNNeaPP6xK8P/5j1XPo2nT0hOd0npK7rvPmHfesepoZGUZs2KFd1yu3qdCRZlOWmtitD/oPTOrVhmToL/NKfrSXKdZ5pAi3QlWeQmL63sUSGXDQI8NNLkK9BpwC/Rar6zjrrvOe+mBZs2sC7B4zytQSfxJrqKqdMXiIKlXr57Wrl2rvXv3KjMzUxkZGWrZsqXOOuusgM43ZcoUTZw4MbhBAghNkZHSjz9K998vjRtnfS0stB5LTpYuv1waMkQ6+WTJ4fAc53RKkyZJY8d6n8913+msmvhrultvlWbPln791frZPfyw78caI73wgvSvf0n5+VKtWtKhQ1J0tHUNTJ5c8ud7pDC5DnJypAMHym9z4IDVLjW19OOu1zOqpcM6qGjFqFDnKlPLdYp0QPr2W+nSS73PFxUlRR52aqwm6X55f39c9yPlVP9LpJNO8jy2c6fn9hhNVrQOuZ+zv94tca7iInX05ytLnuprmU7VOfpUUXK6n3OMJpf7nKmp3t8zfwRybGKiFBtb/s8zNtZqd+Rzbdhg/UzLO3eZ8QR6rVfmcRs2SP/5j/W7/+ef0siR0kMPSR07Sp07W3/TjzR5snXshAklH5swwfqfUNrvfXnHofJUh59JFSR7ZarosECXkSNHmt69extjAhsWSM8VUEO5hoNFRRmTmUnVv3Dx3nvWz61WLWN8rQS7Y4cxAwd6PvV2dbVU0RDPivR2BMLX3o6nnvI+7t57fRtq9+23ViX3U0+1ahcsXhz4IrlHLszra5GIQHt0XD+PCpUMr2JVff2EvH37rCHbrpKKruIyVdXLhsoToj+TsBkWaIxV0OLmm29233c6naZJkyZ+FbQYMWKEOfPMM40xnoIWjxabJ5GXl0dBCwDeKrv8OypPUZFnvtSFF/p2zOjR7oRs32npxsj/hWcDVeHhWQHwNfHo0MH7uEaNfB9qd+RorIoMX5sQVf5zTogquUZWRb+vgS5AjBCSn2/M/fdbv9+uv+l33GHdP/106/7pp1v3Xdv/5ugbY6wPXYq3e+ABY4YOte5PnFj+c1f1PEo75ijb8Zyuc0vGXHut930b/0+H1bDAjIwMDR8+XN27d1fPnj01bdo0FRQUaMSIEZKkYcOGqUmTJpoyZYokawhf9+7d1apVKx08eFAffPCBXnzxRT399NOSJIfDoVGjRun+++9XmzZt1KJFC40dO1YpKSkaMGCAXS8TQCiZPNkaPuIaguK6Lx19WBjs53BITzwh88kncixcqA3PL1NB51NKNPMa8jR2rPTLL9o2coz+c9HbOqgzdP+ssdKs4keM1RhJMU86NezW0odLZWX5P8wq0CF6gcrP973tiSd6309PlyJf8W2oXdQR7yAqMnxt1M1ObT0wSQOvHauBXo+O1dbZ0qhYpxJSSx5XkWFv9etZw9BSxo5VSvEHnh4rpUj1Q2SIJ8pRr550333e+44cGvjFF9bmEhUlnXeedXvXLs9jR7abOtX7fIcPSzt2SI0bW3+DIiNL/79R/P9LMFX189nxnFu2SAsWSO++a92fPVuaN88atl3akNFQVQXJ3lE99dRTJjU11URHR5uePXuaFStWuB8788wzzfDhw93377vvPtO6dWsTGxtrGjRoYHr16mXmz5/vdT7XIsJJSUkmJibGnHvuuWbD/xa38wU9V0A1FqJDDuCfP/805hNHunlFg41UVKLHYrauNt+ro/nzd++hnsEYSuZvT0lFn9OX4WBFRcYsXWrMpZdaBRU//bRiQ/QCidWfeIFK4xqNEBlprdV25Pb++5622dme/a5lBRwOz5qIjz3mafvDD9a+Bg2sXq4bb7R6ziXPQseV/X+k+PmdTnvXyquM6qh9+nj+yERGWj8L1wgTm4XVsMBQRHIFVGN2DXNAmQKtoFba8LUY7Tdf6FT3P+g/755R4rhAkwdfj/3kE+8lf1zvRQIZLne0ZC4mxlqDtUMH7/2TJ9uTXAG2CnS495HHTZhgLYqcne1p8+67nrldpW2u5KyyP6AbMcL7eY82fDEYrr225Pf19deNWbjQKh1aVOTd/mgfYt57r7WcRu/e3mtJzptnJa4zZ1rVegP5WVYSkqsKIrkCgKpR0d4gV4J1v0abs/SpyVYj94GzNdJMm5xvBg0yJj3dmB49vCs5l7e1bGnMKacY06+fMYMHW1WgFyzw7VjJmLVrPbHeeqvvCcszzxgzYICVMD39tO/PJxkTF2fM9dcb8/33Vb9gLWC7qliTa/9+Y9asMebFF603/xdc4P1HxdXDcmSyEQzLlxtz7rnev4gOh3uB60px8KCVCBVPKl2vsXlzz7569Yzp1ctKwp580pjPPy/5fRwzxrrfrp0nYZK815J0CfRnWYlIriqI5AoA/BPocDBf38x//bXnmP/+17MWtGTMyxri1XiP6pgL9a6RjPnXv/xLUMrb/El2Fi70jtfXhGXQIP/jOu44Y554wlpjufjPo6LrXPlzHGCrql6Tq7S2xXtYRo+2Eo1g/KL88IOVxLl+AV2JzpE9ZUVFwU3q1q0zpmtX71/+4j17//iHMR07WlVbj/wjcfLJ1jlc35vSevzat7eKkfz+u/fzhujQ/bAqaAEACG9ZWVLbtkcvZLBhQ+AFG379VerZ07q9ebP05Zeex57WjfqH5kuSnIpQC21SjhpKktLSpBkzpIQEa8vOlq677ujP9/TTUqNGUl6eteXnS02b+hbrsmVSr16e+y1a+HacJN19t3TKKdLKldbc+q1bj37MW29J3bt77wu02EOF10YC7FDVa3K5lFUcKSrKKoAxb550/fXSvfda6ygG4o8/pPfft4pLdO4srV5dejGmuDhp+XJp1qySVWP84XRK06ZZhUIOHpRq15b27y/5nJMmSS+/bBWb+PVXad06z9ahg3WusWO915Js1cpaR3LIEE+b0p4/DNYSLFcVJHthh54rAOEsVNdUWrnSmN9+M+aDD4x5/HFrqL2vx06d6nm+deustZVcj7mGBhYqyhh5z8EK5rC3qh5qxxA9IIQdrYelRQvPL2nt2sbcdZcxOTlHn/d7yy3WWn4uRUXGjB3r6YYv6/lcvUpJSd7H+8PpNOa88zxxt2lTsV4kVztXL1tVzA+rJPRcAUANVdFepEBKjfvq1FOlQ4c895s2lVq29O3Yc8/13G7fXrrkEumBB6QxmqzJGucuHe66L6lEKXG7BFqiHEAI86WH5YwzrB6gFSukhx+2usT797d6fIq3laQ77pAee8wq8/7SS9KmTVZ3u8NhPc+ECeU/35YtVpf+Tz9JF10kXXON9PjjVrl6X0VESOecY3W/P/GEdc6oqMB6kcrq1XM4wqekeoBIrgCgGqnImkqBJGY5Odb7Bl8cOiTFxEht2ljP408y4XCU3HdkYiV5EipXgqUjEiw7Eh2G2gHV0IQJZT9WPHlYtkz64ANpzBhp/Xpr/ay2bT3D+a69Vho40POH1BhrPHNurpVc+fN8Bw5Yz/P449Jzz0mZmdbQxNNPL/vYHTuk3buldu2s+3feKQ0dKjVrVvYxR77GIx2ZWBVvXwPWlCS5AoAQVZm9SKXxNTF74AFp2zZpzRrrg01fvfOOdMEF1tQBl9WrA4s1MVGKiXRqrLPsxW5jIp2lLlgbaKJTkcQsNZXkCaiRHA7rD1+/ftZ8pCZNvBON4osen3mmNUfptNMCe67YWOnRR62eq+HDrd6v3r2lm26yErUjE5p33pH+8Q9rvtbmzdbxkZFHT6yOpjrMm6oAhzHG2B1EqMnPz1dCQoLy8vIUHx9vdzgAaqBAh/etXi1163b08192mfTaa9btffukyy+3/t8tWuR/rE2bWv+Xj2bVKumkk7z3+RpvacdWdfJZ1c9ZFYVCANjkm288VXocDunjj63xz6V10wciP18aNUo6/nhr2EDxnqS8POuxuXOtto0aWVV0KppUVWP+5Ab0XAFACPK1F2nzZuvN9dKl0nHHWaNJfBFV7K9/Xp5VjMpX/ftb7wFOOskqXvXrr74lSKUJt96gqnxOhhMC1Zjrj66rsuDy5VJ6evDOHx8vzZljDTN0JWzjxkkffWT948jKsvaddpr0ySfWmG0EBckVAISxM8/0jLDo0cP35GrkSM/tunWt4fk//mjNYT6a8eNL9iIFigSifAwnBKqhyZOliRNLL6ke7LlIrsTqrrukp56SvvrK89jIkdYffwQVyRWAGqW6DSVzOq1heWef7V1R72gaNPDcrlfP+h+7erVvydWRKlokggQCQI1hV7GH6GirYuGIEZ77JFaVguQKQI1hxxwWf59z716ruNT8+b6d/913pQsv9Hw4GWiBiIqg9wkAfGRXsQeHwzM5NjraWth38uRqXbXPLiRXAGqMipQpr+znnDBB+vlna47z4cO+n79JE+/5z3atqUTvEwD4wNcS7sFW1rpTlf28NRDJFQCEgOef99xu3lzq2FF67z3/z2NXqXEAQIiq4etOVTWSKwDwQaDzpnzthbroImnQIKtARfPm1vC+QJIrKfBeJIb3AUA1VMPXnapqrHNVCta5AkKfP8nO7t3Wmk7//rf0ww9HP3fXrta6T/36SZ06WcPU/Z2rtXatNfrjk0+kgoKjP+eR6zixxhEAAKGBda4AVGu+Jh7Tp0sffmgtJ1JY6Pv516yxttGjrTlNM2f6Nm9q8WJPifOoKOmdd3x/ziPRiwQAQPghuQIQdnwtEnHbbZ5eo86dpXPO8a3U+OjR0rp1UmamdXzjxr7F9frrnuSqfXvpsceshe//+U/fjj8SRSIAAAgvEXYHAACV5fLLpTvukL77zhqmd+WVvh136aVWifNdu6TPPrN6oXzRqpXntsMhZWRIJ57od9gAACBM0XMFoNq6+WbveUz+VsOLjbXmXPm6dpSr16o4KvABAFBzkFwBsE0gFfg+/9zqjQqEHfOYmDsFAEDNQXIFwBa+FqVYvdpKPho2tPYdPGgttBsoO+YxMXcKAICagTlXAGzha1GKrl2lhx7y7Dv7bOnWWys3NgAAgECQXAEIaQcPes95ioqShg2r2hhc86bKw7wpAADAsEAgRAUyH6k6eukl6R//8N5X1UUimDcFAAB8QXIFhCBf5yNt2FDyDb0dSZk/z2mMNWfqmWd8O/cJJ1hlzYuzqzAFyRMAACgPyRUQgnydj5ST4/2GvyJJWaB8fc5335WWLpXmz5d+/73iz0uyAwAAQg3JFVCNBJqUSYH3ePn6nL17e+7HxUmnnSZ9/HH5xwEAAIQTkisgjH3wgfTXX1JCghQfL23bFth5qqLHKypKuuACacgQ6aKLrHORXAEAgOqE5AoIMUVF3tXxyjN2rPf95GTfjlu9WjrmGKl5c+u+Pz1eTZtKP/1kDe377TdpxQrfnvOTT6Qzz/Tcr+qiFAAAAJWN5AqoRP4MtfvlF+nFF63tzz99O3/PnlaBiLw8a2vQQMrOPvpx114rNW4sbd3q2/Mc6eSTpb17/TumXj3v+1TgAwAA1Q3JFVBJ/BlqN3u2dP/9nv1xcdK+fUd/jqeflk46yXN/9WqpW7ejH3fccVLLlkdvVxqHw3rOvXulVq2sWOfNC+xcFKUAAADVCckVUEn8GWp3yilSZKTUp4/0z39aQ+9OO63yYnvnHe+kzF+ffea5vXp14MkVAABAdUJyBYSA886zClMkJVn3s7KYjwQAABBuSK6AEBAV5UmspMDnI9lRJILCFAAAABaSKyBEBTIfyY4iERSmAAAAsJBcAdVMIElZRXufKEwBAABAcgUE1S+/WKXR27a1OxL/0PsEAABQcSRXgA+Otl5VrVrS3LnS9OlWlb9PP62y0IKG3icAAICKIbkCjsKX9aqKq1PHWgOKQg8AAAA1C8kVcBS+rFclSc2bW4v69u1r3a9Xj6F2AAAANQnJFRAkCxZIPXt672OoHQAAQM0RYXcAQHURxUcVAAAANRrJFVCOggLpzTftjgIAAADhgM/aUaMcreqfaw7Uxo3Sv/8tzZkj5eVVXXwAAAAIXyRXqDF8qfoXHS2dcoq0dKln33HHSVu2VHp4AAAACHMMC0SN4UvVv8JCT2LVr5/0/vvSW29VemgAAACoBkIiuZo5c6aaN2+u2NhYpaWlaeXKlWW2nT17tk4//XQ1aNBADRo0UHp6eon2V111lRwOh9fW11UfGziKO++Ufv1V+uAD6fzzpUaNrPWoysN6VQAAALB9WOCCBQuUkZGhWbNmKS0tTdOmTVOfPn20YcMGNWrUqET7pUuXaujQoTrllFMUGxurqVOnqnfv3vrxxx/VpEkTd7u+ffvq+eefd9+PiYmpkteD8DdkiNS6ted+airrVQEAAODoHMYYY2cAaWlp6tGjh2bMmCFJKioqUtOmTXXLLbfonnvuOerxTqdTDRo00IwZMzRs2DBJVs9Vbm6u3n777YBiys/PV0JCgvLy8hQfHx/QORB6Pv1UOvfco7dbtUo66aTKjwcAAAChz5/cwNZhgYWFhVq1apXS09Pd+yIiIpSenq7ly5f7dI59+/bp0KFDOuaYY7z2L126VI0aNVLbtm11ww03aNeuXWWe4+DBg8rPz/faUL0sWSJdfLHdUQAAAKA6szW5ysnJkdPpVFJSktf+pKQkZWdn+3SOu+++WykpKV4JWt++ffXCCy8oMzNTU6dO1WeffaZ+/frJ6XSWeo4pU6YoISHBvTVt2jTwF4WQ1KmT3REAAACgurN9zlVFPPTQQ5o/f76WLl2q2GIVB4YMGeK+3bFjR3Xq1EmtWrXS0qVLdW4p48JGjx6tjIwM9/38/HwSrBDmy1pVW7ZIb7whPfqo5HBIxx5rrVl1+eVVFycAAABqFluTq8TEREVGRmr79u1e+7dv367k5ORyj3300Uf10EMP6ZNPPlGno3RLtGzZUomJidq4cWOpyVVMTAwFL8KEL2tVRURIRUXW7XPPtSr+SVJamlXVr7xjqfoHAACAQNmaXEVHR6tbt27KzMzUgAEDJFkFLTIzM3XzzTeXedzDDz+sBx54QB999JG6d+9+1OfZsmWLdu3apcaNGwcrdNjEl7WqXInVyJFS166e/VT9AwAAQGWyfVhgRkaGhg8fru7du6tnz56aNm2aCgoKNGLECEnSsGHD1KRJE02ZMkWSNHXqVI0bN06vvPKKmjdv7p6bVbduXdWtW1d79+7VxIkTNWjQICUnJ+u3337TXXfdpdatW6tPnz62vU5UrfnzpcGDS+5PTSV5AgAAQOWwPbkaPHiwdu7cqXHjxik7O1tdunTRokWL3EUusrKyFBHhqbvx9NNPq7CwUJdeeqnXecaPH68JEyYoMjJS33//vebNm6fc3FylpKSod+/emjx5MkP/apA2beyOAAAAADWN7etchSLWuQpdq1dL3bodvR1rVQEAACAYKn2dqxdffFGnnnqqUlJS9Oeff0qSpk2bpnfeeSeQ0wE+MUb6+GO7owAAAABK53dy9fTTTysjI0Pnn3++cnNz3WtH1a9fX9OmTQt2fIAk6c8/pQsvlEaPtjsSAAAAoHR+J1dPPfWUZs+erfvuu0+RkZHu/d27d9cPP/wQ1OCAw4elJ56QTjxR+uADKcr2WYIAAABA6fx+q7pp0yZ1LV7f+n9iYmJUUFAQlKBQMxxtMeBdu6yeqlWrrPunnSZNmGD1YLFWFQAAAEKN38lVixYttHbtWjVr1sxr/6JFi3TCCScELTBUb74sBhwdLTmdUkKC9PDD0jXXWAsEs1YVAAAAQpHfyVVGRoZuuukmHThwQMYYrVy5Uq+++qqmTJmi5557rjJiRDXky2LAhYXSgw9KV10lFV//mbWqAAAAEIr8Tq6uueYa1a5dW2PGjNG+ffv0j3/8QykpKXryySc1ZMiQyogRNVifPt6JFQAAABCqAioPcMUVV+iKK67Qvn37tHfvXjVq1CjYcQEAAABAWPG7WuA555yj3NxcSVJcXJw7scrPz9c555wT1OAAAAAAIFz4nVwtXbpUhYWFJfYfOHBAX3zxRVCCAgAAAIBw4/OwwO+//959+6efflJ2drb7vtPp1KJFi9SkSZPgRgcAAAAAYcLn5KpLly5yOBxyOBylDv+rXbu2nnrqqaAGBwAAAADhwufkatOmTTLGqGXLllq5cqUaNmzofiw6OlqNGjVSZGRkpQSJ6icx0Vrsl8WAAQAAUF34nFy5Fg0uKiqqtGBQc6SmshgwAAAAqpeASrFL1ryrrKysEsUt+vfvX+GgUH05ndKUKdLNN7MYMAAAAKoXv5Or33//XQMHDtQPP/wgh8MhY4wkyeFwSLKKWwBlefxxaexY6dVXpe+/lxhJCgAAgOrC71Lst956q1q0aKEdO3YoLi5OP/74oz7//HN1795dS5curYQQUV2sX28lVpKUkUFiBQAAgOrF756r5cuX69NPP1ViYqIiIiIUERGh0047TVOmTNG//vUvrVmzpjLiRJhzOqURI6SDB6W+faWrr7Y7IgAAACC4/O65cjqdqlevniQpMTFRW7dulWQVvNiwYUNwo0O18dhj0tdfS/Hx0uzZ0v9GkQIAAADVht89Vx06dNB3332nFi1aKC0tTQ8//LCio6P17LPPqmXLlpURI8Lc+vXSuHHW7SeekI47zt54AAAAgMrgd3I1ZswYFRQUSJImTZqkCy+8UKeffrqOPfZYLViwIOgBIvzdfbc1HLBfP2toIAAAAFAdOYyr3F8F7N69Ww0aNHBXDAx3+fn5SkhIUF5enuLj4+0OJ+zt2mUlWBMm0GsFAACA8OJPbuDXnKtDhw4pKipK69at89p/zDHHVJvECsF37LHSc8+RWAEAAKB68yu5qlWrllJTU1nLCkd1+LC0cKFU8X5RAAAAIDz4XS3wvvvu07333qvdu3dXRjyoJh57TLroImnkSLsjAQAAAKqG3wUtZsyYoY0bNyolJUXNmjVTnTp1vB5fvXp10IJD6MvKknJyvPf9/rs0Zox1u0OHqo8JAAAAsIPfydWAAQMqIQyEo6wsqW1b6cCBstvcd5906aVSamrVxQUAAADYwe/kavz48ZURB8JQTk75iZVkPZ6TQ3IFAACA6s/vOVcAAAAAgJJIrgAAAAAgCEiuAAAAACAISK4AAAAAIAhIrgAAAAAgCPyuFuh0OjV37lxlZmZqx44dKioq8nr8008/DVpwAAAAABAu/E6ubr31Vs2dO1cXXHCBOnToIIfDURlxoZqIjZUSE+2OAgAAAKh8fidX8+fP12uvvabzzz+/MuJBGHnkEevr8cdLL74oRZVyNSUmssYVAAAAaga/k6vo6Gi1bt26MmJBGFm4UJo/X4qIkF55RerWze6IAAAAAHv5XdDi9ttv15NPPiljTGXEgzCQny/dcIN1OyODxAoAAACQAui5+vLLL7VkyRJ9+OGHat++vWrVquX1+Jtvvhm04BCaRo+WtmyRWrWSJk60OxoAAAAgNPidXNWvX18DBw6sjFgQBoyR6te35lc9+6wUF2d3RAAAAEBocBjG95WQn5+vhIQE5eXlKT4+3u5wQtLmzVLTpnZHAQAAAFQuf3IDv3uuXHbu3KkNGzZIktq2bauGDRsGeiqECWMkV+V9EisAAADAm98FLQoKCnT11VercePGOuOMM3TGGWcoJSVFI0eO1L59+yojRoSAH36QzjjD+goAAACgJL+Tq4yMDH322Wd67733lJubq9zcXL3zzjv67LPPdPvtt1dGjLCZ0yldc4305ZfSpEl2RwMAAACEJr/nXCUmJuq///2vzjrrLK/9S5Ys0eWXX66dO3cGMz5bMOfK2xNPWCXXExKkn36SUlLsjggAAACoGv7kBn73XO3bt09JSUkl9jdq1IhhgdXQpk3SmDHW7UceIbECAAAAyuJ3ctWrVy+NHz9eBw4ccO/bv3+/Jk6cqF69egUUxMyZM9W8eXPFxsYqLS1NK1euLLPt7Nmzdfrpp6tBgwZq0KCB0tPTS7Q3xmjcuHFq3LixateurfT0dP36668BxVaTGSNdf720b5905pnSyJF2RwQAAACELr+rBT755JPq06ePjjvuOHXu3FmS9N133yk2NlYfffSR3wEsWLBAGRkZmjVrltLS0jRt2jT16dNHGzZsUKNGjUq0X7p0qYYOHapTTjlFsbGxmjp1qnr37q0ff/xRTZo0kSQ9/PDDmj59uubNm6cWLVpo7Nix6tOnj3766SfFxsb6HWNNkJUl5eR473vvPWnxYqlWLWux4Ai/U3EAAACg5ghonat9+/bp5Zdf1s8//yxJOuGEE3TFFVeodu3afgeQlpamHj16aMaMGZKkoqIiNW3aVLfccovuueeeox7vdDrVoEEDzZgxQ8OGDZMxRikpKbr99tt1xx13SJLy8vKUlJSkuXPnasiQIUc9Z02bc5WVJbVtKxXrjCwhNlbasEFKTa26uAAAAAC7Vfo6V3Fxcbr22msDCq64wsJCrVq1SqNHj3bvi4iIUHp6upYvX+7TOfbt26dDhw7pmGOOkSRt2rRJ2dnZSk9Pd7dJSEhQWlqali9fXmpydfDgQR08eNB9Pz8/P9CXFJZycspPrCTr8ZwckisAAACgLD4lV++++6769eunWrVq6d133y23bf/+/X1+8pycHDmdzhIFMpKSkty9Ykdz9913KyUlxZ1MZWdnu89x5Dldjx1pypQpmjhxos9xAwAAAMCRfEquBgwYoOzsbDVq1EgDBgwos53D4ZDT6QxWbEf10EMPaf78+Vq6dGmF5lKNHj1aGRkZ7vv5+flq2rRpMEIEAAAAUEP4lFwVFRWVeruiEhMTFRkZqe3bt3vt3759u5KTk8s99tFHH9VDDz2kTz75RJ06dXLvdx23fft2NW7c2OucXbp0KfVcMTExiomJCfBVAAAAAEAApdhfeOEFr/lJLoWFhXrhhRf8Old0dLS6deumzMxM976ioiJlZmaWW9b94Ycf1uTJk7Vo0SJ1797d67EWLVooOTnZ65z5+fn6+uuvAy4VDwAAAABH43dyNWLECOXl5ZXYv2fPHo0YMcLvADIyMjR79mzNmzdP69ev1w033KCCggL3uYYNG+ZV8GLq1KkaO3as5syZo+bNmys7O1vZ2dnau3evJGto4qhRo3T//ffr3Xff1Q8//KBhw4YpJSWl3CGNAAAAAFARflcLNMbI4XCU2L9lyxYlJCT4HcDgwYO1c+dOjRs3TtnZ2erSpYsWLVrkLkiRlZWliGILLD399NMqLCzUpZde6nWe8ePHa8KECZKku+66SwUFBbruuuuUm5ur0047TYsWLWKNKwAAAACVxud1rrp27SqHw6HvvvtO7du3V1SUJy9zOp3atGmT+vbtq9dee63Sgq0qrHNVEutcAQAAoCaqlHWuXEPq1q5dqz59+qhu3brux6Kjo9W8eXMNGjQosIhhq9RUK3G68krpiy+km2+WjhzhmZhIYgUAAACUx+eeK5d58+Zp8ODB1XqIXU3ruZKkgwelY46R9u2Tvv9e6tjR7ogAAAAA+1VKz5XL8OHDAw4MoSsmRvrpJykzU+rQwe5oAAAAgPDjd3LldDr1xBNP6LXXXlNWVpYKCwu9Ht+9e3fQgkPVatZMuvpqu6MAAAAAwpPfpdgnTpyoxx9/XIMHD1ZeXp4yMjJ0ySWXKCIiwl2tDwAAAABqGr+Tq5dfflmzZ8/W7bffrqioKA0dOlTPPfecxo0bpxUrVlRGjKhk69dLF14o/ec/dkcCAAAAhC+/k6vs7Gx1/F+1g7p167oXFL7wwgv1/vvvBzc6VImFC6X335f++1+7IwEAAADCl9/J1XHHHadt27ZJklq1aqWPP/5YkvTNN98oJiYmuNGhSrhy4gsusDcOAAAAIJz5nVwNHDhQmZmZkqRbbrlFY8eOVZs2bTRs2DBdTTWEsJObK335pXWb5AoAAAAInN/VAh966CH37cGDB6tZs2ZatmyZ2rRpo4suuiiowaHyffyx5HRKJ5wgtWhhdzQAAABA+PI7uTrSySefrJNPPjkYscAGDAkEAAAAgsPvYYFTpkzRnDlzSuyfM2eOpk6dGpSgUDWKiqQPP7Ruk1wBAAAAFeN3cvXMM8+oXbt2Jfa3b99es2bNCkpQqBo5OVKHDlJionTqqXZHAwAAAIQ3v4cFZmdnq3HjxiX2N2zY0F1FEOGhUSPp00+lgwelWrXsjgYAAAAIb373XDVt2lRfffVVif1fffWVUlJSghIUqhYV9AEAAICK87vn6tprr9WoUaN06NAhnXPOOZKkzMxM3XXXXbr99tuDHiAqx5490r59UlKS3ZEAAAAA1YPfydWdd96pXbt26cYbb1RhYaEkKTY2VnfffbdGjx4d9ABROV57Tbr2WmnECOk//7E7GgAAACD8+Z1cORwOTZ06VWPHjtX69etVu3ZttWnTRjGMLQsrH3wgGSOlptodCQAAAFA9BLzOVd26ddWjR49gxoIqUlgoLV5s3aYEOwAAABAcPiVXl1xyiebOnav4+Hhdcskl5bZ98803gxIYKs8XX1hzrpKSpJNOsjsaAAAAoHrwKblKSEiQw+GQJMXHx7tvIzy9/771tV8/KcLvepEAAAAASuNTcjVw4EDFxsZKkubOnVuZ8aAKuJIrhgQCAAAAweNTv8XAgQOVm5srSYqMjNSOHTsqMyZUoo0bpV9+kaKipPPOszsaAAAAoPrwKblq2LChVqxYIUkyxjAsMIw1aiTNnSuNHSslJNgdDQAAAFB9+DQs8P/+7/908cUXy+FwyOFwKDk5ucy2TqczaMEh+OLjpeHD7Y4CAAAAqH58Sq4mTJigIUOGaOPGjerfv7+ef/551a9fv5JDAwAAAIDw4fM6V+3atVO7du00fvx4XXbZZYqLi6vMuFAJvvxSWrFCuvhiqU0bu6MBAAAAqhe/FxEeP358ZcSBKjBvnvTcc1JWljR9ut3RAAAAANWLT8nVSSedpMzMTDVo0EBdu3Ytt6DF6tWrgxYcgscY6YMPrNuUYAcAAACCz6fk6uKLL1ZMTIwkacCAAZUZDyrJd99JW7dKcXHSmWfaHQ0AAABQ/fiUXBUfCsiwwPDkWjg4PV3633rQAAAAAILIp3Wuitu8ebO2bNnivr9y5UqNGjVKzz77bFADQ3C5kqvzz7c3DgAAAKC68ju5+sc//qElS5ZIkrKzs5Wenq6VK1fqvvvu06RJk4IeICouJ8eqEiiRXAEAAACVxe/kat26derZs6ck6bXXXlPHjh21bNkyvfzyy5o7d26w40MQfP+9FBMjdeokNW1qdzQAAABA9eR3KfZDhw65i1t88skn6t+/vyRrHaxt27YFNzoExTnnSLt3S5s32x0JAAAAUH353XPVvn17zZo1S1988YUWL16svn37SpK2bt2qY489NugBIjhq15aOP97uKAAAAIDqy+/kaurUqXrmmWd01llnaejQoercubMk6d1333UPF0TocDrtjgAAAACoGRzGGOPvQU6nU/n5+WrQoIF73x9//KG4uDg1atQoqAHaIT8/XwkJCcrLy1N8fLzd4VTIPfdYlQLHjJEGD7Y7GgAAACC8+JMb+D3nSpIiIyO9EitJat68eSCnQiV7/31p3Tp6sAAAAIDKFlBy9d///levvfaasrKyVFhY6PXY6tWrgxIYApOVZZVel6Rt26zEyuGQGjeWVq+WEhOl1FR7YwQAAACqI7/nXE2fPl0jRoxQUlKS1qxZo549e+rYY4/V77//rn79+lVGjPBRVpbUtq3UrZu1XXihtd8Yq2Jgt27W41lZ9sYJAAAAVEd+J1f//ve/9eyzz+qpp55SdHS07rrrLi1evFj/+te/lJeXVxkxwkc5OdKBA+W3OXDA07MFAAAAIHj8Tq6ysrJ0yimnSJJq166tPXv2SJL++c9/6tVXXw1udAAAAAAQJvxOrpKTk7V7925JUmpqqlasWCFJ2rRpkwIoPAgAAAAA1YLfydU555yjd999V5I0YsQI3XbbbTrvvPM0ePBgDRw4MOgBAgAAAEA48Lta4LPPPquioiJJ0k033aRjjz1Wy5YtU//+/XX99dcHPUAAAAAACAd+91xFREQoKsqTkw0ZMkTTp0/XLbfcoujoaL8DmDlzppo3b67Y2FilpaVp5cqVZbb98ccfNWjQIDVv3lwOh0PTpk0r0WbChAlyOBxeW7t27fyOCwAAAAD84VPP1ffff+/zCTt16uRz2wULFigjI0OzZs1SWlqapk2bpj59+mjDhg1q1KhRifb79u1Ty5Ytddlll+m2224r87zt27fXJ5984r5fPBkEAAAAgMrgU9bRpUsXORyOoxascDgccjqdPj/5448/rmuvvVYjRoyQJM2aNUvvv/++5syZo3vuuadE+x49eqhHjx6SVOrjLlFRUUpOTvY5juoiMVGKjS2/HHtsrNUOAAAAQHD5lFxt2rQp6E9cWFioVatWafTo0e59ERERSk9P1/Llyyt07l9//VUpKSmKjY1Vr169NGXKFKWmppbZ/uDBgzp48KD7fn5+foWe3y6pqdKGDdY6VhdfLG3ZIs2eLZ10kqdNYqLVDgAAAEBw+ZRcNWvWLOhPnJOTI6fTqaSkJK/9SUlJ+vnnnwM+b1pamubOnau2bdtq27Ztmjhxok4//XStW7dO9erVK/WYKVOmaOLEiQE/ZyhJTbU2V3542mkSU84AAACAyud3QYspU6Zozpw5JfbPmTNHU6dODUpQFdGvXz9ddtll6tSpk/r06aMPPvhAubm5eu2118o8ZvTo0crLy3NvmzdvrsKIg6+w0JNcNWxobywAAABATeF3cvXMM8+UWn2vffv2mjVrls/nSUxMVGRkpLZv3+61f/v27UGdL1W/fn0df/zx2rhxY5ltYmJiFB8f77WFs5wc62tkpNSggb2xAAAAADWF38lVdna2GjduXGJ/w4YNtW3bNp/PEx0drW7duikzM9O9r6ioSJmZmerVq5e/YZVp7969+u2330qNubraudP6euyxUoTfP2EAAAAAgfD7rXfTpk311Vdfldj/1VdfKSUlxa9zZWRkaPbs2Zo3b57Wr1+vG264QQUFBe7qgcOGDfMqeFFYWKi1a9dq7dq1Kiws1F9//aW1a9d69Urdcccd+uyzz/THH39o2bJlGjhwoCIjIzV06FB/X2rYciVXDAkEAAAAqo7fC0Bde+21GjVqlA4dOqRzzjlHkpSZmam77rpLt99+u1/nGjx4sHbu3Klx48YpOztbXbp00aJFi9xFLrKyshRRrOtl69at6tq1q/v+o48+qkcffVRnnnmmli5dKknasmWLhg4dql27dqlhw4Y67bTTtGLFCjWsQZlGYqI0fLhUA6vRAwAAALZxmKMtXnUEY4zuueceTZ8+XYWFhZKk2NhY3X333Ro3blylBFnV8vPzlZCQoLy8vLCffwUAAAAgcP7kBn4nVy579+7V+vXrVbt2bbVp00YxMTEBBRuKSK4AAAAASP7lBgGXO6hbt6569Oih1NRUffjhh1q/fn2gp0KQ5eVJBw7YHQUAAABQs/idXF1++eWaMWOGJGn//v3q3r27Lr/8cnXq1ElvvPFG0AOE/0aOlGrXlp5+2u5IAAAAgJrD7+Tq888/1+mnny5Jeuutt2SMUW5urqZPn677778/6AHCf65qgaxxBQAAAFQdv5OrvLw8HXPMMZKkRYsWadCgQYqLi9MFF1ygX3/9NegBwn+uRYRrUIFEAAAAwHYBrXO1fPlyFRQUaNGiRerdu7ck6e+//1ZsbGzQA4T/WOcKAAAAqHp+r3M1atQoXXHFFapbt66aNWums846S5I1XLBjx47Bjg9+KiqSdu2ybpNcAQAAAFXH7+TqxhtvVM+ePbV582add9557kV+W7ZsyZyrELB7t5VgSdZiwgAAAACqRsDrXFVn4bzO1fr10oknSgkJUm6u3dEAAAAA4c2f3MCnnquMjAxNnjxZderUUUZGRrltH3/8cd8jRdDFxkrDh0tRfvdJAgAAAKgIn96Cr1mzRocOHXLfLovD4QhOVAhYixbS3Ll2RwEAAADUPAwLLEU4DwsEAAAAEDz+5AZ+l2JHaNuzR9q/3+4oAAAAgJrH55k5V199tU/t5syZE3AwqLgxY6Tp062vkyfbHQ0AAABQc/icXM2dO1fNmjVT165dxUjC0OVaQLhBA3vjAAAAAGoan5OrG264Qa+++qo2bdqkESNG6Morr9QxxxxTmbEhADk51lcWEAYAAACqls9zrmbOnKlt27bprrvu0nvvvaemTZvq8ssv10cffURPVghx9VyRXAEAAABVy6+CFjExMRo6dKgWL16sn376Se3bt9eNN96o5s2ba+/evZUVI/xAcgUAAADYI+BqgREREXI4HDLGyOl0BjMmBMgYT3KVmGhvLAAAAEBN41dydfDgQb366qs677zzdPzxx+uHH37QjBkzlJWVpbp161ZWjPDRnj1SYaF1m54rAAAAoGr5XNDixhtv1Pz589W0aVNdffXVevXVV5VI90hIcTqlq66S8vKkuDi7owEAAABqFofxsRpFRESEUlNT1bVrVzkcjjLbvfnmm0ELzi7+rMIMAAAAoPryJzfwuedq2LBh5SZVAAAAAFCT+bWIMEJbQYHkcDAkEAAAALBDwNUCEXpmzJDq1JGuucbuSAAAAICah+SqGsnJsb4mJNgbBwAAAFATkVxVIywgDAAAANiH5KoaIbkCAAAA7ENyVY2QXAEAAAD2IbmqRlzJFWs7AwAAAFWP5KoaoecKAAAAsI/P61whtDmd0uWXWwlWUpLd0QAAAAA1D8lVNREZKc2ZY3cUAAAAQM3FsEAAAAAACAKSq2riwAFp3z67owAAAABqLpKrauKNN6Q6daTzz7c7EgAAAKBmIrmqJlyVAuPj7Y0DAAAAqKlIrqoJyrADAAAA9iK5qiZIrgAAAAB7kVxVE67kKjHR3jgAAACAmorkqpqg5woAAACwF8lVNZGTY30luQIAAADsEWV3AAiOfv2k44+XUlPtjgQAAAComUiuqoknnrA7AgAAAKBmY1ggAAAAAAQByVU1cOiQVFAgGWN3JAAAAEDNZXtyNXPmTDVv3lyxsbFKS0vTypUry2z7448/atCgQWrevLkcDoemTZtW4XNWB199JdWtK510kt2RAAAAADWXrcnVggULlJGRofHjx2v16tXq3Lmz+vTpox07dpTaft++fWrZsqUeeughJScnB+Wc1YGrDHu9evbGAQAAANRktiZXjz/+uK699lqNGDFCJ554ombNmqW4uDjNmTOn1PY9evTQI488oiFDhigmJiYo56wOWOMKAAAAsJ9tyVVhYaFWrVql9PR0TzAREUpPT9fy5ctD5pzhgOQKAAAAsJ9tpdhzcnLkdDqVlJTktT8pKUk///xzlZ7z4MGDOnjwoPt+fn5+QM9vF1dylZhobxwAAABATWZ7QYtQMGXKFCUkJLi3pk2b2h2SX3JyrK/0XAEAAAD2sS25SkxMVGRkpLZv3+61f/v27WUWq6isc44ePVp5eXnubfPmzQE9v10YFggAAADYz7bkKjo6Wt26dVNmZqZ7X1FRkTIzM9WrV68qPWdMTIzi4+O9tnBy+ulS//5S69Z2RwIAAADUXLbNuZKkjIwMDR8+XN27d1fPnj01bdo0FRQUaMSIEZKkYcOGqUmTJpoyZYokq2DFTz/95L79119/ae3atapbt65a/y+zONo5q6MJE+yOAAAAAICtydXgwYO1c+dOjRs3TtnZ2erSpYsWLVrkLkiRlZWliAhP59rWrVvVtWtX9/1HH31Ujz76qM4880wtXbrUp3MCAAAAQGVwGGOM3UGEmvz8fCUkJCgvLy/khwg6ndL+/VKdOpLDYXc0AAAAQPXiT25AtcAw9/vvUr16UoA1QAAAAAAECclVmHNVCqxb1944AAAAgJqO5CrMUYYdAAAACA0kV2HOlVwlJtobBwAAAFDTkVyFOXquAAAAgNBAchXmSK4AAACA0EByFeZIrgAAAIDQYOsiwqi47t2lPXuk9u3tjgQAAACo2VhEuBThtIgwAAAAgMrDIsIAAAAAUMVIrsLc3r0SfY8AAACA/UiuwlhBgVSvnlS7tpVkAQAAALAPyVUYc1UKlKQ6deyLAwAAAADJVVhzJVeJiZLDYW8sAAAAQE1HchXGWOMKAAAACB0kV2EsJ8f6SnIFAAAA2I/kKozRcwUAAACEDpKrMEZyBQAAAIQOkqswdsIJ0sUXSyedZHckAAAAABzGsATtkfLz85WQkKC8vDzFx8fbHQ4AAAAAm/iTG9BzBQAAAABBQHIVxgoKJPodAQAAgNBAchXGmjSRYmOljRvtjgQAAABAlN0BIDCFhVJennX7mGPsjQUAAAAAPVdhy7WAcGSkVL++raEAAAAAEMlV2HKtcXXssVIEP0UAAADAdrwtD1OunisWEAYAAABCA8lVmHL1XJFcAQAAAKGB5CpMkVwBAAAAoYXkKkw1ayYNGCCdfLLdkQAAAACQKMUetvr3tzYAAAAAoYGeKwAAAAAIApKrMLVvn2SM3VEAAAAAcCG5ClM9ekixsdIXX9gdCQAAAACJ5Cps7dwpFRZKCQl2RwIAAABAIrkKS0VF0q5d1m1KsQMAAAChgeQqDO3ebSVYkpSYaG8sAAAAACwkV2HItYBw/fpSrVq2hgIAAADgf0iuwpAruWJIIAAAABA6SK7CEMkVAAAAEHqi7A4A/mvYUBo4UGrXzu5IAAAAALiQXIWhM86wNgAAAAChg2GBAAAAABAEJFdh6MAByRi7owAAAABQHMlVGLroIikmRnrtNbsjAQAAAOBCchWGdu6UDh2S6tWzOxIAAAAALiRXYSgnx/pKKXYAAAAgdIREcjVz5kw1b95csbGxSktL08qVK8tt//rrr6tdu3aKjY1Vx44d9cEHH3g9ftVVV8nhcHhtffv2rcyXUGWMYZ0rAAAAIBTZnlwtWLBAGRkZGj9+vFavXq3OnTurT58+2rFjR6ntly1bpqFDh2rkyJFas2aNBgwYoAEDBmjdunVe7fr27att27a5t1dffbUqXk6l27NHKiy0bpNcAQAAAKHDYYy9defS0tLUo0cPzZgxQ5JUVFSkpk2b6pZbbtE999xTov3gwYNVUFCghQsXuvedfPLJ6tKli2bNmiXJ6rnKzc3V22+/HVBM+fn5SkhIUF5enuLj4wM6R2X57TepdWspLk4qKLA7GgAAAKB68yc3sLXnqrCwUKtWrVJ6erp7X0REhNLT07V8+fJSj1m+fLlXe0nq06dPifZLly5Vo0aN1LZtW91www3atWtXmXEcPHhQ+fn5Xluocg0JTEy0Nw4AAAAA3mxNrnJycuR0OpWUlOS1PykpSdnZ2aUek52dfdT2ffv21QsvvKDMzExNnTpVn332mfr16yen01nqOadMmaKEhAT31rRp0wq+ssoTFyddconUu7fdkQAAAAAoLsruACrDkCFD3Lc7duyoTp06qVWrVlq6dKnOPffcEu1Hjx6tjIwM9/38/PyQTbA6dZLeeMPuKAAAAAAcydaeq8TEREVGRmr79u1e+7dv367k5ORSj0lOTvarvSS1bNlSiYmJ2rhxY6mPx8TEKD4+3msDAAAAAH/YmlxFR0erW7duyszMdO8rKipSZmamevXqVeoxvXr18movSYsXLy6zvSRt2bJFu3btUuPGjYMTuI0OHrTKsQMAAAAILbaXYs/IyNDs2bM1b948rV+/XjfccIMKCgo0YsQISdKwYcM0evRod/tbb71VixYt0mOPPaaff/5ZEyZM0Lfffqubb75ZkrR3717deeedWrFihf744w9lZmbq4osvVuvWrdWnTx9bXmMwXX+9FB0tTZ9udyQAAAAAirN9ztXgwYO1c+dOjRs3TtnZ2erSpYsWLVrkLlqRlZWliAhPDnjKKafolVde0ZgxY3TvvfeqTZs2evvtt9WhQwdJUmRkpL7//nvNmzdPubm5SklJUe/evTV58mTFxMTY8hqDaedO6fBhqU4duyMBAAAAUJzt61yFolBe5yotTVq5UnrnHal/f7ujAQAAAKq3sFnnCv5zrXPVsKG9cQAAAADwRnIVZkiuAAAAgNBEchVGDhyQ9u61bpNcAQAAAKGF5CqMuHqtatWSQmwqGAAAAFDj2V4tEP4ZNEgqKpIcDrsjAQAAAFAcyVUYadpU+u9/7Y4CAAAAQGkYFggAAAAAQUByFUYKCyVWJQMAAABCE8lVGJk4UYqOlu691+5IAAAAAByJ5CqM7NwpHT4sxcbaHQkAAACAI5FchREWEAYAAABCF8lVGCG5AgAAAEIXyVUYIbkCAAAAQhfJVRhxJVeJifbGAQAAAKAkkqswcfiw9Pff1m16rgAAAIDQE2V3APDNgQPSpZdavVfHHmt3NAAAAACORHIVJurWlV5/3e4oAAAAAJSFYYEAAAAAEAQkV2Hi8GGpqMjuKAAAAACUheQqTDz7rBQdLY0YYXckAAAAAEpDchUmdu6UnE4rwQIAAAAQekiuwgQLCAMAAAChjeQqTJBcAQAAAKGN5CpMuJKrxER74wAAAABQOpKrMEHPFQAAABDaSK7CRE6O9ZXkCgAAAAhNUXYHAN+cfba0davUuLHdkQAAAAAoDclVmHjlFbsjAAAAAFAehgUCAAAAQBCQXIUBp1MqKrI7CgAAAADlIbkKAwsXStHRUr9+dkcCAAAAoCwkV2Fg506r9yqKGXIAAABAyCK5CgOscQUAAACEPpKrMEByBQAAAIQ+kqsw4EquEhPtjQMAAABA2UiuwkBOjvWVnisAAAAgdJFchQGGBQIAAAChj/pzYeDkk6V69aTUVLsjAQAAAFAWkqswMGOG3REAAAAAOBqGBQIAAABAEJBchbiiImsDAAAAENpIrkLc6tVSrVpS1652RwIAAACgPCRXIW7nTqvnyuGwOxIAAAAA5SG5CnGUYQcAAADCA9UCQ1BWlmfh4DVrrK8REdYQQUlKTKQsOwAAABBqSK5CTFaW1LatdOCA9/5Fi6xNkmJjpQ0bSLAAAACAUBISwwJnzpyp5s2bKzY2VmlpaVq5cmW57V9//XW1a9dOsbGx6tixoz744AOvx40xGjdunBo3bqzatWsrPT1dv/76a2W+hKDJySmZWB3pwAFPzxYAAACA0GB7crVgwQJlZGRo/PjxWr16tTp37qw+ffpox44dpbZftmyZhg4dqpEjR2rNmjUaMGCABgwYoHXr1rnbPPzww5o+fbpmzZqlr7/+WnXq1FGfPn104GhZCwAAAAAEyGGMMXYGkJaWph49emjGjBmSpKKiIjVt2lS33HKL7rnnnhLtBw8erIKCAi1cuNC97+STT1aXLl00a9YsGWOUkpKi22+/XXfccYckKS8vT0lJSZo7d66GDBly1Jjy8/OVkJCgvLw8xcfHB+mV+mb1aqlbt6O3W7VKOumkyo8HAAAAqMn8yQ1s7bkqLCzUqlWrlJ6e7t4XERGh9PR0LV++vNRjli9f7tVekvr06eNuv2nTJmVnZ3u1SUhIUFpaWpnnPHjwoPLz8702AAAAAPCHrclVTk6OnE6nkpKSvPYnJSUpOzu71GOys7PLbe/66s85p0yZooSEBPfWtGnTgF4PAAAAgJrL9jlXoWD06NHKy8tzb5s3b7Y7JAAAAABhxtbkKjExUZGRkdq+fbvX/u3btys5ObnUY5KTk8tt7/rqzzljYmIUHx/vtQEAAACAP2xNrqKjo9WtWzdlZma69xUVFSkzM1O9evUq9ZhevXp5tZekxYsXu9u3aNFCycnJXm3y8/P19ddfl3nOUJKYaK1jVZ7YWKsdAAAAgNBh+yLCGRkZGj58uLp3766ePXtq2rRpKigo0IgRIyRJw4YNU5MmTTRlyhRJ0q233qozzzxTjz32mC644ALNnz9f3377rZ599llJksPh0KhRo3T//ferTZs2atGihcaOHauUlBQNGDDArpfps9RUa4Hg8taxSkxkAWEAAAAg1NieXA0ePFg7d+7UuHHjlJ2drS5dumjRokXughRZWVmKiPB0sJ1yyil65ZVXNGbMGN17771q06aN3n77bXXo0MHd5q677lJBQYGuu+465ebm6rTTTtOiRYsUe7QuoRCRmkryBAAAAIQb29e5CkV2rnMFAAAAIHSEzTpXAAAAAFBdkFwBAAAAQBCQXAEAAABAEJBcAQAAAEAQkFwBAAAAQBCQXAEAAABAEJBcAQAAAEAQkFwBAAAAQBCQXAEAAABAEJBcAQAAAEAQkFwBAAAAQBCQXAEAAABAEETZHUAoMsZIkvLz822OBAAAAICdXDmBK0coD8lVKfbs2SNJatq0qc2RAAAAAAgFe/bsUUJCQrltHMaXFKyGKSoq0tatW1WvXj05HI5Kf778/Hw1bdpUmzdvVnx8fKU/H6oXrh9UBNcPAsW1g4rg+kFFVPX1Y4zRnj17lJKSooiI8mdV0XNVioiICB133HFV/rzx8fH8gUHAuH5QEVw/CBTXDiqC6wcVUZXXz9F6rFwoaAEAAAAAQUByBQAAAABBQHIVAmJiYjR+/HjFxMTYHQrCENcPKoLrB4Hi2kFFcP2gIkL5+qGgBQAAAAAEAT1XAAAAABAEJFcAAAAAEAQkVwAAAAAQBCRXAAAAABAEJFchYObMmWrevLliY2OVlpamlStX2h0SQsyUKVPUo0cP1atXT40aNdKAAQO0YcMGrzYHDhzQTTfdpGOPPVZ169bVoEGDtH37dpsiRih76KGH5HA4NGrUKPc+rh+U56+//tKVV16pY489VrVr11bHjh317bffuh83xmjcuHFq3LixateurfT0dP366682RoxQ4HQ6NXbsWLVo0UK1a9dWq1atNHnyZBWvpca1A5fPP/9cF110kVJSUuRwOPT22297Pe7LtbJ7925dccUVio+PV/369TVy5Ejt3bu3Cl8FyZXtFixYoIyMDI0fP16rV69W586d1adPH+3YscPu0BBCPvvsM910001asWKFFi9erEOHDql3794qKChwt7ntttv03nvv6fXXX9dnn32mrVu36pJLLrExaoSib775Rs8884w6derktZ/rB2X5+++/deqpp6pWrVr68MMP9dNPP+mxxx5TgwYN3G0efvhhTZ8+XbNmzdLXX3+tOnXqqE+fPjpw4ICNkcNuU6dO1dNPP60ZM2Zo/fr1mjp1qh5++GE99dRT7jZcO3ApKChQ586dNXPmzFIf9+VaueKKK/Tjjz9q8eLFWrhwoT7//HNdd911VfUSLAa26tmzp7npppvc951Op0lJSTFTpkyxMSqEuh07dhhJ5rPPPjPGGJObm2tq1aplXn/9dXeb9evXG0lm+fLldoWJELNnzx7Tpk0bs3jxYnPmmWeaW2+91RjD9YPy3X333ea0004r8/GioiKTnJxsHnnkEfe+3NxcExMTY1599dWqCBEh6oILLjBXX321175LLrnEXHHFFcYYrh2UTZJ566233Pd9uVZ++uknI8l888037jYffvihcTgc5q+//qqy2Om5slFhYaFWrVql9PR0976IiAilp6dr+fLlNkaGUJeXlydJOuaYYyRJq1at0qFDh7yupXbt2ik1NZVrCW433XSTLrjgAq/rROL6Qfneffddde/eXZdddpkaNWqkrl27avbs2e7HN23apOzsbK/rJyEhQWlpaVw/Ndwpp5yizMxM/fLLL5Kk7777Tl9++aX69esniWsHvvPlWlm+fLnq16+v7t27u9ukp6crIiJCX3/9dZXFGlVlz4QScnJy5HQ6lZSU5LU/KSlJP//8s01RIdQVFRVp1KhROvXUU9WhQwdJUnZ2tqKjo1W/fn2vtklJScrOzrYhSoSa+fPna/Xq1frmm29KPMb1g/L8/vvvevrpp5WRkaF7771X33zzjf71r38pOjpaw4cPd18jpf0v4/qp2e655x7l5+erXbt2ioyMlNPp1AMPPKArrrhCkrh24DNfrpXs7Gw1atTI6/GoqCgdc8wxVXo9kVwBYeamm27SunXr9OWXX9odCsLE5s2bdeutt2rx4sWKjY21OxyEmaKiInXv3l0PPvigJKlr165at26dZs2apeHDh9scHULZa6+9ppdfflmvvPKK2rdvr7Vr12rUqFFKSUnh2kG1xbBAGyUmJioyMrJERa7t27crOTnZpqgQym6++WYtXLhQS5Ys0XHHHefen5ycrMLCQuXm5nq151qCZA3727Fjh0466SRFRUUpKipKn332maZPn66oqCglJSVx/aBMjRs31oknnui174QTTlBWVpYkua8R/pfhSHfeeafuueceDRkyRB07dtQ///lP3XbbbZoyZYokrh34zpdrJTk5uURBuMOHD2v37t1Vej2RXNkoOjpa3bp1U2ZmpntfUVGRMjMz1atXLxsjQ6gxxujmm2/WW2+9pU8//VQtWrTwerxbt26qVauW17W0YcMGZWVlcS1B5557rn744QetXbvWvXXv3l1XXHGF+zbXD8py6qmnllj64ZdfflGzZs0kSS1atFBycrLX9ZOfn6+vv/6a66eG27dvnyIivN9qRkZGqqioSBLXDnzny7XSq1cv5ebmatWqVe42n376qYqKipSWllZ1wVZZ6QyUav78+SYmJsbMnTvX/PTTT+a6664z9evXN9nZ2XaHhhByww03mISEBLN06VKzbds297Zv3z53m//7v/8zqamp5tNPPzXffvut6dWrl+nVq5eNUSOUFa8WaAzXD8q2cuVKExUVZR544AHz66+/mpdfftnExcWZl156yd3moYceMvXr1zfvvPOO+f77783FF19sWrRoYfbv329j5LDb8OHDTZMmTczChQvNpk2bzJtvvmkSExPNXXfd5W7DtQOXPXv2mDVr1pg1a9YYSebxxx83a9asMX/++acxxrdrpW/fvqZr167m66+/Nl9++aVp06aNGTp0aJW+DpKrEPDUU0+Z1NRUEx0dbXr27GlWrFhhd0gIMZJK3Z5//nl3m/3795sbb7zRNGjQwMTFxZmBAweabdu22Rc0QtqRyRXXD8rz3nvvmQ4dOpiYmBjTrl078+yzz3o9XlRUZMaOHWuSkpJMTEyMOffcc82GDRtsihahIj8/39x6660mNTXVxMbGmpYtW5r77rvPHDx40N2GawcuS5YsKfW9zvDhw40xvl0ru3btMkOHDjV169Y18fHxZsSIEWbPnj1V+jocxhRbJhsAAAAAEBDmXAEAAABAEJBcAQAAAEAQkFwBAAAAQBCQXAEAAABAEJBcAQAAAEAQkFwBAAAAQBCQXAEAAABAEJBcAQBwhLPOOkujRo2yOwwAQJghuQIAAACAICC5AgAAAIAgILkCAOAo3n//fSUkJOjll1+2OxQAQAiLsjsAAABC2SuvvKL/+7//0yuvvKILL7zQ7nAAACGMnisAAMowc+ZM3XjjjXrvvfdIrAAAR0XPFQAApfjvf/+rHTt26KuvvlKPHj3sDgcAEAbouQIAoBRdu3ZVw4YNNWfOHBlj7A4HABAGSK4AAChFq1attGTJEr3zzju65ZZb7A4HABAGGBYIAEAZjj/+eC1ZskRnnXWWoqKiNG3aNLtDAgCEMJIrAADK0bZtW3366ac666yzFBkZqccee8zukAAAIcphGEgOAAAAABXGnCsAAAAACAKSKwAAAAAIApIrAAAAAAgCkisAAAAACAKSKwAAAAAIApIrAAAAAAgCkisAAAAACAKSKwAAAAAIApIrAAAAAAgCkisAAAAACAKSKwAAAAAIApIrAAAAAAiC/welljpLiv8b/wAAAABJRU5ErkJggg==\n",
      "text/plain": [
       "<Figure size 1000x600 with 1 Axes>"
      ]
     },
     "metadata": {},
>>>>>>> Stashed changes
     "output_type": "display_data"
    }
   ],
   "source": [
    "plt.figure(figsize=(10,6))\n",
    "plt.plot(num_ks, train_accuracy, 'bs--', label='Train')\n",
    "plt.plot(num_ks, valid_accuracy, 'rx--', label='Validation')\n",
    "plt.xlabel('k')\n",
    "plt.ylabel('Misclasification rate')\n",
    "plt.legend()\n",
    "plt.show()"
   ]
  },
  {
   "cell_type": "markdown",
   "metadata": {
    "id": "kGhwzvOOHtd5"
   },
   "source": [
    "This graph is pretty similar to the one that we saw on slide 9 of Lecture 2. Here, we can see the expected general trend of the performance curves. \n",
    "\n",
    "Which k do you think is the best?"
   ]
  },
  {
   "cell_type": "markdown",
   "metadata": {
    "id": "7VJZyifr-4nR"
   },
   "source": [
    "### Cross-validation\n",
    "\n",
    "Problem: if validation set is small and noisy, it might be misleading\n",
    "Idea: Increase the size of the validation set\n",
    "Problem: This would reduce the size of the training set\n",
    "\n",
    "Then, let's use all data for training and validation using k-fold cross-validation!"
   ]
  },
  {
   "cell_type": "code",
<<<<<<< Updated upstream
   "execution_count": 133,
=======
   "execution_count": 39,
>>>>>>> Stashed changes
   "metadata": {
    "id": "t_6J0cmd_558"
   },
   "outputs": [],
   "source": [
    "from sklearn.model_selection import cross_validate"
   ]
  },
  {
   "cell_type": "code",
<<<<<<< Updated upstream
   "execution_count": 134,
=======
   "execution_count": 40,
>>>>>>> Stashed changes
   "metadata": {
    "colab": {
     "base_uri": "https://localhost:8080/",
     "height": 49,
     "referenced_widgets": [
<<<<<<< Updated upstream
      "914eff8c2fae4f248af2dd1c0ab2adec",
      "c90eb39b1d6e4b5ba8136df7e5480a61",
      "b5249ba10245474e8ea18b502bebffb2",
      "3f07d346263c40ae80952f23251b4b74",
      "7976f19eb8f1414e8de608ed280755a7",
      "d23639c2608d4c4bbbb58fbeeff6c934",
      "164fc49ebc3b466f9b4c25260637210a",
      "4bfe0903581b4ca999017a19607380d5",
      "ef2b2ce93832431aac24fdb8dcbaf7f2",
      "d19e4dface4c4701a08ac745a31b8225",
      "24b693f1c368469faf63263a9c520158"
     ]
    },
    "id": "jXOO3iN3-3n2",
    "outputId": "21856a82-4d55-49d0-eb6f-58e9a1645d5c"
=======
      "69ca926a2c9f43cf8924e37bd0b877c7",
      "3c01401e8d2840108643b1c8a9ccdbbf",
      "70cfb205e4a247e7a31ab0c7cd74deaa",
      "79316a813a7144b2945174b1035bb942",
      "f58809a73ad148509fea882e38195b3b",
      "12cd20c72a5e4f8f87936782590b5a39",
      "23b576509e534df08f443e5b7d1094e1",
      "2844a934e25846eab5d7e30aba66812b",
      "ef0f8e04520f49ba880b1c735d7c44a7",
      "33ec3238cdfd407089f2e7119fd5ee25",
      "5bf819d878114c2cb0716e0fd7a2f560"
     ]
    },
    "id": "jXOO3iN3-3n2",
    "outputId": "77e76cfd-8c94-4985-c562-b65f26535822"
>>>>>>> Stashed changes
   },
   "outputs": [
    {
     "data": {
      "application/vnd.jupyter.widget-view+json": {
<<<<<<< Updated upstream
       "model_id": "69dffc2fad35496fb0d012d3d35ba134",
=======
       "model_id": "a0c923a9d12b4a729fe35b791ae87398",
>>>>>>> Stashed changes
       "version_major": 2,
       "version_minor": 0
      },
      "text/plain": [
       "  0%|          | 0/49 [00:00<?, ?it/s]"
      ]
     },
     "metadata": {},
     "output_type": "display_data"
    }
   ],
   "source": [
    "num_ks = np.arange(1, 50, 1).astype(int)\n",
    "\n",
    "train_misclassification = []\n",
    "valid_misclassification = []\n",
    "for i in tqdm(range(len(num_ks))):\n",
    "  knn = KNeighborsClassifier(n_neighbors=num_ks[i])\n",
    "  cv_dict = cross_validate(knn, X_train, y_train, cv=10, \n",
    "                                 scoring='accuracy', return_train_score=True)\n",
    "  \n",
    "  k_fold_train_scored = cv_dict['train_score']\n",
    "  k_fold_valid_scored = cv_dict['test_score']\n",
    "  \n",
    "  train_misclassification.append(1-k_fold_train_scored.mean())\n",
    "  valid_misclassification.append(1-k_fold_valid_scored.mean())\n",
    "  "
   ]
  },
  {
   "cell_type": "code",
<<<<<<< Updated upstream
   "execution_count": 120,
=======
   "execution_count": 41,
>>>>>>> Stashed changes
   "metadata": {
    "colab": {
     "base_uri": "https://localhost:8080/",
     "height": 388
    },
    "id": "fhwmbs0dzoyu",
<<<<<<< Updated upstream
    "outputId": "8fe30b73-c5af-41cd-9dea-210c37810d43"
=======
    "outputId": "fe07dcef-8a1b-4f70-df83-12c1b787658b"
>>>>>>> Stashed changes
   },
   "outputs": [
    {
     "data": {
<<<<<<< Updated upstream
      "image/png": "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\n",
      "text/plain": [
       "<Figure size 720x432 with 1 Axes>"
      ]
     },
     "metadata": {
      "needs_background": "light"
     },
=======
      "image/png": "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\n",
      "text/plain": [
       "<Figure size 1000x600 with 1 Axes>"
      ]
     },
     "metadata": {},
>>>>>>> Stashed changes
     "output_type": "display_data"
    }
   ],
   "source": [
    "plt.figure(figsize=(10,6))\n",
    "plt.plot(num_ks, train_misclassification, 'bs--', label='Train')\n",
    "plt.plot(num_ks, valid_misclassification, 'rx--', label='Validation')\n",
    "plt.xlabel('k')\n",
    "plt.ylabel('Misclasification rate')\n",
    "plt.legend()\n",
    "plt.show()"
   ]
  },
  {
   "cell_type": "code",
<<<<<<< Updated upstream
   "execution_count": 121,
=======
   "execution_count": 42,
>>>>>>> Stashed changes
   "metadata": {
    "colab": {
     "base_uri": "https://localhost:8080/"
    },
    "id": "1ruje72l3Gcv",
<<<<<<< Updated upstream
    "outputId": "f8955444-23e4-4014-83e5-f04032f69eeb"
=======
    "outputId": "0a1863b0-ce0f-4ae9-f3b2-2a525a8dd839"
>>>>>>> Stashed changes
   },
   "outputs": [
    {
     "name": "stdout",
     "output_type": "stream",
     "text": [
<<<<<<< Updated upstream
      "k with minimum validation misclassification:  13\n"
=======
      "k with minimum validation misclassification:  14\n"
>>>>>>> Stashed changes
     ]
    }
   ],
   "source": [
    "print('k with minimum validation misclassification: ', num_ks[np.argmin(valid_misclassification)])"
   ]
  },
  {
   "cell_type": "code",
<<<<<<< Updated upstream
   "execution_count": 123,
=======
   "execution_count": 43,
>>>>>>> Stashed changes
   "metadata": {
    "colab": {
     "base_uri": "https://localhost:8080/",
     "height": 388
    },
    "id": "LeGHGE0Z4Iw9",
<<<<<<< Updated upstream
    "outputId": "10e7209a-766e-4c65-ef65-7359fef9c92c"
=======
    "outputId": "6791c17f-50df-4c29-aa6f-75df825ba0ed"
>>>>>>> Stashed changes
   },
   "outputs": [
    {
     "data": {
<<<<<<< Updated upstream
      "image/png": "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\n",
      "text/plain": [
       "<Figure size 720x432 with 1 Axes>"
      ]
     },
     "metadata": {
      "needs_background": "light"
     },
=======
      "image/png": "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\n",
      "text/plain": [
       "<Figure size 1000x600 with 1 Axes>"
      ]
     },
     "metadata": {},
>>>>>>> Stashed changes
     "output_type": "display_data"
    }
   ],
   "source": [
    "plt.figure(figsize=(10,6))\n",
    "plt.plot(num_ks, valid_misclassification, 'rx--', label='Validation')\n",
    "plt.yscale('log')\n",
    "plt.xlabel('k')\n",
    "plt.ylabel('Misclasification rate')\n",
    "plt.legend()\n",
    "plt.show()"
   ]
  },
  {
   "cell_type": "markdown",
   "metadata": {
    "id": "seihHrN44uia"
   },
   "source": [
    "You can now go back to your implementation of leave-one-out and train your kNN model using the best k that you found. How does it perform compared to the VEGA kNN? Do you got a better model? Why?"
   ]
  },
  {
   "cell_type": "markdown",
   "metadata": {
    "id": "IrYX_LjKkjcE"
   },
   "source": [
    "## Challenge - kNN QSPR for predicting BCF 🥇\n",
    "\n",
    "\n",
    "Develop a kNN model for regression to predict the bioconcentration factor (BCF).\n",
    "\n"
   ]
  },
  {
   "cell_type": "code",
<<<<<<< Updated upstream
   "execution_count": null,
=======
   "execution_count": 44,
>>>>>>> Stashed changes
   "metadata": {
    "id": "rv1bQTxtVvuz"
   },
   "outputs": [],
   "source": [
    "if 'google.colab' in str(get_ipython()):\n",
    "  df_bcf = pd.read_csv(\"https://raw.githubusercontent.com/edgarsmdn/MLCE_book/main/references/BCF_training.csv\")\n",
    "else:\n",
    "  df_bcf = pd.read_csv(\"references/BCF_training.csv\")\n"
   ]
  },
  {
   "cell_type": "code",
<<<<<<< Updated upstream
   "execution_count": null,
=======
   "execution_count": 45,
>>>>>>> Stashed changes
   "metadata": {
    "id": "X5a-AgMZ55Rj"
   },
   "outputs": [],
   "source": [
    "# Your code here"
   ]
<<<<<<< Updated upstream
=======
  },
  {
   "cell_type": "markdown",
   "metadata": {},
   "source": [
    "## References\n",
    "\n",
    "```{bibliography}\n",
    ":filter: docname in docnames\n",
    "```"
   ]
>>>>>>> Stashed changes
  }
 ],
 "metadata": {
  "colab": {
   "provenance": [],
   "toc_visible": true
  },
  "kernelspec": {
   "display_name": "Python 3 (ipykernel)",
   "language": "python",
   "name": "python3"
  },
  "language_info": {
   "codemirror_mode": {
    "name": "ipython",
    "version": 3
   },
   "file_extension": ".py",
   "mimetype": "text/x-python",
   "name": "python",
   "nbconvert_exporter": "python",
   "pygments_lexer": "ipython3",
<<<<<<< Updated upstream
   "version": "3.9.12"
  },
  "widgets": {
   "application/vnd.jupyter.widget-state+json": {
    "0d5dd3b8b7914bafb3c57066f2117f4b": {
=======
   "version": "3.7.15"
  },
  "widgets": {
   "application/vnd.jupyter.widget-state+json": {
    "0de6090b275f41d392e39125417371a0": {
>>>>>>> Stashed changes
     "model_module": "@jupyter-widgets/controls",
     "model_module_version": "1.5.0",
     "model_name": "HTMLModel",
     "state": {
      "_dom_classes": [],
      "_model_module": "@jupyter-widgets/controls",
      "_model_module_version": "1.5.0",
      "_model_name": "HTMLModel",
      "_view_count": null,
      "_view_module": "@jupyter-widgets/controls",
      "_view_module_version": "1.5.0",
      "_view_name": "HTMLView",
      "description": "",
      "description_tooltip": null,
<<<<<<< Updated upstream
      "layout": "IPY_MODEL_bbb549238aca44c0bcc7b41a4e0516d4",
      "placeholder": "​",
      "style": "IPY_MODEL_34b5cde70d7a41ae82eec617f48a33ff",
      "value": "100%"
     }
    },
    "131bcbae8f1a4166b7c187e27752a4a1": {
     "model_module": "@jupyter-widgets/controls",
     "model_module_version": "1.5.0",
     "model_name": "HBoxModel",
     "state": {
      "_dom_classes": [],
      "_model_module": "@jupyter-widgets/controls",
      "_model_module_version": "1.5.0",
      "_model_name": "HBoxModel",
      "_view_count": null,
      "_view_module": "@jupyter-widgets/controls",
      "_view_module_version": "1.5.0",
      "_view_name": "HBoxView",
      "box_style": "",
      "children": [
       "IPY_MODEL_0d5dd3b8b7914bafb3c57066f2117f4b",
       "IPY_MODEL_da3943a1533d48339cc99add56f296ec",
       "IPY_MODEL_8ab9c22f3c6b407aab7c2b20542caddf"
      ],
      "layout": "IPY_MODEL_62cc78dd0f354e4bab79b1adcbbb8d51"
     }
    },
    "164fc49ebc3b466f9b4c25260637210a": {
     "model_module": "@jupyter-widgets/controls",
     "model_module_version": "1.5.0",
     "model_name": "DescriptionStyleModel",
     "state": {
      "_model_module": "@jupyter-widgets/controls",
      "_model_module_version": "1.5.0",
      "_model_name": "DescriptionStyleModel",
      "_view_count": null,
      "_view_module": "@jupyter-widgets/base",
      "_view_module_version": "1.2.0",
      "_view_name": "StyleView",
      "description_width": ""
     }
    },
    "24b693f1c368469faf63263a9c520158": {
     "model_module": "@jupyter-widgets/controls",
     "model_module_version": "1.5.0",
     "model_name": "DescriptionStyleModel",
     "state": {
      "_model_module": "@jupyter-widgets/controls",
      "_model_module_version": "1.5.0",
      "_model_name": "DescriptionStyleModel",
      "_view_count": null,
      "_view_module": "@jupyter-widgets/base",
      "_view_module_version": "1.2.0",
      "_view_name": "StyleView",
      "description_width": ""
     }
    },
    "34b5cde70d7a41ae82eec617f48a33ff": {
     "model_module": "@jupyter-widgets/controls",
     "model_module_version": "1.5.0",
     "model_name": "DescriptionStyleModel",
     "state": {
      "_model_module": "@jupyter-widgets/controls",
      "_model_module_version": "1.5.0",
      "_model_name": "DescriptionStyleModel",
      "_view_count": null,
      "_view_module": "@jupyter-widgets/base",
      "_view_module_version": "1.2.0",
      "_view_name": "StyleView",
      "description_width": ""
     }
    },
    "3f07d346263c40ae80952f23251b4b74": {
     "model_module": "@jupyter-widgets/controls",
     "model_module_version": "1.5.0",
     "model_name": "HTMLModel",
     "state": {
      "_dom_classes": [],
      "_model_module": "@jupyter-widgets/controls",
      "_model_module_version": "1.5.0",
      "_model_name": "HTMLModel",
      "_view_count": null,
      "_view_module": "@jupyter-widgets/controls",
      "_view_module_version": "1.5.0",
      "_view_name": "HTMLView",
      "description": "",
      "description_tooltip": null,
      "layout": "IPY_MODEL_d19e4dface4c4701a08ac745a31b8225",
      "placeholder": "​",
      "style": "IPY_MODEL_24b693f1c368469faf63263a9c520158",
      "value": " 49/49 [01:48&lt;00:00,  2.54s/it]"
     }
    },
    "4bfe0903581b4ca999017a19607380d5": {
     "model_module": "@jupyter-widgets/base",
     "model_module_version": "1.2.0",
     "model_name": "LayoutModel",
     "state": {
      "_model_module": "@jupyter-widgets/base",
      "_model_module_version": "1.2.0",
      "_model_name": "LayoutModel",
      "_view_count": null,
      "_view_module": "@jupyter-widgets/base",
      "_view_module_version": "1.2.0",
      "_view_name": "LayoutView",
      "align_content": null,
      "align_items": null,
      "align_self": null,
      "border": null,
      "bottom": null,
      "display": null,
      "flex": null,
      "flex_flow": null,
      "grid_area": null,
      "grid_auto_columns": null,
      "grid_auto_flow": null,
      "grid_auto_rows": null,
      "grid_column": null,
      "grid_gap": null,
      "grid_row": null,
      "grid_template_areas": null,
      "grid_template_columns": null,
      "grid_template_rows": null,
      "height": null,
      "justify_content": null,
      "justify_items": null,
      "left": null,
      "margin": null,
      "max_height": null,
      "max_width": null,
      "min_height": null,
      "min_width": null,
      "object_fit": null,
      "object_position": null,
      "order": null,
      "overflow": null,
      "overflow_x": null,
      "overflow_y": null,
      "padding": null,
      "right": null,
      "top": null,
      "visibility": null,
      "width": null
     }
    },
    "536147b20e874c8a820f2ffbfd010b5a": {
     "model_module": "@jupyter-widgets/base",
     "model_module_version": "1.2.0",
     "model_name": "LayoutModel",
     "state": {
      "_model_module": "@jupyter-widgets/base",
      "_model_module_version": "1.2.0",
      "_model_name": "LayoutModel",
      "_view_count": null,
      "_view_module": "@jupyter-widgets/base",
      "_view_module_version": "1.2.0",
      "_view_name": "LayoutView",
      "align_content": null,
      "align_items": null,
      "align_self": null,
      "border": null,
      "bottom": null,
      "display": null,
      "flex": null,
      "flex_flow": null,
      "grid_area": null,
      "grid_auto_columns": null,
      "grid_auto_flow": null,
      "grid_auto_rows": null,
      "grid_column": null,
      "grid_gap": null,
      "grid_row": null,
      "grid_template_areas": null,
      "grid_template_columns": null,
      "grid_template_rows": null,
      "height": null,
      "justify_content": null,
      "justify_items": null,
      "left": null,
      "margin": null,
      "max_height": null,
      "max_width": null,
      "min_height": null,
      "min_width": null,
      "object_fit": null,
      "object_position": null,
      "order": null,
      "overflow": null,
      "overflow_x": null,
      "overflow_y": null,
      "padding": null,
      "right": null,
      "top": null,
      "visibility": null,
      "width": null
     }
    },
    "62cc78dd0f354e4bab79b1adcbbb8d51": {
     "model_module": "@jupyter-widgets/base",
     "model_module_version": "1.2.0",
     "model_name": "LayoutModel",
     "state": {
      "_model_module": "@jupyter-widgets/base",
      "_model_module_version": "1.2.0",
      "_model_name": "LayoutModel",
      "_view_count": null,
      "_view_module": "@jupyter-widgets/base",
      "_view_module_version": "1.2.0",
      "_view_name": "LayoutView",
      "align_content": null,
      "align_items": null,
      "align_self": null,
      "border": null,
      "bottom": null,
      "display": null,
      "flex": null,
      "flex_flow": null,
      "grid_area": null,
      "grid_auto_columns": null,
      "grid_auto_flow": null,
      "grid_auto_rows": null,
      "grid_column": null,
      "grid_gap": null,
      "grid_row": null,
      "grid_template_areas": null,
      "grid_template_columns": null,
      "grid_template_rows": null,
      "height": null,
      "justify_content": null,
      "justify_items": null,
      "left": null,
      "margin": null,
      "max_height": null,
      "max_width": null,
      "min_height": null,
      "min_width": null,
      "object_fit": null,
      "object_position": null,
      "order": null,
      "overflow": null,
      "overflow_x": null,
      "overflow_y": null,
      "padding": null,
      "right": null,
      "top": null,
      "visibility": null,
      "width": null
     }
    },
    "7976f19eb8f1414e8de608ed280755a7": {
     "model_module": "@jupyter-widgets/base",
     "model_module_version": "1.2.0",
     "model_name": "LayoutModel",
     "state": {
      "_model_module": "@jupyter-widgets/base",
      "_model_module_version": "1.2.0",
      "_model_name": "LayoutModel",
      "_view_count": null,
      "_view_module": "@jupyter-widgets/base",
      "_view_module_version": "1.2.0",
      "_view_name": "LayoutView",
      "align_content": null,
      "align_items": null,
      "align_self": null,
      "border": null,
      "bottom": null,
      "display": null,
      "flex": null,
      "flex_flow": null,
      "grid_area": null,
      "grid_auto_columns": null,
      "grid_auto_flow": null,
      "grid_auto_rows": null,
      "grid_column": null,
      "grid_gap": null,
      "grid_row": null,
      "grid_template_areas": null,
      "grid_template_columns": null,
      "grid_template_rows": null,
      "height": null,
      "justify_content": null,
      "justify_items": null,
      "left": null,
      "margin": null,
      "max_height": null,
      "max_width": null,
      "min_height": null,
      "min_width": null,
      "object_fit": null,
      "object_position": null,
      "order": null,
      "overflow": null,
      "overflow_x": null,
      "overflow_y": null,
      "padding": null,
      "right": null,
      "top": null,
      "visibility": null,
      "width": null
     }
    },
    "8ab9c22f3c6b407aab7c2b20542caddf": {
     "model_module": "@jupyter-widgets/controls",
     "model_module_version": "1.5.0",
     "model_name": "HTMLModel",
     "state": {
      "_dom_classes": [],
      "_model_module": "@jupyter-widgets/controls",
      "_model_module_version": "1.5.0",
      "_model_name": "HTMLModel",
      "_view_count": null,
      "_view_module": "@jupyter-widgets/controls",
      "_view_module_version": "1.5.0",
      "_view_name": "HTMLView",
      "description": "",
      "description_tooltip": null,
      "layout": "IPY_MODEL_536147b20e874c8a820f2ffbfd010b5a",
      "placeholder": "​",
      "style": "IPY_MODEL_cbeab16ad6e344eea77e78270864e9bc",
      "value": " 50/50 [00:16&lt;00:00,  3.10it/s]"
     }
    },
    "914eff8c2fae4f248af2dd1c0ab2adec": {
     "model_module": "@jupyter-widgets/controls",
     "model_module_version": "1.5.0",
     "model_name": "HBoxModel",
     "state": {
      "_dom_classes": [],
      "_model_module": "@jupyter-widgets/controls",
      "_model_module_version": "1.5.0",
      "_model_name": "HBoxModel",
      "_view_count": null,
      "_view_module": "@jupyter-widgets/controls",
      "_view_module_version": "1.5.0",
      "_view_name": "HBoxView",
      "box_style": "",
      "children": [
       "IPY_MODEL_c90eb39b1d6e4b5ba8136df7e5480a61",
       "IPY_MODEL_b5249ba10245474e8ea18b502bebffb2",
       "IPY_MODEL_3f07d346263c40ae80952f23251b4b74"
      ],
      "layout": "IPY_MODEL_7976f19eb8f1414e8de608ed280755a7"
     }
    },
    "99446b25af0a41efb78e8347a0468bc5": {
     "model_module": "@jupyter-widgets/controls",
     "model_module_version": "1.5.0",
     "model_name": "ProgressStyleModel",
     "state": {
      "_model_module": "@jupyter-widgets/controls",
      "_model_module_version": "1.5.0",
      "_model_name": "ProgressStyleModel",
      "_view_count": null,
      "_view_module": "@jupyter-widgets/base",
      "_view_module_version": "1.2.0",
      "_view_name": "StyleView",
      "bar_color": null,
      "description_width": ""
     }
    },
    "b01c55a604c741d3838d98d412f6098e": {
     "model_module": "@jupyter-widgets/base",
     "model_module_version": "1.2.0",
     "model_name": "LayoutModel",
     "state": {
      "_model_module": "@jupyter-widgets/base",
      "_model_module_version": "1.2.0",
      "_model_name": "LayoutModel",
      "_view_count": null,
      "_view_module": "@jupyter-widgets/base",
      "_view_module_version": "1.2.0",
      "_view_name": "LayoutView",
      "align_content": null,
      "align_items": null,
      "align_self": null,
      "border": null,
      "bottom": null,
      "display": null,
      "flex": null,
      "flex_flow": null,
      "grid_area": null,
      "grid_auto_columns": null,
      "grid_auto_flow": null,
      "grid_auto_rows": null,
      "grid_column": null,
      "grid_gap": null,
      "grid_row": null,
      "grid_template_areas": null,
      "grid_template_columns": null,
      "grid_template_rows": null,
      "height": null,
      "justify_content": null,
      "justify_items": null,
      "left": null,
      "margin": null,
      "max_height": null,
      "max_width": null,
      "min_height": null,
      "min_width": null,
      "object_fit": null,
      "object_position": null,
      "order": null,
      "overflow": null,
      "overflow_x": null,
      "overflow_y": null,
      "padding": null,
      "right": null,
      "top": null,
      "visibility": null,
      "width": null
     }
    },
    "b5249ba10245474e8ea18b502bebffb2": {
=======
      "layout": "IPY_MODEL_d75ecef7757b4f6aad59f7d1c051e86d",
      "placeholder": "​",
      "style": "IPY_MODEL_288e240bc19c41ba99d4850e7a69b84f",
      "value": "100%"
     }
    },
    "0e0c8c9905914f96a2343ce8511a23e2": {
>>>>>>> Stashed changes
     "model_module": "@jupyter-widgets/controls",
     "model_module_version": "1.5.0",
     "model_name": "FloatProgressModel",
     "state": {
      "_dom_classes": [],
      "_model_module": "@jupyter-widgets/controls",
      "_model_module_version": "1.5.0",
      "_model_name": "FloatProgressModel",
      "_view_count": null,
      "_view_module": "@jupyter-widgets/controls",
      "_view_module_version": "1.5.0",
      "_view_name": "ProgressView",
      "bar_style": "success",
      "description": "",
      "description_tooltip": null,
<<<<<<< Updated upstream
      "layout": "IPY_MODEL_4bfe0903581b4ca999017a19607380d5",
      "max": 49,
      "min": 0,
      "orientation": "horizontal",
      "style": "IPY_MODEL_ef2b2ce93832431aac24fdb8dcbaf7f2",
      "value": 49
     }
    },
    "bbb549238aca44c0bcc7b41a4e0516d4": {
     "model_module": "@jupyter-widgets/base",
     "model_module_version": "1.2.0",
     "model_name": "LayoutModel",
     "state": {
      "_model_module": "@jupyter-widgets/base",
      "_model_module_version": "1.2.0",
      "_model_name": "LayoutModel",
      "_view_count": null,
      "_view_module": "@jupyter-widgets/base",
      "_view_module_version": "1.2.0",
      "_view_name": "LayoutView",
      "align_content": null,
      "align_items": null,
      "align_self": null,
      "border": null,
      "bottom": null,
      "display": null,
      "flex": null,
      "flex_flow": null,
      "grid_area": null,
      "grid_auto_columns": null,
      "grid_auto_flow": null,
      "grid_auto_rows": null,
      "grid_column": null,
      "grid_gap": null,
      "grid_row": null,
      "grid_template_areas": null,
      "grid_template_columns": null,
      "grid_template_rows": null,
      "height": null,
      "justify_content": null,
      "justify_items": null,
      "left": null,
      "margin": null,
      "max_height": null,
      "max_width": null,
      "min_height": null,
      "min_width": null,
      "object_fit": null,
      "object_position": null,
      "order": null,
      "overflow": null,
      "overflow_x": null,
      "overflow_y": null,
      "padding": null,
      "right": null,
      "top": null,
      "visibility": null,
      "width": null
     }
    },
    "c90eb39b1d6e4b5ba8136df7e5480a61": {
     "model_module": "@jupyter-widgets/controls",
     "model_module_version": "1.5.0",
     "model_name": "HTMLModel",
     "state": {
      "_dom_classes": [],
      "_model_module": "@jupyter-widgets/controls",
      "_model_module_version": "1.5.0",
      "_model_name": "HTMLModel",
      "_view_count": null,
      "_view_module": "@jupyter-widgets/controls",
      "_view_module_version": "1.5.0",
      "_view_name": "HTMLView",
      "description": "",
      "description_tooltip": null,
      "layout": "IPY_MODEL_d23639c2608d4c4bbbb58fbeeff6c934",
      "placeholder": "​",
      "style": "IPY_MODEL_164fc49ebc3b466f9b4c25260637210a",
      "value": "100%"
     }
    },
    "cbeab16ad6e344eea77e78270864e9bc": {
     "model_module": "@jupyter-widgets/controls",
     "model_module_version": "1.5.0",
     "model_name": "DescriptionStyleModel",
     "state": {
      "_model_module": "@jupyter-widgets/controls",
      "_model_module_version": "1.5.0",
      "_model_name": "DescriptionStyleModel",
      "_view_count": null,
      "_view_module": "@jupyter-widgets/base",
      "_view_module_version": "1.2.0",
      "_view_name": "StyleView",
      "description_width": ""
     }
    },
    "d19e4dface4c4701a08ac745a31b8225": {
     "model_module": "@jupyter-widgets/base",
     "model_module_version": "1.2.0",
     "model_name": "LayoutModel",
     "state": {
      "_model_module": "@jupyter-widgets/base",
      "_model_module_version": "1.2.0",
      "_model_name": "LayoutModel",
      "_view_count": null,
      "_view_module": "@jupyter-widgets/base",
      "_view_module_version": "1.2.0",
      "_view_name": "LayoutView",
      "align_content": null,
      "align_items": null,
      "align_self": null,
      "border": null,
      "bottom": null,
      "display": null,
      "flex": null,
      "flex_flow": null,
      "grid_area": null,
      "grid_auto_columns": null,
      "grid_auto_flow": null,
      "grid_auto_rows": null,
      "grid_column": null,
      "grid_gap": null,
      "grid_row": null,
      "grid_template_areas": null,
      "grid_template_columns": null,
      "grid_template_rows": null,
      "height": null,
      "justify_content": null,
      "justify_items": null,
      "left": null,
      "margin": null,
      "max_height": null,
      "max_width": null,
      "min_height": null,
      "min_width": null,
      "object_fit": null,
      "object_position": null,
      "order": null,
      "overflow": null,
      "overflow_x": null,
      "overflow_y": null,
      "padding": null,
      "right": null,
      "top": null,
      "visibility": null,
      "width": null
     }
    },
    "d23639c2608d4c4bbbb58fbeeff6c934": {
     "model_module": "@jupyter-widgets/base",
     "model_module_version": "1.2.0",
     "model_name": "LayoutModel",
     "state": {
      "_model_module": "@jupyter-widgets/base",
      "_model_module_version": "1.2.0",
      "_model_name": "LayoutModel",
      "_view_count": null,
      "_view_module": "@jupyter-widgets/base",
      "_view_module_version": "1.2.0",
      "_view_name": "LayoutView",
      "align_content": null,
      "align_items": null,
      "align_self": null,
      "border": null,
      "bottom": null,
      "display": null,
      "flex": null,
      "flex_flow": null,
      "grid_area": null,
      "grid_auto_columns": null,
      "grid_auto_flow": null,
      "grid_auto_rows": null,
      "grid_column": null,
      "grid_gap": null,
      "grid_row": null,
      "grid_template_areas": null,
      "grid_template_columns": null,
      "grid_template_rows": null,
      "height": null,
      "justify_content": null,
      "justify_items": null,
      "left": null,
      "margin": null,
      "max_height": null,
      "max_width": null,
      "min_height": null,
      "min_width": null,
      "object_fit": null,
      "object_position": null,
      "order": null,
      "overflow": null,
      "overflow_x": null,
      "overflow_y": null,
      "padding": null,
      "right": null,
      "top": null,
      "visibility": null,
      "width": null
     }
    },
    "da3943a1533d48339cc99add56f296ec": {
     "model_module": "@jupyter-widgets/controls",
     "model_module_version": "1.5.0",
     "model_name": "FloatProgressModel",
     "state": {
      "_dom_classes": [],
      "_model_module": "@jupyter-widgets/controls",
      "_model_module_version": "1.5.0",
      "_model_name": "FloatProgressModel",
      "_view_count": null,
      "_view_module": "@jupyter-widgets/controls",
      "_view_module_version": "1.5.0",
      "_view_name": "ProgressView",
      "bar_style": "success",
      "description": "",
      "description_tooltip": null,
      "layout": "IPY_MODEL_b01c55a604c741d3838d98d412f6098e",
      "max": 50,
      "min": 0,
      "orientation": "horizontal",
      "style": "IPY_MODEL_99446b25af0a41efb78e8347a0468bc5",
      "value": 50
     }
    },
    "ef2b2ce93832431aac24fdb8dcbaf7f2": {
=======
      "layout": "IPY_MODEL_13348e496931439f95d06faa9654b397",
      "max": 50,
      "min": 0,
      "orientation": "horizontal",
      "style": "IPY_MODEL_2bc76da6df8c4d81b66149679231b90c",
      "value": 50
     }
    },
    "12cd20c72a5e4f8f87936782590b5a39": {
     "model_module": "@jupyter-widgets/base",
     "model_module_version": "1.2.0",
     "model_name": "LayoutModel",
     "state": {
      "_model_module": "@jupyter-widgets/base",
      "_model_module_version": "1.2.0",
      "_model_name": "LayoutModel",
      "_view_count": null,
      "_view_module": "@jupyter-widgets/base",
      "_view_module_version": "1.2.0",
      "_view_name": "LayoutView",
      "align_content": null,
      "align_items": null,
      "align_self": null,
      "border": null,
      "bottom": null,
      "display": null,
      "flex": null,
      "flex_flow": null,
      "grid_area": null,
      "grid_auto_columns": null,
      "grid_auto_flow": null,
      "grid_auto_rows": null,
      "grid_column": null,
      "grid_gap": null,
      "grid_row": null,
      "grid_template_areas": null,
      "grid_template_columns": null,
      "grid_template_rows": null,
      "height": null,
      "justify_content": null,
      "justify_items": null,
      "left": null,
      "margin": null,
      "max_height": null,
      "max_width": null,
      "min_height": null,
      "min_width": null,
      "object_fit": null,
      "object_position": null,
      "order": null,
      "overflow": null,
      "overflow_x": null,
      "overflow_y": null,
      "padding": null,
      "right": null,
      "top": null,
      "visibility": null,
      "width": null
     }
    },
    "13348e496931439f95d06faa9654b397": {
     "model_module": "@jupyter-widgets/base",
     "model_module_version": "1.2.0",
     "model_name": "LayoutModel",
     "state": {
      "_model_module": "@jupyter-widgets/base",
      "_model_module_version": "1.2.0",
      "_model_name": "LayoutModel",
      "_view_count": null,
      "_view_module": "@jupyter-widgets/base",
      "_view_module_version": "1.2.0",
      "_view_name": "LayoutView",
      "align_content": null,
      "align_items": null,
      "align_self": null,
      "border": null,
      "bottom": null,
      "display": null,
      "flex": null,
      "flex_flow": null,
      "grid_area": null,
      "grid_auto_columns": null,
      "grid_auto_flow": null,
      "grid_auto_rows": null,
      "grid_column": null,
      "grid_gap": null,
      "grid_row": null,
      "grid_template_areas": null,
      "grid_template_columns": null,
      "grid_template_rows": null,
      "height": null,
      "justify_content": null,
      "justify_items": null,
      "left": null,
      "margin": null,
      "max_height": null,
      "max_width": null,
      "min_height": null,
      "min_width": null,
      "object_fit": null,
      "object_position": null,
      "order": null,
      "overflow": null,
      "overflow_x": null,
      "overflow_y": null,
      "padding": null,
      "right": null,
      "top": null,
      "visibility": null,
      "width": null
     }
    },
    "23b576509e534df08f443e5b7d1094e1": {
     "model_module": "@jupyter-widgets/controls",
     "model_module_version": "1.5.0",
     "model_name": "DescriptionStyleModel",
     "state": {
      "_model_module": "@jupyter-widgets/controls",
      "_model_module_version": "1.5.0",
      "_model_name": "DescriptionStyleModel",
      "_view_count": null,
      "_view_module": "@jupyter-widgets/base",
      "_view_module_version": "1.2.0",
      "_view_name": "StyleView",
      "description_width": ""
     }
    },
    "2844a934e25846eab5d7e30aba66812b": {
     "model_module": "@jupyter-widgets/base",
     "model_module_version": "1.2.0",
     "model_name": "LayoutModel",
     "state": {
      "_model_module": "@jupyter-widgets/base",
      "_model_module_version": "1.2.0",
      "_model_name": "LayoutModel",
      "_view_count": null,
      "_view_module": "@jupyter-widgets/base",
      "_view_module_version": "1.2.0",
      "_view_name": "LayoutView",
      "align_content": null,
      "align_items": null,
      "align_self": null,
      "border": null,
      "bottom": null,
      "display": null,
      "flex": null,
      "flex_flow": null,
      "grid_area": null,
      "grid_auto_columns": null,
      "grid_auto_flow": null,
      "grid_auto_rows": null,
      "grid_column": null,
      "grid_gap": null,
      "grid_row": null,
      "grid_template_areas": null,
      "grid_template_columns": null,
      "grid_template_rows": null,
      "height": null,
      "justify_content": null,
      "justify_items": null,
      "left": null,
      "margin": null,
      "max_height": null,
      "max_width": null,
      "min_height": null,
      "min_width": null,
      "object_fit": null,
      "object_position": null,
      "order": null,
      "overflow": null,
      "overflow_x": null,
      "overflow_y": null,
      "padding": null,
      "right": null,
      "top": null,
      "visibility": null,
      "width": null
     }
    },
    "288e240bc19c41ba99d4850e7a69b84f": {
     "model_module": "@jupyter-widgets/controls",
     "model_module_version": "1.5.0",
     "model_name": "DescriptionStyleModel",
     "state": {
      "_model_module": "@jupyter-widgets/controls",
      "_model_module_version": "1.5.0",
      "_model_name": "DescriptionStyleModel",
      "_view_count": null,
      "_view_module": "@jupyter-widgets/base",
      "_view_module_version": "1.2.0",
      "_view_name": "StyleView",
      "description_width": ""
     }
    },
    "2bc76da6df8c4d81b66149679231b90c": {
>>>>>>> Stashed changes
     "model_module": "@jupyter-widgets/controls",
     "model_module_version": "1.5.0",
     "model_name": "ProgressStyleModel",
     "state": {
      "_model_module": "@jupyter-widgets/controls",
      "_model_module_version": "1.5.0",
      "_model_name": "ProgressStyleModel",
      "_view_count": null,
      "_view_module": "@jupyter-widgets/base",
      "_view_module_version": "1.2.0",
      "_view_name": "StyleView",
      "bar_color": null,
      "description_width": ""
     }
<<<<<<< Updated upstream
=======
    },
    "33ec3238cdfd407089f2e7119fd5ee25": {
     "model_module": "@jupyter-widgets/base",
     "model_module_version": "1.2.0",
     "model_name": "LayoutModel",
     "state": {
      "_model_module": "@jupyter-widgets/base",
      "_model_module_version": "1.2.0",
      "_model_name": "LayoutModel",
      "_view_count": null,
      "_view_module": "@jupyter-widgets/base",
      "_view_module_version": "1.2.0",
      "_view_name": "LayoutView",
      "align_content": null,
      "align_items": null,
      "align_self": null,
      "border": null,
      "bottom": null,
      "display": null,
      "flex": null,
      "flex_flow": null,
      "grid_area": null,
      "grid_auto_columns": null,
      "grid_auto_flow": null,
      "grid_auto_rows": null,
      "grid_column": null,
      "grid_gap": null,
      "grid_row": null,
      "grid_template_areas": null,
      "grid_template_columns": null,
      "grid_template_rows": null,
      "height": null,
      "justify_content": null,
      "justify_items": null,
      "left": null,
      "margin": null,
      "max_height": null,
      "max_width": null,
      "min_height": null,
      "min_width": null,
      "object_fit": null,
      "object_position": null,
      "order": null,
      "overflow": null,
      "overflow_x": null,
      "overflow_y": null,
      "padding": null,
      "right": null,
      "top": null,
      "visibility": null,
      "width": null
     }
    },
    "3c01401e8d2840108643b1c8a9ccdbbf": {
     "model_module": "@jupyter-widgets/controls",
     "model_module_version": "1.5.0",
     "model_name": "HTMLModel",
     "state": {
      "_dom_classes": [],
      "_model_module": "@jupyter-widgets/controls",
      "_model_module_version": "1.5.0",
      "_model_name": "HTMLModel",
      "_view_count": null,
      "_view_module": "@jupyter-widgets/controls",
      "_view_module_version": "1.5.0",
      "_view_name": "HTMLView",
      "description": "",
      "description_tooltip": null,
      "layout": "IPY_MODEL_12cd20c72a5e4f8f87936782590b5a39",
      "placeholder": "​",
      "style": "IPY_MODEL_23b576509e534df08f443e5b7d1094e1",
      "value": "100%"
     }
    },
    "5adbccfdcdc94958996b2c665c407b91": {
     "model_module": "@jupyter-widgets/controls",
     "model_module_version": "1.5.0",
     "model_name": "DescriptionStyleModel",
     "state": {
      "_model_module": "@jupyter-widgets/controls",
      "_model_module_version": "1.5.0",
      "_model_name": "DescriptionStyleModel",
      "_view_count": null,
      "_view_module": "@jupyter-widgets/base",
      "_view_module_version": "1.2.0",
      "_view_name": "StyleView",
      "description_width": ""
     }
    },
    "5bf819d878114c2cb0716e0fd7a2f560": {
     "model_module": "@jupyter-widgets/controls",
     "model_module_version": "1.5.0",
     "model_name": "DescriptionStyleModel",
     "state": {
      "_model_module": "@jupyter-widgets/controls",
      "_model_module_version": "1.5.0",
      "_model_name": "DescriptionStyleModel",
      "_view_count": null,
      "_view_module": "@jupyter-widgets/base",
      "_view_module_version": "1.2.0",
      "_view_name": "StyleView",
      "description_width": ""
     }
    },
    "69ca926a2c9f43cf8924e37bd0b877c7": {
     "model_module": "@jupyter-widgets/controls",
     "model_module_version": "1.5.0",
     "model_name": "HBoxModel",
     "state": {
      "_dom_classes": [],
      "_model_module": "@jupyter-widgets/controls",
      "_model_module_version": "1.5.0",
      "_model_name": "HBoxModel",
      "_view_count": null,
      "_view_module": "@jupyter-widgets/controls",
      "_view_module_version": "1.5.0",
      "_view_name": "HBoxView",
      "box_style": "",
      "children": [
       "IPY_MODEL_3c01401e8d2840108643b1c8a9ccdbbf",
       "IPY_MODEL_70cfb205e4a247e7a31ab0c7cd74deaa",
       "IPY_MODEL_79316a813a7144b2945174b1035bb942"
      ],
      "layout": "IPY_MODEL_f58809a73ad148509fea882e38195b3b"
     }
    },
    "70cfb205e4a247e7a31ab0c7cd74deaa": {
     "model_module": "@jupyter-widgets/controls",
     "model_module_version": "1.5.0",
     "model_name": "FloatProgressModel",
     "state": {
      "_dom_classes": [],
      "_model_module": "@jupyter-widgets/controls",
      "_model_module_version": "1.5.0",
      "_model_name": "FloatProgressModel",
      "_view_count": null,
      "_view_module": "@jupyter-widgets/controls",
      "_view_module_version": "1.5.0",
      "_view_name": "ProgressView",
      "bar_style": "success",
      "description": "",
      "description_tooltip": null,
      "layout": "IPY_MODEL_2844a934e25846eab5d7e30aba66812b",
      "max": 49,
      "min": 0,
      "orientation": "horizontal",
      "style": "IPY_MODEL_ef0f8e04520f49ba880b1c735d7c44a7",
      "value": 49
     }
    },
    "79316a813a7144b2945174b1035bb942": {
     "model_module": "@jupyter-widgets/controls",
     "model_module_version": "1.5.0",
     "model_name": "HTMLModel",
     "state": {
      "_dom_classes": [],
      "_model_module": "@jupyter-widgets/controls",
      "_model_module_version": "1.5.0",
      "_model_name": "HTMLModel",
      "_view_count": null,
      "_view_module": "@jupyter-widgets/controls",
      "_view_module_version": "1.5.0",
      "_view_name": "HTMLView",
      "description": "",
      "description_tooltip": null,
      "layout": "IPY_MODEL_33ec3238cdfd407089f2e7119fd5ee25",
      "placeholder": "​",
      "style": "IPY_MODEL_5bf819d878114c2cb0716e0fd7a2f560",
      "value": " 49/49 [02:37&lt;00:00,  3.89s/it]"
     }
    },
    "9ca9f5f78d1542838c3f70ed43b67fc5": {
     "model_module": "@jupyter-widgets/base",
     "model_module_version": "1.2.0",
     "model_name": "LayoutModel",
     "state": {
      "_model_module": "@jupyter-widgets/base",
      "_model_module_version": "1.2.0",
      "_model_name": "LayoutModel",
      "_view_count": null,
      "_view_module": "@jupyter-widgets/base",
      "_view_module_version": "1.2.0",
      "_view_name": "LayoutView",
      "align_content": null,
      "align_items": null,
      "align_self": null,
      "border": null,
      "bottom": null,
      "display": null,
      "flex": null,
      "flex_flow": null,
      "grid_area": null,
      "grid_auto_columns": null,
      "grid_auto_flow": null,
      "grid_auto_rows": null,
      "grid_column": null,
      "grid_gap": null,
      "grid_row": null,
      "grid_template_areas": null,
      "grid_template_columns": null,
      "grid_template_rows": null,
      "height": null,
      "justify_content": null,
      "justify_items": null,
      "left": null,
      "margin": null,
      "max_height": null,
      "max_width": null,
      "min_height": null,
      "min_width": null,
      "object_fit": null,
      "object_position": null,
      "order": null,
      "overflow": null,
      "overflow_x": null,
      "overflow_y": null,
      "padding": null,
      "right": null,
      "top": null,
      "visibility": null,
      "width": null
     }
    },
    "aaad2ac2b97a49a995318db161eb7e8c": {
     "model_module": "@jupyter-widgets/controls",
     "model_module_version": "1.5.0",
     "model_name": "HBoxModel",
     "state": {
      "_dom_classes": [],
      "_model_module": "@jupyter-widgets/controls",
      "_model_module_version": "1.5.0",
      "_model_name": "HBoxModel",
      "_view_count": null,
      "_view_module": "@jupyter-widgets/controls",
      "_view_module_version": "1.5.0",
      "_view_name": "HBoxView",
      "box_style": "",
      "children": [
       "IPY_MODEL_0de6090b275f41d392e39125417371a0",
       "IPY_MODEL_0e0c8c9905914f96a2343ce8511a23e2",
       "IPY_MODEL_c08dec14f83a4a53bc6dfa4bc546f3cd"
      ],
      "layout": "IPY_MODEL_b9f5da16afc7479a9c8476e8ea530fe4"
     }
    },
    "b9f5da16afc7479a9c8476e8ea530fe4": {
     "model_module": "@jupyter-widgets/base",
     "model_module_version": "1.2.0",
     "model_name": "LayoutModel",
     "state": {
      "_model_module": "@jupyter-widgets/base",
      "_model_module_version": "1.2.0",
      "_model_name": "LayoutModel",
      "_view_count": null,
      "_view_module": "@jupyter-widgets/base",
      "_view_module_version": "1.2.0",
      "_view_name": "LayoutView",
      "align_content": null,
      "align_items": null,
      "align_self": null,
      "border": null,
      "bottom": null,
      "display": null,
      "flex": null,
      "flex_flow": null,
      "grid_area": null,
      "grid_auto_columns": null,
      "grid_auto_flow": null,
      "grid_auto_rows": null,
      "grid_column": null,
      "grid_gap": null,
      "grid_row": null,
      "grid_template_areas": null,
      "grid_template_columns": null,
      "grid_template_rows": null,
      "height": null,
      "justify_content": null,
      "justify_items": null,
      "left": null,
      "margin": null,
      "max_height": null,
      "max_width": null,
      "min_height": null,
      "min_width": null,
      "object_fit": null,
      "object_position": null,
      "order": null,
      "overflow": null,
      "overflow_x": null,
      "overflow_y": null,
      "padding": null,
      "right": null,
      "top": null,
      "visibility": null,
      "width": null
     }
    },
    "c08dec14f83a4a53bc6dfa4bc546f3cd": {
     "model_module": "@jupyter-widgets/controls",
     "model_module_version": "1.5.0",
     "model_name": "HTMLModel",
     "state": {
      "_dom_classes": [],
      "_model_module": "@jupyter-widgets/controls",
      "_model_module_version": "1.5.0",
      "_model_name": "HTMLModel",
      "_view_count": null,
      "_view_module": "@jupyter-widgets/controls",
      "_view_module_version": "1.5.0",
      "_view_name": "HTMLView",
      "description": "",
      "description_tooltip": null,
      "layout": "IPY_MODEL_9ca9f5f78d1542838c3f70ed43b67fc5",
      "placeholder": "​",
      "style": "IPY_MODEL_5adbccfdcdc94958996b2c665c407b91",
      "value": " 50/50 [00:20&lt;00:00,  2.20it/s]"
     }
    },
    "d75ecef7757b4f6aad59f7d1c051e86d": {
     "model_module": "@jupyter-widgets/base",
     "model_module_version": "1.2.0",
     "model_name": "LayoutModel",
     "state": {
      "_model_module": "@jupyter-widgets/base",
      "_model_module_version": "1.2.0",
      "_model_name": "LayoutModel",
      "_view_count": null,
      "_view_module": "@jupyter-widgets/base",
      "_view_module_version": "1.2.0",
      "_view_name": "LayoutView",
      "align_content": null,
      "align_items": null,
      "align_self": null,
      "border": null,
      "bottom": null,
      "display": null,
      "flex": null,
      "flex_flow": null,
      "grid_area": null,
      "grid_auto_columns": null,
      "grid_auto_flow": null,
      "grid_auto_rows": null,
      "grid_column": null,
      "grid_gap": null,
      "grid_row": null,
      "grid_template_areas": null,
      "grid_template_columns": null,
      "grid_template_rows": null,
      "height": null,
      "justify_content": null,
      "justify_items": null,
      "left": null,
      "margin": null,
      "max_height": null,
      "max_width": null,
      "min_height": null,
      "min_width": null,
      "object_fit": null,
      "object_position": null,
      "order": null,
      "overflow": null,
      "overflow_x": null,
      "overflow_y": null,
      "padding": null,
      "right": null,
      "top": null,
      "visibility": null,
      "width": null
     }
    },
    "ef0f8e04520f49ba880b1c735d7c44a7": {
     "model_module": "@jupyter-widgets/controls",
     "model_module_version": "1.5.0",
     "model_name": "ProgressStyleModel",
     "state": {
      "_model_module": "@jupyter-widgets/controls",
      "_model_module_version": "1.5.0",
      "_model_name": "ProgressStyleModel",
      "_view_count": null,
      "_view_module": "@jupyter-widgets/base",
      "_view_module_version": "1.2.0",
      "_view_name": "StyleView",
      "bar_color": null,
      "description_width": ""
     }
    },
    "f58809a73ad148509fea882e38195b3b": {
     "model_module": "@jupyter-widgets/base",
     "model_module_version": "1.2.0",
     "model_name": "LayoutModel",
     "state": {
      "_model_module": "@jupyter-widgets/base",
      "_model_module_version": "1.2.0",
      "_model_name": "LayoutModel",
      "_view_count": null,
      "_view_module": "@jupyter-widgets/base",
      "_view_module_version": "1.2.0",
      "_view_name": "LayoutView",
      "align_content": null,
      "align_items": null,
      "align_self": null,
      "border": null,
      "bottom": null,
      "display": null,
      "flex": null,
      "flex_flow": null,
      "grid_area": null,
      "grid_auto_columns": null,
      "grid_auto_flow": null,
      "grid_auto_rows": null,
      "grid_column": null,
      "grid_gap": null,
      "grid_row": null,
      "grid_template_areas": null,
      "grid_template_columns": null,
      "grid_template_rows": null,
      "height": null,
      "justify_content": null,
      "justify_items": null,
      "left": null,
      "margin": null,
      "max_height": null,
      "max_width": null,
      "min_height": null,
      "min_width": null,
      "object_fit": null,
      "object_position": null,
      "order": null,
      "overflow": null,
      "overflow_x": null,
      "overflow_y": null,
      "padding": null,
      "right": null,
      "top": null,
      "visibility": null,
      "width": null
     }
>>>>>>> Stashed changes
    }
   }
  }
 },
 "nbformat": 4,
 "nbformat_minor": 1
}
