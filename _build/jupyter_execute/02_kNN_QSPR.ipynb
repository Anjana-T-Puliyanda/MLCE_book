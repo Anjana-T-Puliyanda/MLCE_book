{
 "cells": [
  {
   "cell_type": "markdown",
   "metadata": {
    "id": "YMiI5CDX5JZ0"
   },
   "source": [
    "# 2. kNN for (Q)SPR modeling ⚛️\n",
    "\n",
    "<a href=\"https://githubtocolab.com/edgarsmdn/MLCE_book/blob/main/02_kNN_QSPR.ipynb\" target=\"_parent\"><img src=\"https://colab.research.google.com/assets/colab-badge.svg\" alt=\"Open in Colab\"/></a>"
   ]
  },
  {
   "cell_type": "markdown",
   "metadata": {
    "id": "dlaMhdbLXofj"
   },
   "source": [
    "## Goals of this exercise 🌟"
   ]
  },
  {
   "cell_type": "markdown",
   "metadata": {
    "id": "YCWB0IvbXp4O"
   },
   "source": [
    "*   We will learn how to construct a simple SPR model using kNN\n",
    "*   We will learn the importance of data normalization (scaling)\n",
    "*   We will review the concepts of training and test split and cross-validation\n",
    "*   We will review some of the performance metrics for assesing classification models"
   ]
  },
  {
   "cell_type": "markdown",
   "metadata": {
    "id": "XI_fHNSEYck6"
   },
   "source": [
    "## A quick reminder ✅"
   ]
  },
  {
   "cell_type": "markdown",
   "metadata": {
    "id": "8wst0cbF39zU"
   },
   "source": [
    "Probably the simplest data-driven model that you can think of is K-nearest neighbours (kNN). It simply predicts future data as the average (or mode) of the \"k\" nearest neighbours of the queried point.\n",
    "\n",
    "As simple as this idea might be, it works relatively good in various applications. One of them is the generation of (quantitative) structure-property relationships ((Q)SPR) models {cite}`yuan2019developing, shen2003development`. Whether the word \"Quantitative\" is sometimes included or not depends on whether the model in question is a regression model or a classification model. Do you remember the difference?\n",
    "\n",
    "The key question in kNN is what do we consider a neighbour and what not? This indicates us that we need to define a sort of similarity or distance metric that allows us to distinguish neighbouring points from points that are far away. \n",
    "\n",
    "Common distance metrics use the different [mathematical norms](https://en.wikipedia.org/wiki/Norm_(mathematics)). For example, the Euclidean distance:\n",
    "\n",
    "$$\n",
    " d(\\textbf{x}, \\textbf{x'}) = \\sqrt{\\sum_i^D (x_i - x'_i)^2}\n",
    "$$\n",
    "\n",
    "```{figure} media/02_kNN/kNN.png\n",
    ":alt: kNN\n",
    ":width: 60%\n",
    ":align: center\n",
    "\n",
    "Among the k-nearest neighbours (k=5), the majority of points are red 1s. Therefore, the queried point (green x) will be labeled as \"red 1\". Image taken from {cite}`murphy2022probabilistic`. \n",
    "```\n",
    "\n",
    "\n"
   ]
  },
  {
   "cell_type": "markdown",
   "metadata": {
    "id": "1sWnwvt_FjQa"
   },
   "source": [
    "Let's exemplify the use of kNN by constructing a SPR model that predicts the whether a molecule is mutagenic or not. \n",
    "\n",
    "Mutagenicity is the property of substances to induce genetic mutation. It is one of the most important environmental, health and safety (EHS) properties to check when dealing with novel chemicals (e.g., drugs or solvents). In this case, we are going to use the data of mutagenicity on Salmonella typhimurium (Ames test). This dataset was collected by the [Istituto di Ricerche Farmacologiche Mario Negri](https://www.marionegri.it/), merging experimental data from a benchmark dataset\n",
    "compiled by {cite}`hansen2009benchmark` from a collection of data made available\n",
    "by the [Japan Health Ministry](https://www.nihs.go.jp/dgm/amesqsar.html) within their Ames (Q)SAR project."
   ]
  },
  {
   "cell_type": "markdown",
   "metadata": {
    "id": "R9-iQHe-XZm6"
   },
   "source": [
    "Let's fist import some libraries"
   ]
  },
  {
   "cell_type": "code",
   "execution_count": 1,
   "metadata": {
    "id": "V3C3ZNc8XjsA"
   },
   "outputs": [],
   "source": [
    "import pandas as pd\n",
    "import matplotlib.pyplot as plt\n",
    "import numpy as np"
   ]
  },
  {
   "cell_type": "markdown",
   "metadata": {
    "id": "oWmicwjH5Ksm"
   },
   "source": [
    "## Get data 📚\n",
    "\n",
    "We have previously computed some molecular descriptors that will serve as input to our model. However, this is also an important step to consider when facing a problem like this: what are the important inputs to model mutagenicity? how do we know if these pre-computed features are enough for modeling mutagenicity? can we generate relevant molecular features automatically? 🤔\n",
    "\n",
    "Ok, let's use [pandas](https://pandas.pydata.org/) to import the data as a DataFrame..."
   ]
  },
  {
   "cell_type": "code",
   "execution_count": 2,
   "metadata": {
    "colab": {
     "base_uri": "https://localhost:8080/",
     "height": 679
    },
    "id": "vn-yAIhU5ILt",
    "outputId": "02d76c03-10c3-4b01-fa93-abe17faefd80"
   },
   "outputs": [
    {
     "data": {
      "text/html": [
       "<div>\n",
       "<style scoped>\n",
       "    .dataframe tbody tr th:only-of-type {\n",
       "        vertical-align: middle;\n",
       "    }\n",
       "\n",
       "    .dataframe tbody tr th {\n",
       "        vertical-align: top;\n",
       "    }\n",
       "\n",
       "    .dataframe thead th {\n",
       "        text-align: right;\n",
       "    }\n",
       "</style>\n",
       "<table border=\"1\" class=\"dataframe\">\n",
       "  <thead>\n",
       "    <tr style=\"text-align: right;\">\n",
       "      <th></th>\n",
       "      <th>Unnamed: 0</th>\n",
       "      <th>Id</th>\n",
       "      <th>CAS</th>\n",
       "      <th>SMILES</th>\n",
       "      <th>Status</th>\n",
       "      <th>Experimental value</th>\n",
       "      <th>Predicted value</th>\n",
       "      <th>NumValenceElectrons</th>\n",
       "      <th>qed</th>\n",
       "      <th>TPSA</th>\n",
       "      <th>MolMR</th>\n",
       "      <th>BalabanJ</th>\n",
       "      <th>BertzCT</th>\n",
       "      <th>MolWt</th>\n",
       "      <th>MolLogP</th>\n",
       "    </tr>\n",
       "  </thead>\n",
       "  <tbody>\n",
       "    <tr>\n",
       "      <th>0</th>\n",
       "      <td>0</td>\n",
       "      <td>1</td>\n",
       "      <td>100-00-5</td>\n",
       "      <td>O=[N+]([O-])c1ccc(cc1)Cl</td>\n",
       "      <td>Training</td>\n",
       "      <td>1</td>\n",
       "      <td>1</td>\n",
       "      <td>52</td>\n",
       "      <td>0.463602</td>\n",
       "      <td>43.14</td>\n",
       "      <td>38.1064</td>\n",
       "      <td>3.003401</td>\n",
       "      <td>244.429658</td>\n",
       "      <td>157.556</td>\n",
       "      <td>2.24820</td>\n",
       "    </tr>\n",
       "    <tr>\n",
       "      <th>1</th>\n",
       "      <td>1</td>\n",
       "      <td>2</td>\n",
       "      <td>100-01-6</td>\n",
       "      <td>O=[N+]([O-])c1ccc(N)cc1</td>\n",
       "      <td>Training</td>\n",
       "      <td>1</td>\n",
       "      <td>1</td>\n",
       "      <td>52</td>\n",
       "      <td>0.359544</td>\n",
       "      <td>69.16</td>\n",
       "      <td>37.5088</td>\n",
       "      <td>3.003401</td>\n",
       "      <td>242.429658</td>\n",
       "      <td>138.126</td>\n",
       "      <td>1.17700</td>\n",
       "    </tr>\n",
       "    <tr>\n",
       "      <th>2</th>\n",
       "      <td>2</td>\n",
       "      <td>3</td>\n",
       "      <td>100-02-7</td>\n",
       "      <td>O=[N+]([O-])c1ccc(O)cc1</td>\n",
       "      <td>Training</td>\n",
       "      <td>0</td>\n",
       "      <td>1</td>\n",
       "      <td>52</td>\n",
       "      <td>0.470728</td>\n",
       "      <td>63.37</td>\n",
       "      <td>34.7612</td>\n",
       "      <td>3.003401</td>\n",
       "      <td>241.674771</td>\n",
       "      <td>139.110</td>\n",
       "      <td>1.30040</td>\n",
       "    </tr>\n",
       "    <tr>\n",
       "      <th>3</th>\n",
       "      <td>3</td>\n",
       "      <td>4</td>\n",
       "      <td>100-11-8</td>\n",
       "      <td>O=[N+]([O-])c1ccc(cc1)CBr</td>\n",
       "      <td>Training</td>\n",
       "      <td>1</td>\n",
       "      <td>0</td>\n",
       "      <td>58</td>\n",
       "      <td>0.432586</td>\n",
       "      <td>43.14</td>\n",
       "      <td>45.7274</td>\n",
       "      <td>2.913802</td>\n",
       "      <td>257.648013</td>\n",
       "      <td>216.034</td>\n",
       "      <td>2.48970</td>\n",
       "    </tr>\n",
       "    <tr>\n",
       "      <th>4</th>\n",
       "      <td>4</td>\n",
       "      <td>5</td>\n",
       "      <td>100-12-9</td>\n",
       "      <td>O=[N+]([O-])c1ccc(cc1)CC</td>\n",
       "      <td>Training</td>\n",
       "      <td>0</td>\n",
       "      <td>0</td>\n",
       "      <td>58</td>\n",
       "      <td>0.479785</td>\n",
       "      <td>43.14</td>\n",
       "      <td>42.4744</td>\n",
       "      <td>2.913802</td>\n",
       "      <td>253.299498</td>\n",
       "      <td>151.165</td>\n",
       "      <td>2.15720</td>\n",
       "    </tr>\n",
       "    <tr>\n",
       "      <th>...</th>\n",
       "      <td>...</td>\n",
       "      <td>...</td>\n",
       "      <td>...</td>\n",
       "      <td>...</td>\n",
       "      <td>...</td>\n",
       "      <td>...</td>\n",
       "      <td>...</td>\n",
       "      <td>...</td>\n",
       "      <td>...</td>\n",
       "      <td>...</td>\n",
       "      <td>...</td>\n",
       "      <td>...</td>\n",
       "      <td>...</td>\n",
       "      <td>...</td>\n",
       "      <td>...</td>\n",
       "    </tr>\n",
       "    <tr>\n",
       "      <th>5759</th>\n",
       "      <td>5759</td>\n",
       "      <td>5767</td>\n",
       "      <td>20395-16-8</td>\n",
       "      <td>O=C1N(C(=O)N(C(=O)N1CC=C)CC2OC2)CC=C</td>\n",
       "      <td>Training</td>\n",
       "      <td>1</td>\n",
       "      <td>0</td>\n",
       "      <td>102</td>\n",
       "      <td>0.485090</td>\n",
       "      <td>78.53</td>\n",
       "      <td>69.3560</td>\n",
       "      <td>2.668492</td>\n",
       "      <td>627.435628</td>\n",
       "      <td>265.269</td>\n",
       "      <td>-1.05750</td>\n",
       "    </tr>\n",
       "    <tr>\n",
       "      <th>5760</th>\n",
       "      <td>5760</td>\n",
       "      <td>5768</td>\n",
       "      <td>34718-47-3</td>\n",
       "      <td>O=C(C(Br)(Br)Br)Cl</td>\n",
       "      <td>Training</td>\n",
       "      <td>1</td>\n",
       "      <td>1</td>\n",
       "      <td>42</td>\n",
       "      <td>0.495987</td>\n",
       "      <td>17.07</td>\n",
       "      <td>40.3720</td>\n",
       "      <td>3.791118</td>\n",
       "      <td>85.425922</td>\n",
       "      <td>315.186</td>\n",
       "      <td>2.59030</td>\n",
       "    </tr>\n",
       "    <tr>\n",
       "      <th>5761</th>\n",
       "      <td>5761</td>\n",
       "      <td>5769</td>\n",
       "      <td>43204-63-3</td>\n",
       "      <td>N(CCBr)CCBr</td>\n",
       "      <td>Training</td>\n",
       "      <td>1</td>\n",
       "      <td>1</td>\n",
       "      <td>44</td>\n",
       "      <td>0.568556</td>\n",
       "      <td>12.03</td>\n",
       "      <td>40.4577</td>\n",
       "      <td>2.447473</td>\n",
       "      <td>28.870765</td>\n",
       "      <td>230.931</td>\n",
       "      <td>1.36580</td>\n",
       "    </tr>\n",
       "    <tr>\n",
       "      <th>5762</th>\n",
       "      <td>5762</td>\n",
       "      <td>5770</td>\n",
       "      <td>52583-35-4</td>\n",
       "      <td>N#Cc2cc(cc(c2(N=Nc1ccc(cc1(NC(=O)C))N(CCOC)CCO...</td>\n",
       "      <td>Training</td>\n",
       "      <td>1</td>\n",
       "      <td>1</td>\n",
       "      <td>184</td>\n",
       "      <td>0.264581</td>\n",
       "      <td>185.59</td>\n",
       "      <td>125.3525</td>\n",
       "      <td>2.552977</td>\n",
       "      <td>1169.342047</td>\n",
       "      <td>485.457</td>\n",
       "      <td>3.84768</td>\n",
       "    </tr>\n",
       "    <tr>\n",
       "      <th>5763</th>\n",
       "      <td>5763</td>\n",
       "      <td>5771</td>\n",
       "      <td>188021-38-7</td>\n",
       "      <td>O(c1c(cc(cc1Br)C)C(C)(C)C)CC=C</td>\n",
       "      <td>Training</td>\n",
       "      <td>1</td>\n",
       "      <td>0</td>\n",
       "      <td>88</td>\n",
       "      <td>0.735392</td>\n",
       "      <td>9.23</td>\n",
       "      <td>73.2710</td>\n",
       "      <td>3.263016</td>\n",
       "      <td>388.457194</td>\n",
       "      <td>283.209</td>\n",
       "      <td>4.61982</td>\n",
       "    </tr>\n",
       "  </tbody>\n",
       "</table>\n",
       "<p>5764 rows × 15 columns</p>\n",
       "</div>"
      ],
      "text/plain": [
       "      Unnamed: 0    Id          CAS  \\\n",
       "0              0     1     100-00-5   \n",
       "1              1     2     100-01-6   \n",
       "2              2     3     100-02-7   \n",
       "3              3     4     100-11-8   \n",
       "4              4     5     100-12-9   \n",
       "...          ...   ...          ...   \n",
       "5759        5759  5767   20395-16-8   \n",
       "5760        5760  5768   34718-47-3   \n",
       "5761        5761  5769   43204-63-3   \n",
       "5762        5762  5770   52583-35-4   \n",
       "5763        5763  5771  188021-38-7   \n",
       "\n",
       "                                                 SMILES    Status  \\\n",
       "0                              O=[N+]([O-])c1ccc(cc1)Cl  Training   \n",
       "1                               O=[N+]([O-])c1ccc(N)cc1  Training   \n",
       "2                               O=[N+]([O-])c1ccc(O)cc1  Training   \n",
       "3                             O=[N+]([O-])c1ccc(cc1)CBr  Training   \n",
       "4                              O=[N+]([O-])c1ccc(cc1)CC  Training   \n",
       "...                                                 ...       ...   \n",
       "5759               O=C1N(C(=O)N(C(=O)N1CC=C)CC2OC2)CC=C  Training   \n",
       "5760                                 O=C(C(Br)(Br)Br)Cl  Training   \n",
       "5761                                        N(CCBr)CCBr  Training   \n",
       "5762  N#Cc2cc(cc(c2(N=Nc1ccc(cc1(NC(=O)C))N(CCOC)CCO...  Training   \n",
       "5763                     O(c1c(cc(cc1Br)C)C(C)(C)C)CC=C  Training   \n",
       "\n",
       "      Experimental value Predicted value  NumValenceElectrons       qed  \\\n",
       "0                      1               1                   52  0.463602   \n",
       "1                      1               1                   52  0.359544   \n",
       "2                      0               1                   52  0.470728   \n",
       "3                      1               0                   58  0.432586   \n",
       "4                      0               0                   58  0.479785   \n",
       "...                  ...             ...                  ...       ...   \n",
       "5759                   1               0                  102  0.485090   \n",
       "5760                   1               1                   42  0.495987   \n",
       "5761                   1               1                   44  0.568556   \n",
       "5762                   1               1                  184  0.264581   \n",
       "5763                   1               0                   88  0.735392   \n",
       "\n",
       "        TPSA     MolMR  BalabanJ      BertzCT    MolWt  MolLogP  \n",
       "0      43.14   38.1064  3.003401   244.429658  157.556  2.24820  \n",
       "1      69.16   37.5088  3.003401   242.429658  138.126  1.17700  \n",
       "2      63.37   34.7612  3.003401   241.674771  139.110  1.30040  \n",
       "3      43.14   45.7274  2.913802   257.648013  216.034  2.48970  \n",
       "4      43.14   42.4744  2.913802   253.299498  151.165  2.15720  \n",
       "...      ...       ...       ...          ...      ...      ...  \n",
       "5759   78.53   69.3560  2.668492   627.435628  265.269 -1.05750  \n",
       "5760   17.07   40.3720  3.791118    85.425922  315.186  2.59030  \n",
       "5761   12.03   40.4577  2.447473    28.870765  230.931  1.36580  \n",
       "5762  185.59  125.3525  2.552977  1169.342047  485.457  3.84768  \n",
       "5763    9.23   73.2710  3.263016   388.457194  283.209  4.61982  \n",
       "\n",
       "[5764 rows x 15 columns]"
      ]
     },
     "execution_count": 2,
     "metadata": {},
     "output_type": "execute_result"
    }
   ],
   "source": [
    "if 'google.colab' in str(get_ipython()):\n",
    "  df = pd.read_csv(\"https://raw.githubusercontent.com/edgarsmdn/MLCE_book/main/references/mutagenicity_kNN.csv\")\n",
    "else:\n",
    "  df = pd.read_csv(\"references/mutagenicity_kNN.csv\")\n",
    "\n",
    "df"
   ]
  },
  {
   "cell_type": "markdown",
   "metadata": {
    "id": "ttVnS2-dbxcy"
   },
   "source": [
    "The library pandas has many useful functions for data analytics. For example, we can print the type of the data we have..."
   ]
  },
  {
   "cell_type": "code",
   "execution_count": 3,
   "metadata": {
    "colab": {
     "base_uri": "https://localhost:8080/"
    },
    "id": "IyH-W0ty8-Oi",
    "outputId": "da756743-d176-4f8b-9605-1cf02c46dd1a"
   },
   "outputs": [
    {
     "data": {
      "text/plain": [
       "Unnamed: 0               int64\n",
       "Id                       int64\n",
       "CAS                     object\n",
       "SMILES                  object\n",
       "Status                  object\n",
       "Experimental value       int64\n",
       "Predicted value         object\n",
       "NumValenceElectrons      int64\n",
       "qed                    float64\n",
       "TPSA                   float64\n",
       "MolMR                  float64\n",
       "BalabanJ               float64\n",
       "BertzCT                float64\n",
       "MolWt                  float64\n",
       "MolLogP                float64\n",
       "dtype: object"
      ]
     },
     "execution_count": 3,
     "metadata": {},
     "output_type": "execute_result"
    }
   ],
   "source": [
    "df.dtypes    "
   ]
  },
  {
   "cell_type": "markdown",
   "metadata": {
    "id": "v7PaIMXTcKxk"
   },
   "source": [
    "And have a look at the first rows of our data to see how it looks like"
   ]
  },
  {
   "cell_type": "code",
   "execution_count": 4,
   "metadata": {
    "colab": {
     "base_uri": "https://localhost:8080/",
     "height": 206
    },
    "id": "GBvQkpwi6vCV",
    "outputId": "037881d1-27d6-4882-b240-c657dc4b64fe"
   },
   "outputs": [
    {
     "data": {
      "text/html": [
       "<div>\n",
       "<style scoped>\n",
       "    .dataframe tbody tr th:only-of-type {\n",
       "        vertical-align: middle;\n",
       "    }\n",
       "\n",
       "    .dataframe tbody tr th {\n",
       "        vertical-align: top;\n",
       "    }\n",
       "\n",
       "    .dataframe thead th {\n",
       "        text-align: right;\n",
       "    }\n",
       "</style>\n",
       "<table border=\"1\" class=\"dataframe\">\n",
       "  <thead>\n",
       "    <tr style=\"text-align: right;\">\n",
       "      <th></th>\n",
       "      <th>Unnamed: 0</th>\n",
       "      <th>Id</th>\n",
       "      <th>CAS</th>\n",
       "      <th>SMILES</th>\n",
       "      <th>Status</th>\n",
       "      <th>Experimental value</th>\n",
       "      <th>Predicted value</th>\n",
       "      <th>NumValenceElectrons</th>\n",
       "      <th>qed</th>\n",
       "      <th>TPSA</th>\n",
       "      <th>MolMR</th>\n",
       "      <th>BalabanJ</th>\n",
       "      <th>BertzCT</th>\n",
       "      <th>MolWt</th>\n",
       "      <th>MolLogP</th>\n",
       "    </tr>\n",
       "  </thead>\n",
       "  <tbody>\n",
       "    <tr>\n",
       "      <th>0</th>\n",
       "      <td>0</td>\n",
       "      <td>1</td>\n",
       "      <td>100-00-5</td>\n",
       "      <td>O=[N+]([O-])c1ccc(cc1)Cl</td>\n",
       "      <td>Training</td>\n",
       "      <td>1</td>\n",
       "      <td>1</td>\n",
       "      <td>52</td>\n",
       "      <td>0.463602</td>\n",
       "      <td>43.14</td>\n",
       "      <td>38.1064</td>\n",
       "      <td>3.003401</td>\n",
       "      <td>244.429658</td>\n",
       "      <td>157.556</td>\n",
       "      <td>2.2482</td>\n",
       "    </tr>\n",
       "    <tr>\n",
       "      <th>1</th>\n",
       "      <td>1</td>\n",
       "      <td>2</td>\n",
       "      <td>100-01-6</td>\n",
       "      <td>O=[N+]([O-])c1ccc(N)cc1</td>\n",
       "      <td>Training</td>\n",
       "      <td>1</td>\n",
       "      <td>1</td>\n",
       "      <td>52</td>\n",
       "      <td>0.359544</td>\n",
       "      <td>69.16</td>\n",
       "      <td>37.5088</td>\n",
       "      <td>3.003401</td>\n",
       "      <td>242.429658</td>\n",
       "      <td>138.126</td>\n",
       "      <td>1.1770</td>\n",
       "    </tr>\n",
       "    <tr>\n",
       "      <th>2</th>\n",
       "      <td>2</td>\n",
       "      <td>3</td>\n",
       "      <td>100-02-7</td>\n",
       "      <td>O=[N+]([O-])c1ccc(O)cc1</td>\n",
       "      <td>Training</td>\n",
       "      <td>0</td>\n",
       "      <td>1</td>\n",
       "      <td>52</td>\n",
       "      <td>0.470728</td>\n",
       "      <td>63.37</td>\n",
       "      <td>34.7612</td>\n",
       "      <td>3.003401</td>\n",
       "      <td>241.674771</td>\n",
       "      <td>139.110</td>\n",
       "      <td>1.3004</td>\n",
       "    </tr>\n",
       "    <tr>\n",
       "      <th>3</th>\n",
       "      <td>3</td>\n",
       "      <td>4</td>\n",
       "      <td>100-11-8</td>\n",
       "      <td>O=[N+]([O-])c1ccc(cc1)CBr</td>\n",
       "      <td>Training</td>\n",
       "      <td>1</td>\n",
       "      <td>0</td>\n",
       "      <td>58</td>\n",
       "      <td>0.432586</td>\n",
       "      <td>43.14</td>\n",
       "      <td>45.7274</td>\n",
       "      <td>2.913802</td>\n",
       "      <td>257.648013</td>\n",
       "      <td>216.034</td>\n",
       "      <td>2.4897</td>\n",
       "    </tr>\n",
       "    <tr>\n",
       "      <th>4</th>\n",
       "      <td>4</td>\n",
       "      <td>5</td>\n",
       "      <td>100-12-9</td>\n",
       "      <td>O=[N+]([O-])c1ccc(cc1)CC</td>\n",
       "      <td>Training</td>\n",
       "      <td>0</td>\n",
       "      <td>0</td>\n",
       "      <td>58</td>\n",
       "      <td>0.479785</td>\n",
       "      <td>43.14</td>\n",
       "      <td>42.4744</td>\n",
       "      <td>2.913802</td>\n",
       "      <td>253.299498</td>\n",
       "      <td>151.165</td>\n",
       "      <td>2.1572</td>\n",
       "    </tr>\n",
       "  </tbody>\n",
       "</table>\n",
       "</div>"
      ],
      "text/plain": [
       "   Unnamed: 0  Id       CAS                     SMILES    Status  \\\n",
       "0           0   1  100-00-5   O=[N+]([O-])c1ccc(cc1)Cl  Training   \n",
       "1           1   2  100-01-6    O=[N+]([O-])c1ccc(N)cc1  Training   \n",
       "2           2   3  100-02-7    O=[N+]([O-])c1ccc(O)cc1  Training   \n",
       "3           3   4  100-11-8  O=[N+]([O-])c1ccc(cc1)CBr  Training   \n",
       "4           4   5  100-12-9   O=[N+]([O-])c1ccc(cc1)CC  Training   \n",
       "\n",
       "   Experimental value Predicted value  NumValenceElectrons       qed   TPSA  \\\n",
       "0                   1               1                   52  0.463602  43.14   \n",
       "1                   1               1                   52  0.359544  69.16   \n",
       "2                   0               1                   52  0.470728  63.37   \n",
       "3                   1               0                   58  0.432586  43.14   \n",
       "4                   0               0                   58  0.479785  43.14   \n",
       "\n",
       "     MolMR  BalabanJ     BertzCT    MolWt  MolLogP  \n",
       "0  38.1064  3.003401  244.429658  157.556   2.2482  \n",
       "1  37.5088  3.003401  242.429658  138.126   1.1770  \n",
       "2  34.7612  3.003401  241.674771  139.110   1.3004  \n",
       "3  45.7274  2.913802  257.648013  216.034   2.4897  \n",
       "4  42.4744  2.913802  253.299498  151.165   2.1572  "
      ]
     },
     "execution_count": 4,
     "metadata": {},
     "output_type": "execute_result"
    }
   ],
   "source": [
    "df.head()"
   ]
  },
  {
   "cell_type": "markdown",
   "metadata": {
    "id": "ejwwO7ETcTPw"
   },
   "source": [
    "We can access columns in the DataFrame by the column's name"
   ]
  },
  {
   "cell_type": "code",
   "execution_count": 5,
   "metadata": {
    "colab": {
     "base_uri": "https://localhost:8080/"
    },
    "id": "4domchYBdi-f",
    "outputId": "ef03e69f-a36d-45c5-ff3f-0163295f2027"
   },
   "outputs": [
    {
     "data": {
      "text/plain": [
       "0       1\n",
       "1       1\n",
       "2       0\n",
       "3       1\n",
       "4       0\n",
       "       ..\n",
       "5759    1\n",
       "5760    1\n",
       "5761    1\n",
       "5762    1\n",
       "5763    1\n",
       "Name: Experimental value, Length: 5764, dtype: int64"
      ]
     },
     "execution_count": 5,
     "metadata": {},
     "output_type": "execute_result"
    }
   ],
   "source": [
    "y_experimental = df['Experimental value']\n",
    "y_experimental"
   ]
  },
  {
   "cell_type": "markdown",
   "metadata": {
    "id": "Eb8STE1Gc1qN"
   },
   "source": [
    "and access rows by index"
   ]
  },
  {
   "cell_type": "code",
   "execution_count": 6,
   "metadata": {
    "colab": {
     "base_uri": "https://localhost:8080/",
     "height": 175
    },
    "id": "F-vLO_KHeUEy",
    "outputId": "ac473b5a-efb8-4dab-e1de-ec5c4ab296e7"
   },
   "outputs": [
    {
     "data": {
      "text/html": [
       "<div>\n",
       "<style scoped>\n",
       "    .dataframe tbody tr th:only-of-type {\n",
       "        vertical-align: middle;\n",
       "    }\n",
       "\n",
       "    .dataframe tbody tr th {\n",
       "        vertical-align: top;\n",
       "    }\n",
       "\n",
       "    .dataframe thead th {\n",
       "        text-align: right;\n",
       "    }\n",
       "</style>\n",
       "<table border=\"1\" class=\"dataframe\">\n",
       "  <thead>\n",
       "    <tr style=\"text-align: right;\">\n",
       "      <th></th>\n",
       "      <th>Unnamed: 0</th>\n",
       "      <th>Id</th>\n",
       "      <th>CAS</th>\n",
       "      <th>SMILES</th>\n",
       "      <th>Status</th>\n",
       "      <th>Experimental value</th>\n",
       "      <th>Predicted value</th>\n",
       "      <th>NumValenceElectrons</th>\n",
       "      <th>qed</th>\n",
       "      <th>TPSA</th>\n",
       "      <th>MolMR</th>\n",
       "      <th>BalabanJ</th>\n",
       "      <th>BertzCT</th>\n",
       "      <th>MolWt</th>\n",
       "      <th>MolLogP</th>\n",
       "    </tr>\n",
       "  </thead>\n",
       "  <tbody>\n",
       "    <tr>\n",
       "      <th>0</th>\n",
       "      <td>0</td>\n",
       "      <td>1</td>\n",
       "      <td>100-00-5</td>\n",
       "      <td>O=[N+]([O-])c1ccc(cc1)Cl</td>\n",
       "      <td>Training</td>\n",
       "      <td>1</td>\n",
       "      <td>1</td>\n",
       "      <td>52</td>\n",
       "      <td>0.463602</td>\n",
       "      <td>43.14</td>\n",
       "      <td>38.1064</td>\n",
       "      <td>3.003401</td>\n",
       "      <td>244.429658</td>\n",
       "      <td>157.556</td>\n",
       "      <td>2.2482</td>\n",
       "    </tr>\n",
       "    <tr>\n",
       "      <th>1</th>\n",
       "      <td>1</td>\n",
       "      <td>2</td>\n",
       "      <td>100-01-6</td>\n",
       "      <td>O=[N+]([O-])c1ccc(N)cc1</td>\n",
       "      <td>Training</td>\n",
       "      <td>1</td>\n",
       "      <td>1</td>\n",
       "      <td>52</td>\n",
       "      <td>0.359544</td>\n",
       "      <td>69.16</td>\n",
       "      <td>37.5088</td>\n",
       "      <td>3.003401</td>\n",
       "      <td>242.429658</td>\n",
       "      <td>138.126</td>\n",
       "      <td>1.1770</td>\n",
       "    </tr>\n",
       "    <tr>\n",
       "      <th>2</th>\n",
       "      <td>2</td>\n",
       "      <td>3</td>\n",
       "      <td>100-02-7</td>\n",
       "      <td>O=[N+]([O-])c1ccc(O)cc1</td>\n",
       "      <td>Training</td>\n",
       "      <td>0</td>\n",
       "      <td>1</td>\n",
       "      <td>52</td>\n",
       "      <td>0.470728</td>\n",
       "      <td>63.37</td>\n",
       "      <td>34.7612</td>\n",
       "      <td>3.003401</td>\n",
       "      <td>241.674771</td>\n",
       "      <td>139.110</td>\n",
       "      <td>1.3004</td>\n",
       "    </tr>\n",
       "    <tr>\n",
       "      <th>3</th>\n",
       "      <td>3</td>\n",
       "      <td>4</td>\n",
       "      <td>100-11-8</td>\n",
       "      <td>O=[N+]([O-])c1ccc(cc1)CBr</td>\n",
       "      <td>Training</td>\n",
       "      <td>1</td>\n",
       "      <td>0</td>\n",
       "      <td>58</td>\n",
       "      <td>0.432586</td>\n",
       "      <td>43.14</td>\n",
       "      <td>45.7274</td>\n",
       "      <td>2.913802</td>\n",
       "      <td>257.648013</td>\n",
       "      <td>216.034</td>\n",
       "      <td>2.4897</td>\n",
       "    </tr>\n",
       "  </tbody>\n",
       "</table>\n",
       "</div>"
      ],
      "text/plain": [
       "   Unnamed: 0  Id       CAS                     SMILES    Status  \\\n",
       "0           0   1  100-00-5   O=[N+]([O-])c1ccc(cc1)Cl  Training   \n",
       "1           1   2  100-01-6    O=[N+]([O-])c1ccc(N)cc1  Training   \n",
       "2           2   3  100-02-7    O=[N+]([O-])c1ccc(O)cc1  Training   \n",
       "3           3   4  100-11-8  O=[N+]([O-])c1ccc(cc1)CBr  Training   \n",
       "\n",
       "   Experimental value Predicted value  NumValenceElectrons       qed   TPSA  \\\n",
       "0                   1               1                   52  0.463602  43.14   \n",
       "1                   1               1                   52  0.359544  69.16   \n",
       "2                   0               1                   52  0.470728  63.37   \n",
       "3                   1               0                   58  0.432586  43.14   \n",
       "\n",
       "     MolMR  BalabanJ     BertzCT    MolWt  MolLogP  \n",
       "0  38.1064  3.003401  244.429658  157.556   2.2482  \n",
       "1  37.5088  3.003401  242.429658  138.126   1.1770  \n",
       "2  34.7612  3.003401  241.674771  139.110   1.3004  \n",
       "3  45.7274  2.913802  257.648013  216.034   2.4897  "
      ]
     },
     "execution_count": 6,
     "metadata": {},
     "output_type": "execute_result"
    }
   ],
   "source": [
    "first_rows = df.iloc[:4]\n",
    "first_rows"
   ]
  },
  {
   "cell_type": "markdown",
   "metadata": {
    "id": "Ro4VEmtzei8w"
   },
   "source": [
    "If we would like to get the subset of data that is labeled as mutagenic (i.e., 'Experimenal value' equal to 1), we could do it like this"
   ]
  },
  {
   "cell_type": "code",
   "execution_count": 7,
   "metadata": {
    "colab": {
     "base_uri": "https://localhost:8080/",
     "height": 679
    },
    "id": "p_1NdUU2gVhn",
    "outputId": "bd3dc255-90dd-413c-cbe2-e44838a73387"
   },
   "outputs": [
    {
     "data": {
      "text/html": [
       "<div>\n",
       "<style scoped>\n",
       "    .dataframe tbody tr th:only-of-type {\n",
       "        vertical-align: middle;\n",
       "    }\n",
       "\n",
       "    .dataframe tbody tr th {\n",
       "        vertical-align: top;\n",
       "    }\n",
       "\n",
       "    .dataframe thead th {\n",
       "        text-align: right;\n",
       "    }\n",
       "</style>\n",
       "<table border=\"1\" class=\"dataframe\">\n",
       "  <thead>\n",
       "    <tr style=\"text-align: right;\">\n",
       "      <th></th>\n",
       "      <th>Unnamed: 0</th>\n",
       "      <th>Id</th>\n",
       "      <th>CAS</th>\n",
       "      <th>SMILES</th>\n",
       "      <th>Status</th>\n",
       "      <th>Experimental value</th>\n",
       "      <th>Predicted value</th>\n",
       "      <th>NumValenceElectrons</th>\n",
       "      <th>qed</th>\n",
       "      <th>TPSA</th>\n",
       "      <th>MolMR</th>\n",
       "      <th>BalabanJ</th>\n",
       "      <th>BertzCT</th>\n",
       "      <th>MolWt</th>\n",
       "      <th>MolLogP</th>\n",
       "    </tr>\n",
       "  </thead>\n",
       "  <tbody>\n",
       "    <tr>\n",
       "      <th>0</th>\n",
       "      <td>0</td>\n",
       "      <td>1</td>\n",
       "      <td>100-00-5</td>\n",
       "      <td>O=[N+]([O-])c1ccc(cc1)Cl</td>\n",
       "      <td>Training</td>\n",
       "      <td>1</td>\n",
       "      <td>1</td>\n",
       "      <td>52</td>\n",
       "      <td>0.463602</td>\n",
       "      <td>43.14</td>\n",
       "      <td>38.1064</td>\n",
       "      <td>3.003401</td>\n",
       "      <td>244.429658</td>\n",
       "      <td>157.556</td>\n",
       "      <td>2.24820</td>\n",
       "    </tr>\n",
       "    <tr>\n",
       "      <th>1</th>\n",
       "      <td>1</td>\n",
       "      <td>2</td>\n",
       "      <td>100-01-6</td>\n",
       "      <td>O=[N+]([O-])c1ccc(N)cc1</td>\n",
       "      <td>Training</td>\n",
       "      <td>1</td>\n",
       "      <td>1</td>\n",
       "      <td>52</td>\n",
       "      <td>0.359544</td>\n",
       "      <td>69.16</td>\n",
       "      <td>37.5088</td>\n",
       "      <td>3.003401</td>\n",
       "      <td>242.429658</td>\n",
       "      <td>138.126</td>\n",
       "      <td>1.17700</td>\n",
       "    </tr>\n",
       "    <tr>\n",
       "      <th>3</th>\n",
       "      <td>3</td>\n",
       "      <td>4</td>\n",
       "      <td>100-11-8</td>\n",
       "      <td>O=[N+]([O-])c1ccc(cc1)CBr</td>\n",
       "      <td>Training</td>\n",
       "      <td>1</td>\n",
       "      <td>0</td>\n",
       "      <td>58</td>\n",
       "      <td>0.432586</td>\n",
       "      <td>43.14</td>\n",
       "      <td>45.7274</td>\n",
       "      <td>2.913802</td>\n",
       "      <td>257.648013</td>\n",
       "      <td>216.034</td>\n",
       "      <td>2.48970</td>\n",
       "    </tr>\n",
       "    <tr>\n",
       "      <th>6</th>\n",
       "      <td>6</td>\n",
       "      <td>7</td>\n",
       "      <td>100-13-0</td>\n",
       "      <td>O=[N+]([O-])c1ccc(C=C)cc1</td>\n",
       "      <td>Training</td>\n",
       "      <td>1</td>\n",
       "      <td>0</td>\n",
       "      <td>56</td>\n",
       "      <td>0.477660</td>\n",
       "      <td>43.14</td>\n",
       "      <td>43.1874</td>\n",
       "      <td>3.000887</td>\n",
       "      <td>276.648462</td>\n",
       "      <td>149.149</td>\n",
       "      <td>2.23780</td>\n",
       "    </tr>\n",
       "    <tr>\n",
       "      <th>7</th>\n",
       "      <td>7</td>\n",
       "      <td>8</td>\n",
       "      <td>100-14-1</td>\n",
       "      <td>O=[N+]([O-])c1ccc(cc1)CCl</td>\n",
       "      <td>Training</td>\n",
       "      <td>1</td>\n",
       "      <td>1</td>\n",
       "      <td>58</td>\n",
       "      <td>0.389482</td>\n",
       "      <td>43.14</td>\n",
       "      <td>42.6534</td>\n",
       "      <td>2.913802</td>\n",
       "      <td>257.648013</td>\n",
       "      <td>171.583</td>\n",
       "      <td>2.33360</td>\n",
       "    </tr>\n",
       "    <tr>\n",
       "      <th>...</th>\n",
       "      <td>...</td>\n",
       "      <td>...</td>\n",
       "      <td>...</td>\n",
       "      <td>...</td>\n",
       "      <td>...</td>\n",
       "      <td>...</td>\n",
       "      <td>...</td>\n",
       "      <td>...</td>\n",
       "      <td>...</td>\n",
       "      <td>...</td>\n",
       "      <td>...</td>\n",
       "      <td>...</td>\n",
       "      <td>...</td>\n",
       "      <td>...</td>\n",
       "      <td>...</td>\n",
       "    </tr>\n",
       "    <tr>\n",
       "      <th>5759</th>\n",
       "      <td>5759</td>\n",
       "      <td>5767</td>\n",
       "      <td>20395-16-8</td>\n",
       "      <td>O=C1N(C(=O)N(C(=O)N1CC=C)CC2OC2)CC=C</td>\n",
       "      <td>Training</td>\n",
       "      <td>1</td>\n",
       "      <td>0</td>\n",
       "      <td>102</td>\n",
       "      <td>0.485090</td>\n",
       "      <td>78.53</td>\n",
       "      <td>69.3560</td>\n",
       "      <td>2.668492</td>\n",
       "      <td>627.435628</td>\n",
       "      <td>265.269</td>\n",
       "      <td>-1.05750</td>\n",
       "    </tr>\n",
       "    <tr>\n",
       "      <th>5760</th>\n",
       "      <td>5760</td>\n",
       "      <td>5768</td>\n",
       "      <td>34718-47-3</td>\n",
       "      <td>O=C(C(Br)(Br)Br)Cl</td>\n",
       "      <td>Training</td>\n",
       "      <td>1</td>\n",
       "      <td>1</td>\n",
       "      <td>42</td>\n",
       "      <td>0.495987</td>\n",
       "      <td>17.07</td>\n",
       "      <td>40.3720</td>\n",
       "      <td>3.791118</td>\n",
       "      <td>85.425922</td>\n",
       "      <td>315.186</td>\n",
       "      <td>2.59030</td>\n",
       "    </tr>\n",
       "    <tr>\n",
       "      <th>5761</th>\n",
       "      <td>5761</td>\n",
       "      <td>5769</td>\n",
       "      <td>43204-63-3</td>\n",
       "      <td>N(CCBr)CCBr</td>\n",
       "      <td>Training</td>\n",
       "      <td>1</td>\n",
       "      <td>1</td>\n",
       "      <td>44</td>\n",
       "      <td>0.568556</td>\n",
       "      <td>12.03</td>\n",
       "      <td>40.4577</td>\n",
       "      <td>2.447473</td>\n",
       "      <td>28.870765</td>\n",
       "      <td>230.931</td>\n",
       "      <td>1.36580</td>\n",
       "    </tr>\n",
       "    <tr>\n",
       "      <th>5762</th>\n",
       "      <td>5762</td>\n",
       "      <td>5770</td>\n",
       "      <td>52583-35-4</td>\n",
       "      <td>N#Cc2cc(cc(c2(N=Nc1ccc(cc1(NC(=O)C))N(CCOC)CCO...</td>\n",
       "      <td>Training</td>\n",
       "      <td>1</td>\n",
       "      <td>1</td>\n",
       "      <td>184</td>\n",
       "      <td>0.264581</td>\n",
       "      <td>185.59</td>\n",
       "      <td>125.3525</td>\n",
       "      <td>2.552977</td>\n",
       "      <td>1169.342047</td>\n",
       "      <td>485.457</td>\n",
       "      <td>3.84768</td>\n",
       "    </tr>\n",
       "    <tr>\n",
       "      <th>5763</th>\n",
       "      <td>5763</td>\n",
       "      <td>5771</td>\n",
       "      <td>188021-38-7</td>\n",
       "      <td>O(c1c(cc(cc1Br)C)C(C)(C)C)CC=C</td>\n",
       "      <td>Training</td>\n",
       "      <td>1</td>\n",
       "      <td>0</td>\n",
       "      <td>88</td>\n",
       "      <td>0.735392</td>\n",
       "      <td>9.23</td>\n",
       "      <td>73.2710</td>\n",
       "      <td>3.263016</td>\n",
       "      <td>388.457194</td>\n",
       "      <td>283.209</td>\n",
       "      <td>4.61982</td>\n",
       "    </tr>\n",
       "  </tbody>\n",
       "</table>\n",
       "<p>3251 rows × 15 columns</p>\n",
       "</div>"
      ],
      "text/plain": [
       "      Unnamed: 0    Id          CAS  \\\n",
       "0              0     1     100-00-5   \n",
       "1              1     2     100-01-6   \n",
       "3              3     4     100-11-8   \n",
       "6              6     7     100-13-0   \n",
       "7              7     8     100-14-1   \n",
       "...          ...   ...          ...   \n",
       "5759        5759  5767   20395-16-8   \n",
       "5760        5760  5768   34718-47-3   \n",
       "5761        5761  5769   43204-63-3   \n",
       "5762        5762  5770   52583-35-4   \n",
       "5763        5763  5771  188021-38-7   \n",
       "\n",
       "                                                 SMILES    Status  \\\n",
       "0                              O=[N+]([O-])c1ccc(cc1)Cl  Training   \n",
       "1                               O=[N+]([O-])c1ccc(N)cc1  Training   \n",
       "3                             O=[N+]([O-])c1ccc(cc1)CBr  Training   \n",
       "6                             O=[N+]([O-])c1ccc(C=C)cc1  Training   \n",
       "7                             O=[N+]([O-])c1ccc(cc1)CCl  Training   \n",
       "...                                                 ...       ...   \n",
       "5759               O=C1N(C(=O)N(C(=O)N1CC=C)CC2OC2)CC=C  Training   \n",
       "5760                                 O=C(C(Br)(Br)Br)Cl  Training   \n",
       "5761                                        N(CCBr)CCBr  Training   \n",
       "5762  N#Cc2cc(cc(c2(N=Nc1ccc(cc1(NC(=O)C))N(CCOC)CCO...  Training   \n",
       "5763                     O(c1c(cc(cc1Br)C)C(C)(C)C)CC=C  Training   \n",
       "\n",
       "      Experimental value Predicted value  NumValenceElectrons       qed  \\\n",
       "0                      1               1                   52  0.463602   \n",
       "1                      1               1                   52  0.359544   \n",
       "3                      1               0                   58  0.432586   \n",
       "6                      1               0                   56  0.477660   \n",
       "7                      1               1                   58  0.389482   \n",
       "...                  ...             ...                  ...       ...   \n",
       "5759                   1               0                  102  0.485090   \n",
       "5760                   1               1                   42  0.495987   \n",
       "5761                   1               1                   44  0.568556   \n",
       "5762                   1               1                  184  0.264581   \n",
       "5763                   1               0                   88  0.735392   \n",
       "\n",
       "        TPSA     MolMR  BalabanJ      BertzCT    MolWt  MolLogP  \n",
       "0      43.14   38.1064  3.003401   244.429658  157.556  2.24820  \n",
       "1      69.16   37.5088  3.003401   242.429658  138.126  1.17700  \n",
       "3      43.14   45.7274  2.913802   257.648013  216.034  2.48970  \n",
       "6      43.14   43.1874  3.000887   276.648462  149.149  2.23780  \n",
       "7      43.14   42.6534  2.913802   257.648013  171.583  2.33360  \n",
       "...      ...       ...       ...          ...      ...      ...  \n",
       "5759   78.53   69.3560  2.668492   627.435628  265.269 -1.05750  \n",
       "5760   17.07   40.3720  3.791118    85.425922  315.186  2.59030  \n",
       "5761   12.03   40.4577  2.447473    28.870765  230.931  1.36580  \n",
       "5762  185.59  125.3525  2.552977  1169.342047  485.457  3.84768  \n",
       "5763    9.23   73.2710  3.263016   388.457194  283.209  4.61982  \n",
       "\n",
       "[3251 rows x 15 columns]"
      ]
     },
     "execution_count": 7,
     "metadata": {},
     "output_type": "execute_result"
    }
   ],
   "source": [
    "mutagenic_data = df[df['Experimental value']==1]\n",
    "mutagenic_data"
   ]
  },
  {
   "cell_type": "markdown",
   "metadata": {
    "id": "Si1CwO1Ol9-r"
   },
   "source": [
    "Let's now collect all the input features of our dataset"
   ]
  },
  {
   "cell_type": "code",
   "execution_count": 8,
   "metadata": {
    "colab": {
     "base_uri": "https://localhost:8080/",
     "height": 424
    },
    "id": "IahR4BJimCJ2",
    "outputId": "8b5e5d11-957b-43c7-dc2e-4b9910188a58"
   },
   "outputs": [
    {
     "data": {
      "text/html": [
       "<div>\n",
       "<style scoped>\n",
       "    .dataframe tbody tr th:only-of-type {\n",
       "        vertical-align: middle;\n",
       "    }\n",
       "\n",
       "    .dataframe tbody tr th {\n",
       "        vertical-align: top;\n",
       "    }\n",
       "\n",
       "    .dataframe thead th {\n",
       "        text-align: right;\n",
       "    }\n",
       "</style>\n",
       "<table border=\"1\" class=\"dataframe\">\n",
       "  <thead>\n",
       "    <tr style=\"text-align: right;\">\n",
       "      <th></th>\n",
       "      <th>NumValenceElectrons</th>\n",
       "      <th>qed</th>\n",
       "      <th>TPSA</th>\n",
       "      <th>MolMR</th>\n",
       "      <th>BalabanJ</th>\n",
       "      <th>BertzCT</th>\n",
       "      <th>MolWt</th>\n",
       "      <th>MolLogP</th>\n",
       "    </tr>\n",
       "  </thead>\n",
       "  <tbody>\n",
       "    <tr>\n",
       "      <th>0</th>\n",
       "      <td>52</td>\n",
       "      <td>0.463602</td>\n",
       "      <td>43.14</td>\n",
       "      <td>38.1064</td>\n",
       "      <td>3.003401</td>\n",
       "      <td>244.429658</td>\n",
       "      <td>157.556</td>\n",
       "      <td>2.24820</td>\n",
       "    </tr>\n",
       "    <tr>\n",
       "      <th>1</th>\n",
       "      <td>52</td>\n",
       "      <td>0.359544</td>\n",
       "      <td>69.16</td>\n",
       "      <td>37.5088</td>\n",
       "      <td>3.003401</td>\n",
       "      <td>242.429658</td>\n",
       "      <td>138.126</td>\n",
       "      <td>1.17700</td>\n",
       "    </tr>\n",
       "    <tr>\n",
       "      <th>2</th>\n",
       "      <td>52</td>\n",
       "      <td>0.470728</td>\n",
       "      <td>63.37</td>\n",
       "      <td>34.7612</td>\n",
       "      <td>3.003401</td>\n",
       "      <td>241.674771</td>\n",
       "      <td>139.110</td>\n",
       "      <td>1.30040</td>\n",
       "    </tr>\n",
       "    <tr>\n",
       "      <th>3</th>\n",
       "      <td>58</td>\n",
       "      <td>0.432586</td>\n",
       "      <td>43.14</td>\n",
       "      <td>45.7274</td>\n",
       "      <td>2.913802</td>\n",
       "      <td>257.648013</td>\n",
       "      <td>216.034</td>\n",
       "      <td>2.48970</td>\n",
       "    </tr>\n",
       "    <tr>\n",
       "      <th>4</th>\n",
       "      <td>58</td>\n",
       "      <td>0.479785</td>\n",
       "      <td>43.14</td>\n",
       "      <td>42.4744</td>\n",
       "      <td>2.913802</td>\n",
       "      <td>253.299498</td>\n",
       "      <td>151.165</td>\n",
       "      <td>2.15720</td>\n",
       "    </tr>\n",
       "    <tr>\n",
       "      <th>...</th>\n",
       "      <td>...</td>\n",
       "      <td>...</td>\n",
       "      <td>...</td>\n",
       "      <td>...</td>\n",
       "      <td>...</td>\n",
       "      <td>...</td>\n",
       "      <td>...</td>\n",
       "      <td>...</td>\n",
       "    </tr>\n",
       "    <tr>\n",
       "      <th>5759</th>\n",
       "      <td>102</td>\n",
       "      <td>0.485090</td>\n",
       "      <td>78.53</td>\n",
       "      <td>69.3560</td>\n",
       "      <td>2.668492</td>\n",
       "      <td>627.435628</td>\n",
       "      <td>265.269</td>\n",
       "      <td>-1.05750</td>\n",
       "    </tr>\n",
       "    <tr>\n",
       "      <th>5760</th>\n",
       "      <td>42</td>\n",
       "      <td>0.495987</td>\n",
       "      <td>17.07</td>\n",
       "      <td>40.3720</td>\n",
       "      <td>3.791118</td>\n",
       "      <td>85.425922</td>\n",
       "      <td>315.186</td>\n",
       "      <td>2.59030</td>\n",
       "    </tr>\n",
       "    <tr>\n",
       "      <th>5761</th>\n",
       "      <td>44</td>\n",
       "      <td>0.568556</td>\n",
       "      <td>12.03</td>\n",
       "      <td>40.4577</td>\n",
       "      <td>2.447473</td>\n",
       "      <td>28.870765</td>\n",
       "      <td>230.931</td>\n",
       "      <td>1.36580</td>\n",
       "    </tr>\n",
       "    <tr>\n",
       "      <th>5762</th>\n",
       "      <td>184</td>\n",
       "      <td>0.264581</td>\n",
       "      <td>185.59</td>\n",
       "      <td>125.3525</td>\n",
       "      <td>2.552977</td>\n",
       "      <td>1169.342047</td>\n",
       "      <td>485.457</td>\n",
       "      <td>3.84768</td>\n",
       "    </tr>\n",
       "    <tr>\n",
       "      <th>5763</th>\n",
       "      <td>88</td>\n",
       "      <td>0.735392</td>\n",
       "      <td>9.23</td>\n",
       "      <td>73.2710</td>\n",
       "      <td>3.263016</td>\n",
       "      <td>388.457194</td>\n",
       "      <td>283.209</td>\n",
       "      <td>4.61982</td>\n",
       "    </tr>\n",
       "  </tbody>\n",
       "</table>\n",
       "<p>5764 rows × 8 columns</p>\n",
       "</div>"
      ],
      "text/plain": [
       "      NumValenceElectrons       qed    TPSA     MolMR  BalabanJ      BertzCT  \\\n",
       "0                      52  0.463602   43.14   38.1064  3.003401   244.429658   \n",
       "1                      52  0.359544   69.16   37.5088  3.003401   242.429658   \n",
       "2                      52  0.470728   63.37   34.7612  3.003401   241.674771   \n",
       "3                      58  0.432586   43.14   45.7274  2.913802   257.648013   \n",
       "4                      58  0.479785   43.14   42.4744  2.913802   253.299498   \n",
       "...                   ...       ...     ...       ...       ...          ...   \n",
       "5759                  102  0.485090   78.53   69.3560  2.668492   627.435628   \n",
       "5760                   42  0.495987   17.07   40.3720  3.791118    85.425922   \n",
       "5761                   44  0.568556   12.03   40.4577  2.447473    28.870765   \n",
       "5762                  184  0.264581  185.59  125.3525  2.552977  1169.342047   \n",
       "5763                   88  0.735392    9.23   73.2710  3.263016   388.457194   \n",
       "\n",
       "        MolWt  MolLogP  \n",
       "0     157.556  2.24820  \n",
       "1     138.126  1.17700  \n",
       "2     139.110  1.30040  \n",
       "3     216.034  2.48970  \n",
       "4     151.165  2.15720  \n",
       "...       ...      ...  \n",
       "5759  265.269 -1.05750  \n",
       "5760  315.186  2.59030  \n",
       "5761  230.931  1.36580  \n",
       "5762  485.457  3.84768  \n",
       "5763  283.209  4.61982  \n",
       "\n",
       "[5764 rows x 8 columns]"
      ]
     },
     "execution_count": 8,
     "metadata": {},
     "output_type": "execute_result"
    }
   ],
   "source": [
    "X = df.drop(['Unnamed: 0', 'Id','CAS','SMILES','Status','Experimental value','Predicted value'],axis=1)\n",
    "X"
   ]
  },
  {
   "cell_type": "markdown",
   "metadata": {
    "id": "ei-EOGnle97C"
   },
   "source": [
    "### Exercise - manipulate a DataFrame ❗❗\n",
    "\n",
    "* How many molecules in our dataset have a `qed` less than 0.5?\n",
    "* What is the molecule with the largest molecular weight `MolWt`?\n",
    "* What is the average number of valance electrons `NumValenceElectrons` of the molecules in our dataset? "
   ]
  },
  {
   "cell_type": "code",
   "execution_count": 9,
   "metadata": {
    "id": "DwAoulsggXUJ"
   },
   "outputs": [],
   "source": [
    "# Your code here"
   ]
  },
  {
   "cell_type": "markdown",
   "metadata": {
    "id": "KGvYC2i5hW_A"
   },
   "source": [
    "## Feature scaling 📏"
   ]
  },
  {
   "cell_type": "markdown",
   "metadata": {
    "id": "iTfo1fwH7qMv"
   },
   "source": [
    "It is always a good practice to scale your data before starting modeling. This helps the training process of many machine learning models. This is specially true for kNN which works on distances! The distance between two points is naturally afected by the dimensions of the input space. Look for example at the Euclidean distance, if one dimension ranges from 0 to 10,000 and another ranges from 0 to 1, the former one will potentially impact the distance value much more!\n",
    "\n",
    "We do not want this to happen. Therefore, we need to scale all input features in order to give the same importance to all dimensions regardless of their original scale.\n",
    "\n",
    "Here, we will use the method known as [standardization](https://scikit-learn.org/stable/modules/generated/sklearn.preprocessing.StandardScaler.html#sklearn.preprocessing.StandardScaler). Here, we move the distribution of the data to have unit variance and a mean equal to zero.\n",
    "\n",
    "$$\n",
    "\\hat{\\textbf{x}} = \\frac{\\textbf{x}-\\mu_x}{\\sigma_x}\n",
    "$$\n",
    "\n",
    "Of course there are other [scaling methods](https://medium.com/greyatom/why-how-and-when-to-scale-your-features-4b30ab09db5e) are available and you might want to review them and check which one is better than the other in which conditions."
   ]
  },
  {
   "cell_type": "code",
   "execution_count": 10,
   "metadata": {
    "id": "KlCTYKzV7Lja"
   },
   "outputs": [],
   "source": [
    "from sklearn.preprocessing import StandardScaler"
   ]
  },
  {
   "cell_type": "markdown",
   "metadata": {
    "id": "3nd3K52ulXb1"
   },
   "source": [
    "We initialize our scaler function"
   ]
  },
  {
   "cell_type": "code",
   "execution_count": 11,
   "metadata": {
    "id": "JDrRFz3o7ORI"
   },
   "outputs": [],
   "source": [
    "scaler = StandardScaler()"
   ]
  },
  {
   "cell_type": "markdown",
   "metadata": {
    "id": "sPkVGBadlbgO"
   },
   "source": [
    "and fit it to our data (i.e., get the mean vector $\\mu_x$ and the standard deviation vector $\\sigma_x$."
   ]
  },
  {
   "cell_type": "code",
   "execution_count": 12,
   "metadata": {
    "colab": {
     "base_uri": "https://localhost:8080/"
    },
    "id": "j6tTHY4Al5U-",
    "outputId": "aaebfa78-b16c-465c-eece-0fcafc26117f"
   },
   "outputs": [
    {
     "data": {
      "text/plain": [
       "StandardScaler()"
      ]
     },
     "execution_count": 12,
     "metadata": {},
     "output_type": "execute_result"
    }
   ],
   "source": [
    "scaler.fit(X)"
   ]
  },
  {
   "cell_type": "markdown",
   "metadata": {
    "id": "hAMOgj-JprOW"
   },
   "source": [
    "Now, let's scale our data"
   ]
  },
  {
   "cell_type": "code",
   "execution_count": 13,
   "metadata": {
    "colab": {
     "base_uri": "https://localhost:8080/"
    },
    "id": "m4TAblST7lIL",
    "outputId": "39f11c41-88d1-42f8-c9ea-29510eadb3ee"
   },
   "outputs": [
    {
     "data": {
      "text/plain": [
       "array([[-0.8207913 , -0.30394896, -0.24686341, ..., -0.7292805 ,\n",
       "        -0.7199414 , -0.17404176],\n",
       "       [-0.8207913 , -0.93144046,  0.35745018, ..., -0.7345701 ,\n",
       "        -0.88733148, -0.72655468],\n",
       "       [-0.8207913 , -0.26097723,  0.22297763, ..., -0.73656663,\n",
       "        -0.87885428, -0.66290635],\n",
       "       ...,\n",
       "       [-1.00853009,  0.32894267, -0.96939207, ..., -1.29939126,\n",
       "        -0.08781341, -0.62917377],\n",
       "       [ 2.27689879, -1.50408515,  3.06153285, ...,  1.71693037,\n",
       "         2.10493626,  0.65095204],\n",
       "       [ 0.02403327,  1.33499426, -1.03442197, ..., -0.34835607,\n",
       "         0.36256324,  1.04921318]])"
      ]
     },
     "execution_count": 13,
     "metadata": {},
     "output_type": "execute_result"
    }
   ],
   "source": [
    "X_hat = scaler.transform(X)\n",
    "X_hat"
   ]
  },
  {
   "cell_type": "markdown",
   "metadata": {
    "id": "g0zIoG5op95Z"
   },
   "source": [
    "### Exercise - read documentation ❗❗\n",
    "\n",
    "* What are exactly the mean an standard deviation vectors that we used to scaled the data? Go to the [sklearn documentation](https://scikit-learn.org/stable/modules/generated/sklearn.preprocessing.StandardScaler.html) and learn how you can access these. Reading the documentation of a library is a super important skill to learn! "
   ]
  },
  {
   "cell_type": "code",
   "execution_count": 14,
   "metadata": {
    "id": "8WDOvs_WqVFj"
   },
   "outputs": [],
   "source": [
    "# Your code here"
   ]
  },
  {
   "cell_type": "markdown",
   "metadata": {
    "id": "h2uOyvKYB_QE"
   },
   "source": [
    "## Training and test split ✂️\n",
    "\n",
    "Now that we have scaled the data, we have to make sure we split it. Remember, our goal is to create a model that **generalize well** to unseen data and not simply fit some seen data perfectly. To achieve this, our goal while splitting the data should be to ensure that the distribution of the test set is as close as possible to the expected distribution of the future data. Hence, often what we want is to make the training and test datasets to have a similar distribution.\n",
    "\n",
    "For example, let's see if how many molecules in our dataset are mutagenic vs. non-mutagenic."
   ]
  },
  {
   "cell_type": "code",
   "execution_count": 15,
   "metadata": {
    "colab": {
     "base_uri": "https://localhost:8080/"
    },
    "id": "QUCpGIgcB0y6",
    "outputId": "7493e0d0-8332-4e2b-a2ce-c60d79aa9787"
   },
   "outputs": [
    {
     "name": "stdout",
     "output_type": "stream",
     "text": [
      "Percentage of mutagenic molecules    : 56.40180430256766\n",
      "Percentage of non-mutagenic molecules: 43.59819569743234\n"
     ]
    }
   ],
   "source": [
    "y = df['Experimental value'].to_numpy()\n",
    "perc_mutagenic = y.sum()/len(y)*100\n",
    "print('Percentage of mutagenic molecules    :', perc_mutagenic)\n",
    "print('Percentage of non-mutagenic molecules:', 100-perc_mutagenic)"
   ]
  },
  {
   "cell_type": "markdown",
   "metadata": {
    "id": "YFlMSb6TCZ7S"
   },
   "source": [
    "In this case, the proportion of mutagenic and non-mutagenic data is very similar. Then, we will go ahead and split the data randomly. However, when you have a much more imbalanced dataset, how would you split the data better? You can look for instance at what [stratified splitting](https://scikit-learn.org/stable/modules/cross_validation.html#stratification) is and why is it important.\n",
    "\n",
    "In summary, when splitting your data, always think about the distribution of your splits!"
   ]
  },
  {
   "cell_type": "code",
   "execution_count": 16,
   "metadata": {
    "id": "DQR8ATRjCPCq"
   },
   "outputs": [],
   "source": [
    "from sklearn.model_selection import train_test_split"
   ]
  },
  {
   "cell_type": "code",
   "execution_count": 17,
   "metadata": {
    "id": "I09X-mSqCRtN"
   },
   "outputs": [],
   "source": [
    "X_train, X_test, y_train, y_test = train_test_split(X_hat, y, test_size=0.2, random_state=0)"
   ]
  },
  {
   "cell_type": "code",
   "execution_count": 18,
   "metadata": {
    "colab": {
     "base_uri": "https://localhost:8080/"
    },
    "id": "yeIZ2XI5jwoD",
    "outputId": "fbe389f9-7ccb-4252-81be-a751758e6682"
   },
   "outputs": [
    {
     "name": "stdout",
     "output_type": "stream",
     "text": [
      "Training points:  4611\n",
      "Training points:  1153\n"
     ]
    }
   ],
   "source": [
    "print('Training points: ', len(y_train))\n",
    "print('Training points: ', len(y_test))"
   ]
  },
  {
   "cell_type": "markdown",
   "metadata": {
    "id": "fnRg4cMqDZia"
   },
   "source": [
    "### Exercise - splits distribution ❗❗\n",
    "\n",
    "* Check what is the proportion of mutagenic molecules in your train and test set? Was the random splitting good?"
   ]
  },
  {
   "cell_type": "code",
   "execution_count": 19,
   "metadata": {
    "id": "outc17O_DVKZ"
   },
   "outputs": [],
   "source": [
    "# Your code here"
   ]
  },
  {
   "cell_type": "markdown",
   "metadata": {
    "id": "Ti0h11a7CjPs"
   },
   "source": [
    "## kNN model 🏘️"
   ]
  },
  {
   "cell_type": "code",
   "execution_count": 20,
   "metadata": {
    "id": "fXHhnxgICgJD"
   },
   "outputs": [],
   "source": [
    "from sklearn.neighbors import KNeighborsClassifier"
   ]
  },
  {
   "cell_type": "markdown",
   "metadata": {
    "id": "axfX0cUMEWJN"
   },
   "source": [
    "We initialize the kNN model by specifying the parameter \"k\". Later, we will review some ways that help us in determining this parameter better. For now, let's set it to 3."
   ]
  },
  {
   "cell_type": "code",
   "execution_count": 21,
   "metadata": {
    "id": "0C18Ne_tCxdn"
   },
   "outputs": [],
   "source": [
    "knn = KNeighborsClassifier(n_neighbors=3)"
   ]
  },
  {
   "cell_type": "markdown",
   "metadata": {
    "id": "Ny_zGEKvEwf5"
   },
   "source": [
    "we train it"
   ]
  },
  {
   "cell_type": "code",
   "execution_count": 22,
   "metadata": {
    "colab": {
     "base_uri": "https://localhost:8080/"
    },
    "id": "WYtljFtOCzB7",
    "outputId": "8471c4d9-fec0-41f9-b9a9-aa8a8da39007"
   },
   "outputs": [
    {
     "data": {
      "text/plain": [
       "KNeighborsClassifier(n_neighbors=3)"
      ]
     },
     "execution_count": 22,
     "metadata": {},
     "output_type": "execute_result"
    }
   ],
   "source": [
    "knn.fit(X_train, y_train)"
   ]
  },
  {
   "cell_type": "markdown",
   "metadata": {
    "id": "J1UYc51DEz3w"
   },
   "source": [
    "we predict the test set"
   ]
  },
  {
   "cell_type": "code",
   "execution_count": 23,
   "metadata": {
    "id": "8op0R9jbC4R0"
   },
   "outputs": [],
   "source": [
    "y_pred = knn.predict(X_test)"
   ]
  },
  {
   "cell_type": "markdown",
   "metadata": {
    "id": "M2EDTPLAHWit"
   },
   "source": [
    "Let's now evaluate our kNN model!\n",
    "\n",
    "We will use several metrics for classification, for a quick reminder on them check the [documentation](https://scikit-learn.org/stable/modules/classes.html#classification-metrics)."
   ]
  },
  {
   "cell_type": "code",
   "execution_count": 24,
   "metadata": {
    "id": "1iStpf04HV_1"
   },
   "outputs": [],
   "source": [
    "from sklearn.metrics import (confusion_matrix, accuracy_score, precision_score, \n",
    "                             recall_score, f1_score, roc_auc_score, ConfusionMatrixDisplay) "
   ]
  },
  {
   "cell_type": "markdown",
   "metadata": {
    "id": "T6ppJg7yGM2R"
   },
   "source": [
    "Let first look at the confusion matrix"
   ]
  },
  {
   "cell_type": "code",
   "execution_count": 25,
   "metadata": {
    "colab": {
     "base_uri": "https://localhost:8080/"
    },
    "id": "47uV_7PAg808",
    "outputId": "85d6479e-aadc-4cfd-d473-33ff5fe4023a"
   },
   "outputs": [
    {
     "data": {
      "text/plain": [
       "array([[330, 179],\n",
       "       [145, 499]], dtype=int64)"
      ]
     },
     "execution_count": 25,
     "metadata": {},
     "output_type": "execute_result"
    }
   ],
   "source": [
    "cm = confusion_matrix(y_test, y_pred)\n",
    "cm"
   ]
  },
  {
   "cell_type": "markdown",
   "metadata": {
    "id": "CD9QYwXEGQAl"
   },
   "source": [
    "to see a prettier confusion matrix"
   ]
  },
  {
   "cell_type": "code",
   "execution_count": 26,
   "metadata": {
    "colab": {
     "base_uri": "https://localhost:8080/",
     "height": 296
    },
    "id": "zxE7tmAQGaxn",
    "outputId": "c810185d-74be-47aa-c255-bd307476429c"
   },
   "outputs": [
    {
     "data": {
      "text/plain": [
       "<sklearn.metrics._plot.confusion_matrix.ConfusionMatrixDisplay at 0x24b8031d448>"
      ]
     },
     "execution_count": 26,
     "metadata": {},
     "output_type": "execute_result"
    },
    {
     "data": {
      "image/png": "[encoded data removed]",
      "text/plain": [
       "<Figure size 640x480 with 2 Axes>"
      ]
     },
     "metadata": {
      "filenames": {
       "image/png": "C:\\Users\\DELL\\Documents\\GitHub\\MLCE_book\\_build\\jupyter_execute\\02_kNN_QSPR_56_1.png"
      }
     },
     "output_type": "display_data"
    }
   ],
   "source": [
    "disp = ConfusionMatrixDisplay(confusion_matrix=cm)\n",
    "disp.plot()"
   ]
  },
  {
   "cell_type": "markdown",
   "metadata": {
    "id": "xWWS51LpGv75"
   },
   "source": [
    "Now, let's look at the other metrics"
   ]
  },
  {
   "cell_type": "code",
   "execution_count": 27,
   "metadata": {
    "colab": {
     "base_uri": "https://localhost:8080/"
    },
    "id": "JDQ4clUhG0E2",
    "outputId": "437ce110-5f66-48f2-f8cc-36973a629a00"
   },
   "outputs": [
    {
     "name": "stdout",
     "output_type": "stream",
     "text": [
      "Accuracy:   0.7189939288811795\n",
      "Precision:  0.7359882005899705\n",
      "Recall:     0.7748447204968945\n",
      "F1:         0.7549167927382754\n"
     ]
    }
   ],
   "source": [
    "print('{:<10}  {:<15}'.format('Accuracy:', accuracy_score(y_test, y_pred)))\n",
    "print('{:<10}  {:<15}'.format('Precision:', precision_score(y_test, y_pred)))\n",
    "print('{:<10}  {:<15}'.format('Recall:', recall_score(y_test, y_pred)))\n",
    "print('{:<10}  {:<15}'.format('F1:', f1_score(y_test, y_pred)))"
   ]
  },
  {
   "cell_type": "markdown",
   "metadata": {
    "id": "M3WtaK81L8iT"
   },
   "source": [
    "### Comparison to VEGA model"
   ]
  },
  {
   "cell_type": "markdown",
   "metadata": {
    "id": "Tec9purNJ-OK"
   },
   "source": [
    "What do you think about the metrics? Is the kNN model performing good or bad?\n",
    "Let's compare it to the predictions of a kNN model trained on this same dataset and published as part of the [VEGA platform](https://www.vegahub.eu/portfolio-item/vega-qsar/). In the VEGA model, they have choosen k=4 with a similarity threshold of 0.7 (according to an internal similarity metric) Why is such threshold important?\n",
    "\n",
    "Also, the developers of the VEGA kNN model used the [leave-one-out](https://en.wikipedia.org/wiki/Cross-validation_(statistics)#Leave-one-out_cross-validation) approach to assess the performace of their model. Why is this approach specially suitable when using the kNN algorithm? "
   ]
  },
  {
   "cell_type": "code",
   "execution_count": 28,
   "metadata": {
    "colab": {
     "base_uri": "https://localhost:8080/"
    },
    "id": "v9JNqE4DOgHN",
    "outputId": "e3df3ea1-bb38-405e-cfa7-30262175cfee"
   },
   "outputs": [
    {
     "data": {
      "text/plain": [
       "0       1\n",
       "1       1\n",
       "2       1\n",
       "3       0\n",
       "4       0\n",
       "       ..\n",
       "5759    0\n",
       "5760    1\n",
       "5761    1\n",
       "5762    1\n",
       "5763    0\n",
       "Name: Predicted value, Length: 5764, dtype: object"
      ]
     },
     "execution_count": 28,
     "metadata": {},
     "output_type": "execute_result"
    }
   ],
   "source": [
    "y_vega = df['Predicted value']\n",
    "y_vega"
   ]
  },
  {
   "cell_type": "markdown",
   "metadata": {
    "id": "fTVFVn61PXVQ"
   },
   "source": [
    "Notice that the type of `y_vega` is `object`. This means that potentially its elements have different data types! Let's use a for-loop to see if we can discover which elements are causing the trouble."
   ]
  },
  {
   "cell_type": "code",
   "execution_count": 29,
   "metadata": {
    "colab": {
     "base_uri": "https://localhost:8080/"
    },
    "id": "7DLhRaONQ3C1",
    "outputId": "b1a754a3-1afa-458a-c5e4-cfe723047033"
   },
   "outputs": [
    {
     "name": "stdout",
     "output_type": "stream",
     "text": [
      "1844, Non Predicted\n",
      "2194, Non Predicted\n",
      "4118, Non Predicted\n",
      "4180, Non Predicted\n",
      "5633, Non Predicted\n",
      "5655, Non Predicted\n"
     ]
    }
   ],
   "source": [
    "weird_predictions_idxs = []\n",
    "for i, label in enumerate(y_vega):\n",
    "  try:\n",
    "    int(label)\n",
    "  except:\n",
    "    print('{:<4}, {:<10}'.format(i, label))\n",
    "    weird_predictions_idxs.append(i)"
   ]
  },
  {
   "cell_type": "markdown",
   "metadata": {
    "id": "6MogCTlRRpPu"
   },
   "source": [
    "Indeed!! 6 elements of the series are not integers, but rather strings! This is consistent with the reports of VEGA that say that 6 compounds in this database were not able to be predicted due to not complying with the minimum similarity threshold of 0.7.\n",
    "\n",
    "This illustrates clearly the concept of defining an [applicability domain](https://en.wikipedia.org/wiki/Applicability_domain) of the models we develop. Specially for chemical engineering application! \n",
    "\n",
    "Let's now remove these molecules from the comparison..."
   ]
  },
  {
   "cell_type": "code",
   "execution_count": 30,
   "metadata": {
    "id": "I7LrmXCRPWyp"
   },
   "outputs": [],
   "source": [
    "df_clean = df.drop(index=weird_predictions_idxs)"
   ]
  },
  {
   "cell_type": "markdown",
   "metadata": {
    "id": "tDtWT9x0TPYW"
   },
   "source": [
    "now, let's get the cleaned values 😀"
   ]
  },
  {
   "cell_type": "code",
   "execution_count": 31,
   "metadata": {
    "colab": {
     "base_uri": "https://localhost:8080/"
    },
    "id": "KwbofjYoOmPH",
    "outputId": "9bef3fb3-a421-4613-e35f-90479f6968d2"
   },
   "outputs": [
    {
     "data": {
      "text/plain": [
       "0       1\n",
       "1       1\n",
       "2       1\n",
       "3       0\n",
       "4       0\n",
       "       ..\n",
       "5759    0\n",
       "5760    1\n",
       "5761    1\n",
       "5762    1\n",
       "5763    0\n",
       "Name: Predicted value, Length: 5758, dtype: int32"
      ]
     },
     "execution_count": 31,
     "metadata": {},
     "output_type": "execute_result"
    }
   ],
   "source": [
    "y_vega_clean = df_clean['Predicted value'].astype(int)\n",
    "y_vega_clean"
   ]
  },
  {
   "cell_type": "markdown",
   "metadata": {
    "id": "nyfyVxebUAAX"
   },
   "source": [
    "#### VEGA model"
   ]
  },
  {
   "cell_type": "code",
   "execution_count": 32,
   "metadata": {
    "colab": {
     "base_uri": "https://localhost:8080/",
     "height": 348
    },
    "id": "cD_XnbgGJ9PD",
    "outputId": "282858b2-6f5c-43cb-f8ee-491500517001"
   },
   "outputs": [
    {
     "name": "stdout",
     "output_type": "stream",
     "text": [
      "Accuracy:   0.7999305314345259"
     ]
    },
    {
     "name": "stdout",
     "output_type": "stream",
     "text": [
      "\n",
      "Precision:  0.8168631006346329\n",
      "Recall:     0.8319482917820868\n",
      "F1:         0.8243366880146386\n"
     ]
    },
    {
     "data": {
      "image/png": "[encoded data removed]",
      "text/plain": [
       "<Figure size 640x480 with 2 Axes>"
      ]
     },
     "metadata": {
      "filenames": {
       "image/png": "C:\\Users\\DELL\\Documents\\GitHub\\MLCE_book\\_build\\jupyter_execute\\02_kNN_QSPR_69_2.png"
      }
     },
     "output_type": "display_data"
    }
   ],
   "source": [
    "y_clean = df_clean['Experimental value'].astype(int)\n",
    "\n",
    "cm = confusion_matrix(y_clean, y_vega_clean)\n",
    "disp = ConfusionMatrixDisplay(confusion_matrix=cm)\n",
    "disp.plot()\n",
    "print('{:<10}  {:<15}'.format('Accuracy:', accuracy_score(y_clean, y_vega_clean)))\n",
    "print('{:<10}  {:<15}'.format('Precision:', precision_score(y_clean, y_vega_clean)))\n",
    "print('{:<10}  {:<15}'.format('Recall:', recall_score(y_clean, y_vega_clean)))\n",
    "print('{:<10}  {:<15}'.format('F1:', f1_score(y_clean, y_vega_clean)))"
   ]
  },
  {
   "cell_type": "markdown",
   "metadata": {
    "id": "x-imyMSBUGaE"
   },
   "source": [
    "#### Exercise - leave-one-out cross-validation ❗❗\n",
    "\n",
    "* Can you now assess our previous kNN model configuration using the leave-one-out approach on the cleaned dataset?"
   ]
  },
  {
   "cell_type": "code",
   "execution_count": 33,
   "metadata": {
    "colab": {
     "base_uri": "https://localhost:8080/"
    },
    "id": "uc3jhsfoUZOD",
    "outputId": "a0c24615-5834-4d07-c243-2a7a35b9e13d"
   },
   "outputs": [
    {
     "name": "stdout",
     "output_type": "stream",
     "text": [
      "Number of folds:  5758\n"
     ]
    }
   ],
   "source": [
    "from sklearn.model_selection import LeaveOneOut\n",
    "\n",
    "X_clean = df_clean.drop(['Unnamed: 0', 'Id','CAS','SMILES','Status','Experimental value','Predicted value'],axis=1)\n",
    "\n",
    "loo = LeaveOneOut()\n",
    "print('Number of folds: ', loo.get_n_splits(X_clean))"
   ]
  },
  {
   "cell_type": "code",
   "execution_count": 34,
   "metadata": {
    "id": "irPFyGSuW5H-"
   },
   "outputs": [],
   "source": [
    "y_pred_loo_our_model = np.zeros(y_clean.shape[0])\n",
    "for i, (train_index, test_index) in enumerate(loo.split(X_clean)):\n",
    "  # Get training data for the current fold\n",
    "  X_train_loo = X_clean.iloc[train_index]\n",
    "  y_train_loo = y_clean.iloc[train_index]\n",
    "\n",
    "  # Get test data for the current fold\n",
    "  X_test_loo = X_clean.iloc[test_index]\n",
    "\n",
    "  # Train kNN\n",
    "  # Your code here\n",
    "\n",
    "  # Get prediction on the test molecule\n",
    "  # Your code here\n",
    "\n",
    "  # Store the prediction in `y_pred_loo_our_model`\n",
    "  # Your code here\n"
   ]
  },
  {
   "cell_type": "code",
   "execution_count": 35,
   "metadata": {
    "colab": {
     "base_uri": "https://localhost:8080/",
     "height": 403
    },
    "id": "6FW3Wk0KYWnC",
    "outputId": "9fdf9653-6705-4510-818c-0d15a1d2f5b6"
   },
   "outputs": [
    {
     "name": "stdout",
     "output_type": "stream",
     "text": [
      "Accuracy:   0.4357415769364363\n",
      "Precision:  0.0            \n",
      "Recall:     0.0            \n",
      "F1:         0.0            \n"
     ]
    },
    {
     "name": "stderr",
     "output_type": "stream",
     "text": [
      "C:\\Users\\DELL\\Anaconda3\\envs\\ML4ChemEng\\lib\\site-packages\\sklearn\\metrics\\_classification.py:1318: UndefinedMetricWarning: Precision is ill-defined and being set to 0.0 due to no predicted samples. Use `zero_division` parameter to control this behavior.\n",
      "  _warn_prf(average, modifier, msg_start, len(result))\n"
     ]
    },
    {
     "data": {
      "image/png": "[encoded data removed]",
      "text/plain": [
       "<Figure size 640x480 with 2 Axes>"
      ]
     },
     "metadata": {
      "filenames": {
       "image/png": "C:\\Users\\DELL\\Documents\\GitHub\\MLCE_book\\_build\\jupyter_execute\\02_kNN_QSPR_73_2.png"
      }
     },
     "output_type": "display_data"
    }
   ],
   "source": [
    "cm = confusion_matrix(y_clean, y_pred_loo_our_model)\n",
    "disp = ConfusionMatrixDisplay(confusion_matrix=cm)\n",
    "disp.plot()\n",
    "print('{:<10}  {:<15}'.format('Accuracy:', accuracy_score(y_clean, y_pred_loo_our_model)))\n",
    "print('{:<10}  {:<15}'.format('Precision:', precision_score(y_clean, y_pred_loo_our_model)))\n",
    "print('{:<10}  {:<15}'.format('Recall:', recall_score(y_clean, y_pred_loo_our_model)))\n",
    "print('{:<10}  {:<15}'.format('F1:', f1_score(y_clean, y_pred_loo_our_model)))"
   ]
  },
  {
   "cell_type": "markdown",
   "metadata": {
    "id": "uOnXu2eHHgUR"
   },
   "source": [
    "\n",
    "## Finding the best k in kNN 🔎\n",
    "\n",
    "What about the parameter k? How do we find the best k for our model? Why the VEGA model developers used k=4? Let's try to answer this...\n",
    "\n",
    "k is a hyperparameter of the model and should be chosen using a validation set.\n",
    "\n",
    "```{important}\n",
    "Remember to reserve your test set exclusively for assesing your model! Never use it for training or hyperparameter tuning!  \n",
    "```"
   ]
  },
  {
   "cell_type": "code",
   "execution_count": 36,
   "metadata": {
    "colab": {
     "base_uri": "https://localhost:8080/",
     "height": 49,
     "referenced_widgets": [
      "aaad2ac2b97a49a995318db161eb7e8c",
      "0de6090b275f41d392e39125417371a0",
      "0e0c8c9905914f96a2343ce8511a23e2",
      "c08dec14f83a4a53bc6dfa4bc546f3cd",
      "b9f5da16afc7479a9c8476e8ea530fe4",
      "d75ecef7757b4f6aad59f7d1c051e86d",
      "288e240bc19c41ba99d4850e7a69b84f",
      "13348e496931439f95d06faa9654b397",
      "2bc76da6df8c4d81b66149679231b90c",
      "9ca9f5f78d1542838c3f70ed43b67fc5",
      "5adbccfdcdc94958996b2c665c407b91"
     ]
    },
    "id": "GLeXAFEJnQj8",
    "outputId": "126b19f0-2956-4ed3-e1e5-8d61a5678aaa"
   },
   "outputs": [
    {
     "data": {
      "application/vnd.jupyter.widget-view+json": {
       "model_id": "dfe096ed45f04d8d9a2f041cf91e5d6c",
       "version_major": 2,
       "version_minor": 0
      },
      "text/plain": [
       "  0%|          | 0/50 [00:00<?, ?it/s]"
      ]
     },
     "metadata": {},
     "output_type": "display_data"
    }
   ],
   "source": [
    "import numpy as np\n",
    "from tqdm.notebook import tqdm\n",
    "\n",
    "num_ks = np.arange(1, 100, 2).astype(int)\n",
    "\n",
    "X_train_hyp, X_valid, y_train_hyp, y_valid = train_test_split(X_train, y_train, test_size=0.1, random_state=0)\n",
    "\n",
    "train_accuracy = []\n",
    "valid_accuracy = []\n",
    "\n",
    "for i in tqdm(range(len(num_ks))):\n",
    "  knn = KNeighborsClassifier(n_neighbors=num_ks[i])\n",
    "  knn.fit(X_train_hyp, y_train_hyp)\n",
    "\n",
    "  pred_train = knn.predict(X_train_hyp)\n",
    "  pred_valid  = knn.predict(X_valid)\n",
    "\n",
    "  train_accuracy.append(1-accuracy_score(y_train_hyp, pred_train))\n",
    "  valid_accuracy.append(1-accuracy_score(y_valid, pred_valid))"
   ]
  },
  {
   "cell_type": "code",
   "execution_count": 37,
   "metadata": {
    "colab": {
     "base_uri": "https://localhost:8080/",
     "height": 388
    },
    "id": "S4CftpmcHmKM",
    "outputId": "2ebaef92-7881-4efa-a1e7-83ba27b4e33c"
   },
   "outputs": [
    {
     "data": {
      "image/png": "[encoded data removed]",
      "text/plain": [
       "<Figure size 1000x600 with 1 Axes>"
      ]
     },
     "metadata": {
      "filenames": {
       "image/png": "C:\\Users\\DELL\\Documents\\GitHub\\MLCE_book\\_build\\jupyter_execute\\02_kNN_QSPR_76_0.png"
      }
     },
     "output_type": "display_data"
    }
   ],
   "source": [
    "plt.figure(figsize=(10,6))\n",
    "plt.plot(num_ks, train_accuracy, 'bs--', label='Train')\n",
    "plt.plot(num_ks, valid_accuracy, 'rx--', label='Validation')\n",
    "plt.xlabel('k')\n",
    "plt.ylabel('Misclasification rate')\n",
    "plt.legend()\n",
    "plt.show()"
   ]
  },
  {
   "cell_type": "markdown",
   "metadata": {
    "id": "kGhwzvOOHtd5"
   },
   "source": [
    "This graph is pretty similar to the one that we saw on slide 9 of Lecture 2. Here, we can see the expected general trend of the performance curves. \n",
    "\n",
    "Which k do you think is the best?"
   ]
  },
  {
   "cell_type": "markdown",
   "metadata": {
    "id": "7VJZyifr-4nR"
   },
   "source": [
    "### Cross-validation\n",
    "\n",
    "Problem: if validation set is small and noisy, it might be misleading\n",
    "Idea: Increase the size of the validation set\n",
    "Problem: This would reduce the size of the training set\n",
    "\n",
    "Then, let's use all data for training and validation using k-fold cross-validation!"
   ]
  },
  {
   "cell_type": "code",
   "execution_count": 38,
   "metadata": {
    "id": "t_6J0cmd_558"
   },
   "outputs": [],
   "source": [
    "from sklearn.model_selection import cross_validate"
   ]
  },
  {
   "cell_type": "code",
   "execution_count": 39,
   "metadata": {
    "colab": {
     "base_uri": "https://localhost:8080/",
     "height": 49,
     "referenced_widgets": [
      "69ca926a2c9f43cf8924e37bd0b877c7",
      "3c01401e8d2840108643b1c8a9ccdbbf",
      "70cfb205e4a247e7a31ab0c7cd74deaa",
      "79316a813a7144b2945174b1035bb942",
      "f58809a73ad148509fea882e38195b3b",
      "12cd20c72a5e4f8f87936782590b5a39",
      "23b576509e534df08f443e5b7d1094e1",
      "2844a934e25846eab5d7e30aba66812b",
      "ef0f8e04520f49ba880b1c735d7c44a7",
      "33ec3238cdfd407089f2e7119fd5ee25",
      "5bf819d878114c2cb0716e0fd7a2f560"
     ]
    },
    "id": "jXOO3iN3-3n2",
    "outputId": "77e76cfd-8c94-4985-c562-b65f26535822"
   },
   "outputs": [
    {
     "data": {
      "application/vnd.jupyter.widget-view+json": {
       "model_id": "55025f2ddf9440668807511e2440e46d",
       "version_major": 2,
       "version_minor": 0
      },
      "text/plain": [
       "  0%|          | 0/49 [00:00<?, ?it/s]"
      ]
     },
     "metadata": {},
     "output_type": "display_data"
    }
   ],
   "source": [
    "num_ks = np.arange(1, 50, 1).astype(int)\n",
    "\n",
    "train_misclassification = []\n",
    "valid_misclassification = []\n",
    "for i in tqdm(range(len(num_ks))):\n",
    "  knn = KNeighborsClassifier(n_neighbors=num_ks[i])\n",
    "  cv_dict = cross_validate(knn, X_train, y_train, cv=10, \n",
    "                                 scoring='accuracy', return_train_score=True)\n",
    "  \n",
    "  k_fold_train_scored = cv_dict['train_score']\n",
    "  k_fold_valid_scored = cv_dict['test_score']\n",
    "  \n",
    "  train_misclassification.append(1-k_fold_train_scored.mean())\n",
    "  valid_misclassification.append(1-k_fold_valid_scored.mean())\n",
    "  "
   ]
  },
  {
   "cell_type": "code",
   "execution_count": 40,
   "metadata": {
    "colab": {
     "base_uri": "https://localhost:8080/",
     "height": 388
    },
    "id": "fhwmbs0dzoyu",
    "outputId": "fe07dcef-8a1b-4f70-df83-12c1b787658b"
   },
   "outputs": [
    {
     "data": {
      "image/png": "[encoded data removed]",
      "text/plain": [
       "<Figure size 1000x600 with 1 Axes>"
      ]
     },
     "metadata": {
      "filenames": {
       "image/png": "C:\\Users\\DELL\\Documents\\GitHub\\MLCE_book\\_build\\jupyter_execute\\02_kNN_QSPR_81_0.png"
      }
     },
     "output_type": "display_data"
    }
   ],
   "source": [
    "plt.figure(figsize=(10,6))\n",
    "plt.plot(num_ks, train_misclassification, 'bs--', label='Train')\n",
    "plt.plot(num_ks, valid_misclassification, 'rx--', label='Validation')\n",
    "plt.xlabel('k')\n",
    "plt.ylabel('Misclasification rate')\n",
    "plt.legend()\n",
    "plt.show()"
   ]
  },
  {
   "cell_type": "code",
   "execution_count": 41,
   "metadata": {
    "colab": {
     "base_uri": "https://localhost:8080/"
    },
    "id": "1ruje72l3Gcv",
    "outputId": "0a1863b0-ce0f-4ae9-f3b2-2a525a8dd839"
   },
   "outputs": [
    {
     "name": "stdout",
     "output_type": "stream",
     "text": [
      "k with minimum validation misclassification:  14\n"
     ]
    }
   ],
   "source": [
    "print('k with minimum validation misclassification: ', num_ks[np.argmin(valid_misclassification)])"
   ]
  },
  {
   "cell_type": "code",
   "execution_count": 42,
   "metadata": {
    "colab": {
     "base_uri": "https://localhost:8080/",
     "height": 388
    },
    "id": "LeGHGE0Z4Iw9",
    "outputId": "6791c17f-50df-4c29-aa6f-75df825ba0ed"
   },
   "outputs": [
    {
     "data": {
      "image/png": "[encoded data removed]",
      "text/plain": [
       "<Figure size 1000x600 with 1 Axes>"
      ]
     },
     "metadata": {
      "filenames": {
       "image/png": "C:\\Users\\DELL\\Documents\\GitHub\\MLCE_book\\_build\\jupyter_execute\\02_kNN_QSPR_83_0.png"
      }
     },
     "output_type": "display_data"
    }
   ],
   "source": [
    "plt.figure(figsize=(10,6))\n",
    "plt.plot(num_ks, valid_misclassification, 'rx--', label='Validation')\n",
    "plt.yscale('log')\n",
    "plt.xlabel('k')\n",
    "plt.ylabel('Misclasification rate')\n",
    "plt.legend()\n",
    "plt.show()"
   ]
  },
  {
   "cell_type": "markdown",
   "metadata": {
    "id": "seihHrN44uia"
   },
   "source": [
    "You can now go back to your implementation of leave-one-out and train your kNN model using the best k that you found. How does it perform compared to the VEGA kNN? Do you got a better model? Why?"
   ]
  },
  {
   "cell_type": "markdown",
   "metadata": {
    "id": "IrYX_LjKkjcE"
   },
   "source": [
    "## Challenge - kNN QSPR for predicting BCF 🥇\n",
    "\n",
    "\n",
    "Develop a kNN model for regression to predict the bioconcentration factor (BCF).\n",
    "\n"
   ]
  },
  {
   "cell_type": "code",
   "execution_count": 43,
   "metadata": {
    "id": "rv1bQTxtVvuz"
   },
   "outputs": [],
   "source": [
    "if 'google.colab' in str(get_ipython()):\n",
    "  df_bcf = pd.read_csv(\"https://raw.githubusercontent.com/edgarsmdn/MLCE_book/main/references/BCF_training.csv\")\n",
    "else:\n",
    "  df_bcf = pd.read_csv(\"references/BCF_training.csv\")\n"
   ]
  },
  {
   "cell_type": "code",
   "execution_count": 44,
   "metadata": {
    "id": "X5a-AgMZ55Rj"
   },
   "outputs": [],
   "source": [
    "# Your code here"
   ]
  },
  {
   "cell_type": "markdown",
   "metadata": {},
   "source": [
    "## References\n",
    "\n",
    "```{bibliography}\n",
    ":filter: docname in docnames\n",
    "```"
   ]
  }
 ],
 "metadata": {
  "colab": {
   "provenance": [],
   "toc_visible": true
  },
  "kernelspec": {
   "display_name": "Python 3 (ipykernel)",
   "language": "python",
   "name": "python3"
  },
  "language_info": {
   "codemirror_mode": {
    "name": "ipython",
    "version": 3
   },
   "file_extension": ".py",
   "mimetype": "text/x-python",
   "name": "python",
   "nbconvert_exporter": "python",
   "pygments_lexer": "ipython3",
   "version": "3.7.15"
  },
  "widgets": {
   "application/vnd.jupyter.widget-state+json": {
    "state": {
     "0b7727ad3ddc4596a2bde1c9d71abe85": {
      "model_module": "@jupyter-widgets/controls",
      "model_module_version": "1.5.0",
      "model_name": "DescriptionStyleModel",
      "state": {
       "_model_module": "@jupyter-widgets/controls",
       "_model_module_version": "1.5.0",
       "_model_name": "DescriptionStyleModel",
       "_view_count": null,
       "_view_module": "@jupyter-widgets/base",
       "_view_module_version": "1.2.0",
       "_view_name": "StyleView",
       "description_width": ""
      }
     },
     "1a0b97cb40fc4531a19018a0c1c2dc4f": {
      "model_module": "@jupyter-widgets/controls",
      "model_module_version": "1.5.0",
      "model_name": "ProgressStyleModel",
      "state": {
       "_model_module": "@jupyter-widgets/controls",
       "_model_module_version": "1.5.0",
       "_model_name": "ProgressStyleModel",
       "_view_count": null,
       "_view_module": "@jupyter-widgets/base",
       "_view_module_version": "1.2.0",
       "_view_name": "StyleView",
       "bar_color": null,
       "description_width": ""
      }
     },
     "202fe4b4e2c24d7e90e122ae95e54a6a": {
      "model_module": "@jupyter-widgets/controls",
      "model_module_version": "1.5.0",
      "model_name": "HTMLModel",
      "state": {
       "_dom_classes": [],
       "_model_module": "@jupyter-widgets/controls",
       "_model_module_version": "1.5.0",
       "_model_name": "HTMLModel",
       "_view_count": null,
       "_view_module": "@jupyter-widgets/controls",
       "_view_module_version": "1.5.0",
       "_view_name": "HTMLView",
       "description": "",
       "description_tooltip": null,
       "layout": "IPY_MODEL_8e7e89f8499349559669ab59e84a2128",
       "placeholder": "​",
       "style": "IPY_MODEL_0b7727ad3ddc4596a2bde1c9d71abe85",
       "value": " 50/50 [00:19&lt;00:00,  2.04it/s]"
      }
     },
     "359b98cc5f9f4f0ab999422dd716509b": {
      "model_module": "@jupyter-widgets/controls",
      "model_module_version": "1.5.0",
      "model_name": "DescriptionStyleModel",
      "state": {
       "_model_module": "@jupyter-widgets/controls",
       "_model_module_version": "1.5.0",
       "_model_name": "DescriptionStyleModel",
       "_view_count": null,
       "_view_module": "@jupyter-widgets/base",
       "_view_module_version": "1.2.0",
       "_view_name": "StyleView",
       "description_width": ""
      }
     },
     "36bf9133ebdd401c9ceab0d40b4e151c": {
      "model_module": "@jupyter-widgets/base",
      "model_module_version": "1.2.0",
      "model_name": "LayoutModel",
      "state": {
       "_model_module": "@jupyter-widgets/base",
       "_model_module_version": "1.2.0",
       "_model_name": "LayoutModel",
       "_view_count": null,
       "_view_module": "@jupyter-widgets/base",
       "_view_module_version": "1.2.0",
       "_view_name": "LayoutView",
       "align_content": null,
       "align_items": null,
       "align_self": null,
       "border": null,
       "bottom": null,
       "display": null,
       "flex": null,
       "flex_flow": null,
       "grid_area": null,
       "grid_auto_columns": null,
       "grid_auto_flow": null,
       "grid_auto_rows": null,
       "grid_column": null,
       "grid_gap": null,
       "grid_row": null,
       "grid_template_areas": null,
       "grid_template_columns": null,
       "grid_template_rows": null,
       "height": null,
       "justify_content": null,
       "justify_items": null,
       "left": null,
       "margin": null,
       "max_height": null,
       "max_width": null,
       "min_height": null,
       "min_width": null,
       "object_fit": null,
       "object_position": null,
       "order": null,
       "overflow": null,
       "overflow_x": null,
       "overflow_y": null,
       "padding": null,
       "right": null,
       "top": null,
       "visibility": null,
       "width": null
      }
     },
     "39c89400111e40df92efdcc517dc9807": {
      "model_module": "@jupyter-widgets/base",
      "model_module_version": "1.2.0",
      "model_name": "LayoutModel",
      "state": {
       "_model_module": "@jupyter-widgets/base",
       "_model_module_version": "1.2.0",
       "_model_name": "LayoutModel",
       "_view_count": null,
       "_view_module": "@jupyter-widgets/base",
       "_view_module_version": "1.2.0",
       "_view_name": "LayoutView",
       "align_content": null,
       "align_items": null,
       "align_self": null,
       "border": null,
       "bottom": null,
       "display": null,
       "flex": null,
       "flex_flow": null,
       "grid_area": null,
       "grid_auto_columns": null,
       "grid_auto_flow": null,
       "grid_auto_rows": null,
       "grid_column": null,
       "grid_gap": null,
       "grid_row": null,
       "grid_template_areas": null,
       "grid_template_columns": null,
       "grid_template_rows": null,
       "height": null,
       "justify_content": null,
       "justify_items": null,
       "left": null,
       "margin": null,
       "max_height": null,
       "max_width": null,
       "min_height": null,
       "min_width": null,
       "object_fit": null,
       "object_position": null,
       "order": null,
       "overflow": null,
       "overflow_x": null,
       "overflow_y": null,
       "padding": null,
       "right": null,
       "top": null,
       "visibility": null,
       "width": null
      }
     },
     "55025f2ddf9440668807511e2440e46d": {
      "model_module": "@jupyter-widgets/controls",
      "model_module_version": "1.5.0",
      "model_name": "HBoxModel",
      "state": {
       "_dom_classes": [],
       "_model_module": "@jupyter-widgets/controls",
       "_model_module_version": "1.5.0",
       "_model_name": "HBoxModel",
       "_view_count": null,
       "_view_module": "@jupyter-widgets/controls",
       "_view_module_version": "1.5.0",
       "_view_name": "HBoxView",
       "box_style": "",
       "children": [
        "IPY_MODEL_b245420b636c4056b727a856b711a5c5",
        "IPY_MODEL_6395206bc3af43d9ba398abc6d504cd7",
        "IPY_MODEL_af9bd61cc5344297a1206302bac2a859"
       ],
       "layout": "IPY_MODEL_f1708accda8e413da5e1f419faf8cd2d"
      }
     },
     "619cced934844db092eba28f6419a92b": {
      "model_module": "@jupyter-widgets/base",
      "model_module_version": "1.2.0",
      "model_name": "LayoutModel",
      "state": {
       "_model_module": "@jupyter-widgets/base",
       "_model_module_version": "1.2.0",
       "_model_name": "LayoutModel",
       "_view_count": null,
       "_view_module": "@jupyter-widgets/base",
       "_view_module_version": "1.2.0",
       "_view_name": "LayoutView",
       "align_content": null,
       "align_items": null,
       "align_self": null,
       "border": null,
       "bottom": null,
       "display": null,
       "flex": null,
       "flex_flow": null,
       "grid_area": null,
       "grid_auto_columns": null,
       "grid_auto_flow": null,
       "grid_auto_rows": null,
       "grid_column": null,
       "grid_gap": null,
       "grid_row": null,
       "grid_template_areas": null,
       "grid_template_columns": null,
       "grid_template_rows": null,
       "height": null,
       "justify_content": null,
       "justify_items": null,
       "left": null,
       "margin": null,
       "max_height": null,
       "max_width": null,
       "min_height": null,
       "min_width": null,
       "object_fit": null,
       "object_position": null,
       "order": null,
       "overflow": null,
       "overflow_x": null,
       "overflow_y": null,
       "padding": null,
       "right": null,
       "top": null,
       "visibility": null,
       "width": null
      }
     },
     "6395206bc3af43d9ba398abc6d504cd7": {
      "model_module": "@jupyter-widgets/controls",
      "model_module_version": "1.5.0",
      "model_name": "FloatProgressModel",
      "state": {
       "_dom_classes": [],
       "_model_module": "@jupyter-widgets/controls",
       "_model_module_version": "1.5.0",
       "_model_name": "FloatProgressModel",
       "_view_count": null,
       "_view_module": "@jupyter-widgets/controls",
       "_view_module_version": "1.5.0",
       "_view_name": "ProgressView",
       "bar_style": "success",
       "description": "",
       "description_tooltip": null,
       "layout": "IPY_MODEL_e05783f940a441968911dc344c845dad",
       "max": 49.0,
       "min": 0.0,
       "orientation": "horizontal",
       "style": "IPY_MODEL_1a0b97cb40fc4531a19018a0c1c2dc4f",
       "value": 49.0
      }
     },
     "85686b50b9cf49a5b9ddd37ebb4f1715": {
      "model_module": "@jupyter-widgets/controls",
      "model_module_version": "1.5.0",
      "model_name": "DescriptionStyleModel",
      "state": {
       "_model_module": "@jupyter-widgets/controls",
       "_model_module_version": "1.5.0",
       "_model_name": "DescriptionStyleModel",
       "_view_count": null,
       "_view_module": "@jupyter-widgets/base",
       "_view_module_version": "1.2.0",
       "_view_name": "StyleView",
       "description_width": ""
      }
     },
     "89cca3eaf5b34cf0843487837afcc312": {
      "model_module": "@jupyter-widgets/base",
      "model_module_version": "1.2.0",
      "model_name": "LayoutModel",
      "state": {
       "_model_module": "@jupyter-widgets/base",
       "_model_module_version": "1.2.0",
       "_model_name": "LayoutModel",
       "_view_count": null,
       "_view_module": "@jupyter-widgets/base",
       "_view_module_version": "1.2.0",
       "_view_name": "LayoutView",
       "align_content": null,
       "align_items": null,
       "align_self": null,
       "border": null,
       "bottom": null,
       "display": null,
       "flex": null,
       "flex_flow": null,
       "grid_area": null,
       "grid_auto_columns": null,
       "grid_auto_flow": null,
       "grid_auto_rows": null,
       "grid_column": null,
       "grid_gap": null,
       "grid_row": null,
       "grid_template_areas": null,
       "grid_template_columns": null,
       "grid_template_rows": null,
       "height": null,
       "justify_content": null,
       "justify_items": null,
       "left": null,
       "margin": null,
       "max_height": null,
       "max_width": null,
       "min_height": null,
       "min_width": null,
       "object_fit": null,
       "object_position": null,
       "order": null,
       "overflow": null,
       "overflow_x": null,
       "overflow_y": null,
       "padding": null,
       "right": null,
       "top": null,
       "visibility": null,
       "width": null
      }
     },
     "8e7e89f8499349559669ab59e84a2128": {
      "model_module": "@jupyter-widgets/base",
      "model_module_version": "1.2.0",
      "model_name": "LayoutModel",
      "state": {
       "_model_module": "@jupyter-widgets/base",
       "_model_module_version": "1.2.0",
       "_model_name": "LayoutModel",
       "_view_count": null,
       "_view_module": "@jupyter-widgets/base",
       "_view_module_version": "1.2.0",
       "_view_name": "LayoutView",
       "align_content": null,
       "align_items": null,
       "align_self": null,
       "border": null,
       "bottom": null,
       "display": null,
       "flex": null,
       "flex_flow": null,
       "grid_area": null,
       "grid_auto_columns": null,
       "grid_auto_flow": null,
       "grid_auto_rows": null,
       "grid_column": null,
       "grid_gap": null,
       "grid_row": null,
       "grid_template_areas": null,
       "grid_template_columns": null,
       "grid_template_rows": null,
       "height": null,
       "justify_content": null,
       "justify_items": null,
       "left": null,
       "margin": null,
       "max_height": null,
       "max_width": null,
       "min_height": null,
       "min_width": null,
       "object_fit": null,
       "object_position": null,
       "order": null,
       "overflow": null,
       "overflow_x": null,
       "overflow_y": null,
       "padding": null,
       "right": null,
       "top": null,
       "visibility": null,
       "width": null
      }
     },
     "a1d10c692af24d348244caaa662f3fd3": {
      "model_module": "@jupyter-widgets/controls",
      "model_module_version": "1.5.0",
      "model_name": "DescriptionStyleModel",
      "state": {
       "_model_module": "@jupyter-widgets/controls",
       "_model_module_version": "1.5.0",
       "_model_name": "DescriptionStyleModel",
       "_view_count": null,
       "_view_module": "@jupyter-widgets/base",
       "_view_module_version": "1.2.0",
       "_view_name": "StyleView",
       "description_width": ""
      }
     },
     "a2d901e551364d05976de47381f798ca": {
      "model_module": "@jupyter-widgets/base",
      "model_module_version": "1.2.0",
      "model_name": "LayoutModel",
      "state": {
       "_model_module": "@jupyter-widgets/base",
       "_model_module_version": "1.2.0",
       "_model_name": "LayoutModel",
       "_view_count": null,
       "_view_module": "@jupyter-widgets/base",
       "_view_module_version": "1.2.0",
       "_view_name": "LayoutView",
       "align_content": null,
       "align_items": null,
       "align_self": null,
       "border": null,
       "bottom": null,
       "display": null,
       "flex": null,
       "flex_flow": null,
       "grid_area": null,
       "grid_auto_columns": null,
       "grid_auto_flow": null,
       "grid_auto_rows": null,
       "grid_column": null,
       "grid_gap": null,
       "grid_row": null,
       "grid_template_areas": null,
       "grid_template_columns": null,
       "grid_template_rows": null,
       "height": null,
       "justify_content": null,
       "justify_items": null,
       "left": null,
       "margin": null,
       "max_height": null,
       "max_width": null,
       "min_height": null,
       "min_width": null,
       "object_fit": null,
       "object_position": null,
       "order": null,
       "overflow": null,
       "overflow_x": null,
       "overflow_y": null,
       "padding": null,
       "right": null,
       "top": null,
       "visibility": null,
       "width": null
      }
     },
     "a7b214d81c2c456a82be6af16fea1dbc": {
      "model_module": "@jupyter-widgets/controls",
      "model_module_version": "1.5.0",
      "model_name": "ProgressStyleModel",
      "state": {
       "_model_module": "@jupyter-widgets/controls",
       "_model_module_version": "1.5.0",
       "_model_name": "ProgressStyleModel",
       "_view_count": null,
       "_view_module": "@jupyter-widgets/base",
       "_view_module_version": "1.2.0",
       "_view_name": "StyleView",
       "bar_color": null,
       "description_width": ""
      }
     },
     "af9bd61cc5344297a1206302bac2a859": {
      "model_module": "@jupyter-widgets/controls",
      "model_module_version": "1.5.0",
      "model_name": "HTMLModel",
      "state": {
       "_dom_classes": [],
       "_model_module": "@jupyter-widgets/controls",
       "_model_module_version": "1.5.0",
       "_model_name": "HTMLModel",
       "_view_count": null,
       "_view_module": "@jupyter-widgets/controls",
       "_view_module_version": "1.5.0",
       "_view_name": "HTMLView",
       "description": "",
       "description_tooltip": null,
       "layout": "IPY_MODEL_619cced934844db092eba28f6419a92b",
       "placeholder": "​",
       "style": "IPY_MODEL_85686b50b9cf49a5b9ddd37ebb4f1715",
       "value": " 49/49 [02:35&lt;00:00,  3.79s/it]"
      }
     },
     "b245420b636c4056b727a856b711a5c5": {
      "model_module": "@jupyter-widgets/controls",
      "model_module_version": "1.5.0",
      "model_name": "HTMLModel",
      "state": {
       "_dom_classes": [],
       "_model_module": "@jupyter-widgets/controls",
       "_model_module_version": "1.5.0",
       "_model_name": "HTMLModel",
       "_view_count": null,
       "_view_module": "@jupyter-widgets/controls",
       "_view_module_version": "1.5.0",
       "_view_name": "HTMLView",
       "description": "",
       "description_tooltip": null,
       "layout": "IPY_MODEL_a2d901e551364d05976de47381f798ca",
       "placeholder": "​",
       "style": "IPY_MODEL_359b98cc5f9f4f0ab999422dd716509b",
       "value": "100%"
      }
     },
     "dfe096ed45f04d8d9a2f041cf91e5d6c": {
      "model_module": "@jupyter-widgets/controls",
      "model_module_version": "1.5.0",
      "model_name": "HBoxModel",
      "state": {
       "_dom_classes": [],
       "_model_module": "@jupyter-widgets/controls",
       "_model_module_version": "1.5.0",
       "_model_name": "HBoxModel",
       "_view_count": null,
       "_view_module": "@jupyter-widgets/controls",
       "_view_module_version": "1.5.0",
       "_view_name": "HBoxView",
       "box_style": "",
       "children": [
        "IPY_MODEL_ff7a3f339bb24bb88677cd639f0b1a53",
        "IPY_MODEL_fbb2767acd4946f286a8dfc4d38106db",
        "IPY_MODEL_202fe4b4e2c24d7e90e122ae95e54a6a"
       ],
       "layout": "IPY_MODEL_36bf9133ebdd401c9ceab0d40b4e151c"
      }
     },
     "e05783f940a441968911dc344c845dad": {
      "model_module": "@jupyter-widgets/base",
      "model_module_version": "1.2.0",
      "model_name": "LayoutModel",
      "state": {
       "_model_module": "@jupyter-widgets/base",
       "_model_module_version": "1.2.0",
       "_model_name": "LayoutModel",
       "_view_count": null,
       "_view_module": "@jupyter-widgets/base",
       "_view_module_version": "1.2.0",
       "_view_name": "LayoutView",
       "align_content": null,
       "align_items": null,
       "align_self": null,
       "border": null,
       "bottom": null,
       "display": null,
       "flex": null,
       "flex_flow": null,
       "grid_area": null,
       "grid_auto_columns": null,
       "grid_auto_flow": null,
       "grid_auto_rows": null,
       "grid_column": null,
       "grid_gap": null,
       "grid_row": null,
       "grid_template_areas": null,
       "grid_template_columns": null,
       "grid_template_rows": null,
       "height": null,
       "justify_content": null,
       "justify_items": null,
       "left": null,
       "margin": null,
       "max_height": null,
       "max_width": null,
       "min_height": null,
       "min_width": null,
       "object_fit": null,
       "object_position": null,
       "order": null,
       "overflow": null,
       "overflow_x": null,
       "overflow_y": null,
       "padding": null,
       "right": null,
       "top": null,
       "visibility": null,
       "width": null
      }
     },
     "f1708accda8e413da5e1f419faf8cd2d": {
      "model_module": "@jupyter-widgets/base",
      "model_module_version": "1.2.0",
      "model_name": "LayoutModel",
      "state": {
       "_model_module": "@jupyter-widgets/base",
       "_model_module_version": "1.2.0",
       "_model_name": "LayoutModel",
       "_view_count": null,
       "_view_module": "@jupyter-widgets/base",
       "_view_module_version": "1.2.0",
       "_view_name": "LayoutView",
       "align_content": null,
       "align_items": null,
       "align_self": null,
       "border": null,
       "bottom": null,
       "display": null,
       "flex": null,
       "flex_flow": null,
       "grid_area": null,
       "grid_auto_columns": null,
       "grid_auto_flow": null,
       "grid_auto_rows": null,
       "grid_column": null,
       "grid_gap": null,
       "grid_row": null,
       "grid_template_areas": null,
       "grid_template_columns": null,
       "grid_template_rows": null,
       "height": null,
       "justify_content": null,
       "justify_items": null,
       "left": null,
       "margin": null,
       "max_height": null,
       "max_width": null,
       "min_height": null,
       "min_width": null,
       "object_fit": null,
       "object_position": null,
       "order": null,
       "overflow": null,
       "overflow_x": null,
       "overflow_y": null,
       "padding": null,
       "right": null,
       "top": null,
       "visibility": null,
       "width": null
      }
     },
     "fbb2767acd4946f286a8dfc4d38106db": {
      "model_module": "@jupyter-widgets/controls",
      "model_module_version": "1.5.0",
      "model_name": "FloatProgressModel",
      "state": {
       "_dom_classes": [],
       "_model_module": "@jupyter-widgets/controls",
       "_model_module_version": "1.5.0",
       "_model_name": "FloatProgressModel",
       "_view_count": null,
       "_view_module": "@jupyter-widgets/controls",
       "_view_module_version": "1.5.0",
       "_view_name": "ProgressView",
       "bar_style": "success",
       "description": "",
       "description_tooltip": null,
       "layout": "IPY_MODEL_39c89400111e40df92efdcc517dc9807",
       "max": 50.0,
       "min": 0.0,
       "orientation": "horizontal",
       "style": "IPY_MODEL_a7b214d81c2c456a82be6af16fea1dbc",
       "value": 50.0
      }
     },
     "ff7a3f339bb24bb88677cd639f0b1a53": {
      "model_module": "@jupyter-widgets/controls",
      "model_module_version": "1.5.0",
      "model_name": "HTMLModel",
      "state": {
       "_dom_classes": [],
       "_model_module": "@jupyter-widgets/controls",
       "_model_module_version": "1.5.0",
       "_model_name": "HTMLModel",
       "_view_count": null,
       "_view_module": "@jupyter-widgets/controls",
       "_view_module_version": "1.5.0",
       "_view_name": "HTMLView",
       "description": "",
       "description_tooltip": null,
       "layout": "IPY_MODEL_89cca3eaf5b34cf0843487837afcc312",
       "placeholder": "​",
       "style": "IPY_MODEL_a1d10c692af24d348244caaa662f3fd3",
       "value": "100%"
      }
     }
    },
    "version_major": 2,
    "version_minor": 0
   }
  }
 },
 "nbformat": 4,
 "nbformat_minor": 1
}